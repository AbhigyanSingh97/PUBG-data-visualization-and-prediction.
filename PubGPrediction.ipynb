{
  "nbformat": 4,
  "nbformat_minor": 0,
  "metadata": {
    "colab": {
      "name": "PubGPrediction.ipynb",
      "provenance": [],
      "machine_shape": "hm",
      "authorship_tag": "ABX9TyN8eZBEgUPxn16ms813pcu/",
      "include_colab_link": true
    },
    "kernelspec": {
      "name": "python3",
      "display_name": "Python 3"
    }
  },
  "cells": [
    {
      "cell_type": "markdown",
      "metadata": {
        "id": "view-in-github",
        "colab_type": "text"
      },
      "source": [
        "<a href=\"https://colab.research.google.com/github/AbhigyanSingh97/PUBG-data-visualization-and-prediction./blob/master/PubGPrediction.ipynb\" target=\"_parent\"><img src=\"https://colab.research.google.com/assets/colab-badge.svg\" alt=\"Open In Colab\"/></a>"
      ]
    },
    {
      "cell_type": "code",
      "metadata": {
        "id": "jprxwxnjRXix",
        "colab_type": "code",
        "outputId": "20b95b85-4700-4897-e598-0f10eb14d64c",
        "colab": {
          "base_uri": "https://localhost:8080/",
          "height": 34
        }
      },
      "source": [
        "from google.colab import drive\n",
        "drive.mount('/content/drive')"
      ],
      "execution_count": 3,
      "outputs": [
        {
          "output_type": "stream",
          "text": [
            "Drive already mounted at /content/drive; to attempt to forcibly remount, call drive.mount(\"/content/drive\", force_remount=True).\n"
          ],
          "name": "stdout"
        }
      ]
    },
    {
      "cell_type": "code",
      "metadata": {
        "id": "z26TqXvlcw2a",
        "colab_type": "code",
        "colab": {}
      },
      "source": [
        "import numpy as np\n",
        "import pandas as pd\n",
        "import matplotlib.pyplot as plt\n",
        "import seaborn as sns\n",
        "import itertools\n",
        "import warnings\n",
        "warnings.filterwarnings(\"ignore\")"
      ],
      "execution_count": 0,
      "outputs": []
    },
    {
      "cell_type": "code",
      "metadata": {
        "id": "R5SYFLPLd51y",
        "colab_type": "code",
        "colab": {}
      },
      "source": [
        "def reduce_mem_usage(df):\n",
        "    \"\"\" iterate through all the columns of a dataframe and modify the data type\n",
        "        to reduce memory usage.\n",
        "    \"\"\"\n",
        "    start_mem = df.memory_usage().sum() / 1024**2\n",
        "    \n",
        "    for col in df.columns:\n",
        "        col_type = df[col].dtype\n",
        "        \n",
        "        if col_type != object:\n",
        "            c_min = df[col].min()\n",
        "            c_max = df[col].max()\n",
        "            if str(col_type)[:3] == 'int':\n",
        "                if c_min > np.iinfo(np.int8).min and c_max < np.iinfo(np.int8).max:\n",
        "                    df[col] = df[col].astype(np.int8)\n",
        "                elif c_min > np.iinfo(np.int16).min and c_max < np.iinfo(np.int16).max:\n",
        "                    df[col] = df[col].astype(np.int16)\n",
        "                elif c_min > np.iinfo(np.int32).min and c_max < np.iinfo(np.int32).max:\n",
        "                    df[col] = df[col].astype(np.int32)\n",
        "                elif c_min > np.iinfo(np.int64).min and c_max < np.iinfo(np.int64).max:\n",
        "                    df[col] = df[col].astype(np.int64)\n",
        "            else:\n",
        "                #if c_min > np.finfo(np.float16).min and c_max < np.finfo(np.float16).max:\n",
        "                #    df[col] = df[col].astype(np.float16)\n",
        "                #el\n",
        "                if c_min > np.finfo(np.float32).min and c_max < np.finfo(np.float32).max:\n",
        "                    df[col] = df[col].astype(np.float32)\n",
        "                else:\n",
        "                    df[col] = df[col].astype(np.float64)\n",
        "        #else:\n",
        "            #df[col] = df[col].astype('category')\n",
        "\n",
        "    end_mem = df.memory_usage().sum() / 1024**2\n",
        "    print('Memory usage of dataframe is {:.2f} MB --> {:.2f} MB (Decreased by {:.1f}%)'.format(\n",
        "        start_mem, end_mem, 100 * (start_mem - end_mem) / start_mem))\n",
        "    return df"
      ],
      "execution_count": 0,
      "outputs": []
    },
    {
      "cell_type": "code",
      "metadata": {
        "id": "R8ILds27ew9w",
        "colab_type": "code",
        "outputId": "547fb074-7f8e-409b-f6f4-de7a21601089",
        "colab": {
          "base_uri": "https://localhost:8080/",
          "height": 67
        }
      },
      "source": [
        "\n",
        "train = pd.read_csv('/content/drive/My Drive/pubg-finish-placement-prediction/train_V2.csv')\n",
        "train = reduce_mem_usage(train)\n",
        "test = pd.read_csv('/content/drive/My Drive/pubg-finish-placement-prediction/test_V2.csv')\n",
        "test = reduce_mem_usage(test)\n",
        "print(train.shape, test.shape)\n"
      ],
      "execution_count": 6,
      "outputs": [
        {
          "output_type": "stream",
          "text": [
            "Memory usage of dataframe is 983.90 MB --> 339.28 MB (Decreased by 65.5%)\n",
            "Memory usage of dataframe is 413.18 MB --> 140.19 MB (Decreased by 66.1%)\n",
            "(4446966, 29) (1934174, 28)\n"
          ],
          "name": "stdout"
        }
      ]
    },
    {
      "cell_type": "code",
      "metadata": {
        "id": "BtrpnX1lioAd",
        "colab_type": "code",
        "outputId": "603cddcb-7afd-452b-fd79-2f7073193429",
        "colab": {
          "base_uri": "https://localhost:8080/",
          "height": 622
        }
      },
      "source": [
        "train.info()"
      ],
      "execution_count": 7,
      "outputs": [
        {
          "output_type": "stream",
          "text": [
            "<class 'pandas.core.frame.DataFrame'>\n",
            "RangeIndex: 4446966 entries, 0 to 4446965\n",
            "Data columns (total 29 columns):\n",
            " #   Column           Dtype  \n",
            "---  ------           -----  \n",
            " 0   Id               object \n",
            " 1   groupId          object \n",
            " 2   matchId          object \n",
            " 3   assists          int8   \n",
            " 4   boosts           int8   \n",
            " 5   damageDealt      float32\n",
            " 6   DBNOs            int8   \n",
            " 7   headshotKills    int8   \n",
            " 8   heals            int8   \n",
            " 9   killPlace        int8   \n",
            " 10  killPoints       int16  \n",
            " 11  kills            int8   \n",
            " 12  killStreaks      int8   \n",
            " 13  longestKill      float32\n",
            " 14  matchDuration    int16  \n",
            " 15  matchType        object \n",
            " 16  maxPlace         int8   \n",
            " 17  numGroups        int8   \n",
            " 18  rankPoints       int16  \n",
            " 19  revives          int8   \n",
            " 20  rideDistance     float32\n",
            " 21  roadKills        int8   \n",
            " 22  swimDistance     float32\n",
            " 23  teamKills        int8   \n",
            " 24  vehicleDestroys  int8   \n",
            " 25  walkDistance     float32\n",
            " 26  weaponsAcquired  int16  \n",
            " 27  winPoints        int16  \n",
            " 28  winPlacePerc     float32\n",
            "dtypes: float32(6), int16(5), int8(14), object(4)\n",
            "memory usage: 339.3+ MB\n"
          ],
          "name": "stdout"
        }
      ]
    },
    {
      "cell_type": "code",
      "metadata": {
        "id": "TGS5XhzVirGT",
        "colab_type": "code",
        "outputId": "601087b5-bcca-4f68-89a8-2beaf6c9c9da",
        "colab": {
          "base_uri": "https://localhost:8080/",
          "height": 215
        }
      },
      "source": [
        "train.head()"
      ],
      "execution_count": 8,
      "outputs": [
        {
          "output_type": "execute_result",
          "data": {
            "text/html": [
              "<div>\n",
              "<style scoped>\n",
              "    .dataframe tbody tr th:only-of-type {\n",
              "        vertical-align: middle;\n",
              "    }\n",
              "\n",
              "    .dataframe tbody tr th {\n",
              "        vertical-align: top;\n",
              "    }\n",
              "\n",
              "    .dataframe thead th {\n",
              "        text-align: right;\n",
              "    }\n",
              "</style>\n",
              "<table border=\"1\" class=\"dataframe\">\n",
              "  <thead>\n",
              "    <tr style=\"text-align: right;\">\n",
              "      <th></th>\n",
              "      <th>Id</th>\n",
              "      <th>groupId</th>\n",
              "      <th>matchId</th>\n",
              "      <th>assists</th>\n",
              "      <th>boosts</th>\n",
              "      <th>damageDealt</th>\n",
              "      <th>DBNOs</th>\n",
              "      <th>headshotKills</th>\n",
              "      <th>heals</th>\n",
              "      <th>killPlace</th>\n",
              "      <th>killPoints</th>\n",
              "      <th>kills</th>\n",
              "      <th>killStreaks</th>\n",
              "      <th>longestKill</th>\n",
              "      <th>matchDuration</th>\n",
              "      <th>matchType</th>\n",
              "      <th>maxPlace</th>\n",
              "      <th>numGroups</th>\n",
              "      <th>rankPoints</th>\n",
              "      <th>revives</th>\n",
              "      <th>rideDistance</th>\n",
              "      <th>roadKills</th>\n",
              "      <th>swimDistance</th>\n",
              "      <th>teamKills</th>\n",
              "      <th>vehicleDestroys</th>\n",
              "      <th>walkDistance</th>\n",
              "      <th>weaponsAcquired</th>\n",
              "      <th>winPoints</th>\n",
              "      <th>winPlacePerc</th>\n",
              "    </tr>\n",
              "  </thead>\n",
              "  <tbody>\n",
              "    <tr>\n",
              "      <th>0</th>\n",
              "      <td>7f96b2f878858a</td>\n",
              "      <td>4d4b580de459be</td>\n",
              "      <td>a10357fd1a4a91</td>\n",
              "      <td>0</td>\n",
              "      <td>0</td>\n",
              "      <td>0.000000</td>\n",
              "      <td>0</td>\n",
              "      <td>0</td>\n",
              "      <td>0</td>\n",
              "      <td>60</td>\n",
              "      <td>1241</td>\n",
              "      <td>0</td>\n",
              "      <td>0</td>\n",
              "      <td>0.000000</td>\n",
              "      <td>1306</td>\n",
              "      <td>squad-fpp</td>\n",
              "      <td>28</td>\n",
              "      <td>26</td>\n",
              "      <td>-1</td>\n",
              "      <td>0</td>\n",
              "      <td>0.0000</td>\n",
              "      <td>0</td>\n",
              "      <td>0.00</td>\n",
              "      <td>0</td>\n",
              "      <td>0</td>\n",
              "      <td>244.800003</td>\n",
              "      <td>1</td>\n",
              "      <td>1466</td>\n",
              "      <td>0.4444</td>\n",
              "    </tr>\n",
              "    <tr>\n",
              "      <th>1</th>\n",
              "      <td>eef90569b9d03c</td>\n",
              "      <td>684d5656442f9e</td>\n",
              "      <td>aeb375fc57110c</td>\n",
              "      <td>0</td>\n",
              "      <td>0</td>\n",
              "      <td>91.470001</td>\n",
              "      <td>0</td>\n",
              "      <td>0</td>\n",
              "      <td>0</td>\n",
              "      <td>57</td>\n",
              "      <td>0</td>\n",
              "      <td>0</td>\n",
              "      <td>0</td>\n",
              "      <td>0.000000</td>\n",
              "      <td>1777</td>\n",
              "      <td>squad-fpp</td>\n",
              "      <td>26</td>\n",
              "      <td>25</td>\n",
              "      <td>1484</td>\n",
              "      <td>0</td>\n",
              "      <td>0.0045</td>\n",
              "      <td>0</td>\n",
              "      <td>11.04</td>\n",
              "      <td>0</td>\n",
              "      <td>0</td>\n",
              "      <td>1434.000000</td>\n",
              "      <td>5</td>\n",
              "      <td>0</td>\n",
              "      <td>0.6400</td>\n",
              "    </tr>\n",
              "    <tr>\n",
              "      <th>2</th>\n",
              "      <td>1eaf90ac73de72</td>\n",
              "      <td>6a4a42c3245a74</td>\n",
              "      <td>110163d8bb94ae</td>\n",
              "      <td>1</td>\n",
              "      <td>0</td>\n",
              "      <td>68.000000</td>\n",
              "      <td>0</td>\n",
              "      <td>0</td>\n",
              "      <td>0</td>\n",
              "      <td>47</td>\n",
              "      <td>0</td>\n",
              "      <td>0</td>\n",
              "      <td>0</td>\n",
              "      <td>0.000000</td>\n",
              "      <td>1318</td>\n",
              "      <td>duo</td>\n",
              "      <td>50</td>\n",
              "      <td>47</td>\n",
              "      <td>1491</td>\n",
              "      <td>0</td>\n",
              "      <td>0.0000</td>\n",
              "      <td>0</td>\n",
              "      <td>0.00</td>\n",
              "      <td>0</td>\n",
              "      <td>0</td>\n",
              "      <td>161.800003</td>\n",
              "      <td>2</td>\n",
              "      <td>0</td>\n",
              "      <td>0.7755</td>\n",
              "    </tr>\n",
              "    <tr>\n",
              "      <th>3</th>\n",
              "      <td>4616d365dd2853</td>\n",
              "      <td>a930a9c79cd721</td>\n",
              "      <td>f1f1f4ef412d7e</td>\n",
              "      <td>0</td>\n",
              "      <td>0</td>\n",
              "      <td>32.900002</td>\n",
              "      <td>0</td>\n",
              "      <td>0</td>\n",
              "      <td>0</td>\n",
              "      <td>75</td>\n",
              "      <td>0</td>\n",
              "      <td>0</td>\n",
              "      <td>0</td>\n",
              "      <td>0.000000</td>\n",
              "      <td>1436</td>\n",
              "      <td>squad-fpp</td>\n",
              "      <td>31</td>\n",
              "      <td>30</td>\n",
              "      <td>1408</td>\n",
              "      <td>0</td>\n",
              "      <td>0.0000</td>\n",
              "      <td>0</td>\n",
              "      <td>0.00</td>\n",
              "      <td>0</td>\n",
              "      <td>0</td>\n",
              "      <td>202.699997</td>\n",
              "      <td>3</td>\n",
              "      <td>0</td>\n",
              "      <td>0.1667</td>\n",
              "    </tr>\n",
              "    <tr>\n",
              "      <th>4</th>\n",
              "      <td>315c96c26c9aac</td>\n",
              "      <td>de04010b3458dd</td>\n",
              "      <td>6dc8ff871e21e6</td>\n",
              "      <td>0</td>\n",
              "      <td>0</td>\n",
              "      <td>100.000000</td>\n",
              "      <td>0</td>\n",
              "      <td>0</td>\n",
              "      <td>0</td>\n",
              "      <td>45</td>\n",
              "      <td>0</td>\n",
              "      <td>1</td>\n",
              "      <td>1</td>\n",
              "      <td>58.529999</td>\n",
              "      <td>1424</td>\n",
              "      <td>solo-fpp</td>\n",
              "      <td>97</td>\n",
              "      <td>95</td>\n",
              "      <td>1560</td>\n",
              "      <td>0</td>\n",
              "      <td>0.0000</td>\n",
              "      <td>0</td>\n",
              "      <td>0.00</td>\n",
              "      <td>0</td>\n",
              "      <td>0</td>\n",
              "      <td>49.750000</td>\n",
              "      <td>2</td>\n",
              "      <td>0</td>\n",
              "      <td>0.1875</td>\n",
              "    </tr>\n",
              "  </tbody>\n",
              "</table>\n",
              "</div>"
            ],
            "text/plain": [
              "               Id         groupId  ... winPoints  winPlacePerc\n",
              "0  7f96b2f878858a  4d4b580de459be  ...      1466        0.4444\n",
              "1  eef90569b9d03c  684d5656442f9e  ...         0        0.6400\n",
              "2  1eaf90ac73de72  6a4a42c3245a74  ...         0        0.7755\n",
              "3  4616d365dd2853  a930a9c79cd721  ...         0        0.1667\n",
              "4  315c96c26c9aac  de04010b3458dd  ...         0        0.1875\n",
              "\n",
              "[5 rows x 29 columns]"
            ]
          },
          "metadata": {
            "tags": []
          },
          "execution_count": 8
        }
      ]
    },
    {
      "cell_type": "markdown",
      "metadata": {
        "id": "urraQZIbjd6I",
        "colab_type": "text"
      },
      "source": [
        "Checking the missing data"
      ]
    },
    {
      "cell_type": "code",
      "metadata": {
        "id": "AGrGdnl0iwzr",
        "colab_type": "code",
        "colab": {}
      },
      "source": [
        "def check_missing_data(df):\n",
        "    flag=df.isna().sum().any()\n",
        "    if flag==True:\n",
        "        total = df.isnull().sum()\n",
        "        percent = (df.isnull().sum())/(df.isnull().count()*100)\n",
        "        output = pd.concat([total, percent], axis=1, keys=['Total', 'Percent'])\n",
        "        data_type = []\n",
        "        for col in df.columns:\n",
        "            dtype = str(df[col].dtype)\n",
        "            data_type.append(dtype)\n",
        "        output['Types'] = data_type\n",
        "        return(np.transpose(output))\n",
        "    else:\n",
        "        return(False)"
      ],
      "execution_count": 0,
      "outputs": []
    },
    {
      "cell_type": "code",
      "metadata": {
        "id": "OnUxGUuhi-0U",
        "colab_type": "code",
        "outputId": "4b1eb69b-1098-4d39-a99f-3bfb7a073dd9",
        "colab": {
          "base_uri": "https://localhost:8080/",
          "height": 156
        }
      },
      "source": [
        "check_missing_data(train)"
      ],
      "execution_count": 10,
      "outputs": [
        {
          "output_type": "execute_result",
          "data": {
            "text/html": [
              "<div>\n",
              "<style scoped>\n",
              "    .dataframe tbody tr th:only-of-type {\n",
              "        vertical-align: middle;\n",
              "    }\n",
              "\n",
              "    .dataframe tbody tr th {\n",
              "        vertical-align: top;\n",
              "    }\n",
              "\n",
              "    .dataframe thead th {\n",
              "        text-align: right;\n",
              "    }\n",
              "</style>\n",
              "<table border=\"1\" class=\"dataframe\">\n",
              "  <thead>\n",
              "    <tr style=\"text-align: right;\">\n",
              "      <th></th>\n",
              "      <th>Id</th>\n",
              "      <th>groupId</th>\n",
              "      <th>matchId</th>\n",
              "      <th>assists</th>\n",
              "      <th>boosts</th>\n",
              "      <th>damageDealt</th>\n",
              "      <th>DBNOs</th>\n",
              "      <th>headshotKills</th>\n",
              "      <th>heals</th>\n",
              "      <th>killPlace</th>\n",
              "      <th>killPoints</th>\n",
              "      <th>kills</th>\n",
              "      <th>killStreaks</th>\n",
              "      <th>longestKill</th>\n",
              "      <th>matchDuration</th>\n",
              "      <th>matchType</th>\n",
              "      <th>maxPlace</th>\n",
              "      <th>numGroups</th>\n",
              "      <th>rankPoints</th>\n",
              "      <th>revives</th>\n",
              "      <th>rideDistance</th>\n",
              "      <th>roadKills</th>\n",
              "      <th>swimDistance</th>\n",
              "      <th>teamKills</th>\n",
              "      <th>vehicleDestroys</th>\n",
              "      <th>walkDistance</th>\n",
              "      <th>weaponsAcquired</th>\n",
              "      <th>winPoints</th>\n",
              "      <th>winPlacePerc</th>\n",
              "    </tr>\n",
              "  </thead>\n",
              "  <tbody>\n",
              "    <tr>\n",
              "      <th>Total</th>\n",
              "      <td>0</td>\n",
              "      <td>0</td>\n",
              "      <td>0</td>\n",
              "      <td>0</td>\n",
              "      <td>0</td>\n",
              "      <td>0</td>\n",
              "      <td>0</td>\n",
              "      <td>0</td>\n",
              "      <td>0</td>\n",
              "      <td>0</td>\n",
              "      <td>0</td>\n",
              "      <td>0</td>\n",
              "      <td>0</td>\n",
              "      <td>0</td>\n",
              "      <td>0</td>\n",
              "      <td>0</td>\n",
              "      <td>0</td>\n",
              "      <td>0</td>\n",
              "      <td>0</td>\n",
              "      <td>0</td>\n",
              "      <td>0</td>\n",
              "      <td>0</td>\n",
              "      <td>0</td>\n",
              "      <td>0</td>\n",
              "      <td>0</td>\n",
              "      <td>0</td>\n",
              "      <td>0</td>\n",
              "      <td>0</td>\n",
              "      <td>1</td>\n",
              "    </tr>\n",
              "    <tr>\n",
              "      <th>Percent</th>\n",
              "      <td>0</td>\n",
              "      <td>0</td>\n",
              "      <td>0</td>\n",
              "      <td>0</td>\n",
              "      <td>0</td>\n",
              "      <td>0</td>\n",
              "      <td>0</td>\n",
              "      <td>0</td>\n",
              "      <td>0</td>\n",
              "      <td>0</td>\n",
              "      <td>0</td>\n",
              "      <td>0</td>\n",
              "      <td>0</td>\n",
              "      <td>0</td>\n",
              "      <td>0</td>\n",
              "      <td>0</td>\n",
              "      <td>0</td>\n",
              "      <td>0</td>\n",
              "      <td>0</td>\n",
              "      <td>0</td>\n",
              "      <td>0</td>\n",
              "      <td>0</td>\n",
              "      <td>0</td>\n",
              "      <td>0</td>\n",
              "      <td>0</td>\n",
              "      <td>0</td>\n",
              "      <td>0</td>\n",
              "      <td>0</td>\n",
              "      <td>2.24872e-09</td>\n",
              "    </tr>\n",
              "    <tr>\n",
              "      <th>Types</th>\n",
              "      <td>object</td>\n",
              "      <td>object</td>\n",
              "      <td>object</td>\n",
              "      <td>int8</td>\n",
              "      <td>int8</td>\n",
              "      <td>float32</td>\n",
              "      <td>int8</td>\n",
              "      <td>int8</td>\n",
              "      <td>int8</td>\n",
              "      <td>int8</td>\n",
              "      <td>int16</td>\n",
              "      <td>int8</td>\n",
              "      <td>int8</td>\n",
              "      <td>float32</td>\n",
              "      <td>int16</td>\n",
              "      <td>object</td>\n",
              "      <td>int8</td>\n",
              "      <td>int8</td>\n",
              "      <td>int16</td>\n",
              "      <td>int8</td>\n",
              "      <td>float32</td>\n",
              "      <td>int8</td>\n",
              "      <td>float32</td>\n",
              "      <td>int8</td>\n",
              "      <td>int8</td>\n",
              "      <td>float32</td>\n",
              "      <td>int16</td>\n",
              "      <td>int16</td>\n",
              "      <td>float32</td>\n",
              "    </tr>\n",
              "  </tbody>\n",
              "</table>\n",
              "</div>"
            ],
            "text/plain": [
              "             Id groupId matchId  ... weaponsAcquired winPoints winPlacePerc\n",
              "Total         0       0       0  ...               0         0            1\n",
              "Percent       0       0       0  ...               0         0  2.24872e-09\n",
              "Types    object  object  object  ...           int16     int16      float32\n",
              "\n",
              "[3 rows x 29 columns]"
            ]
          },
          "metadata": {
            "tags": []
          },
          "execution_count": 10
        }
      ]
    },
    {
      "cell_type": "code",
      "metadata": {
        "id": "2uA5HV3bjII4",
        "colab_type": "code",
        "outputId": "edd5fe8d-fdb8-4ffe-c3c0-041990e108f1",
        "colab": {
          "base_uri": "https://localhost:8080/",
          "height": 34
        }
      },
      "source": [
        "check_missing_data(test)"
      ],
      "execution_count": 11,
      "outputs": [
        {
          "output_type": "execute_result",
          "data": {
            "text/plain": [
              "False"
            ]
          },
          "metadata": {
            "tags": []
          },
          "execution_count": 11
        }
      ]
    },
    {
      "cell_type": "markdown",
      "metadata": {
        "id": "ixfXYX28Psea",
        "colab_type": "text"
      },
      "source": [
        "# EDA and Data cleaning\n",
        "\n"
      ]
    },
    {
      "cell_type": "markdown",
      "metadata": {
        "id": "lxbee81Rddel",
        "colab_type": "text"
      },
      "source": [
        "## EDA"
      ]
    },
    {
      "cell_type": "code",
      "metadata": {
        "id": "mPub-T-pjMir",
        "colab_type": "code",
        "outputId": "b78638d2-de1c-458f-9ab7-31207b4762c0",
        "colab": {
          "base_uri": "https://localhost:8080/",
          "height": 67
        }
      },
      "source": [
        "for i in ['Id','groupId','matchId']:\n",
        "  print(f'unique[{i}] count',train[i].nunique())"
      ],
      "execution_count": 12,
      "outputs": [
        {
          "output_type": "stream",
          "text": [
            "unique[Id] count 4446966\n",
            "unique[groupId] count 2026745\n",
            "unique[matchId] count 47965\n"
          ],
          "name": "stdout"
        }
      ]
    },
    {
      "cell_type": "code",
      "metadata": {
        "id": "vpFYyAeikZx5",
        "colab_type": "code",
        "outputId": "1a627f81-7b37-4226-c0a4-d1f5effa9067",
        "colab": {
          "base_uri": "https://localhost:8080/",
          "height": 361
        }
      },
      "source": [
        "fig, ax = plt.subplots(1, 2, figsize=(12, 4))\n",
        "\n",
        "train.groupby('matchId')['matchType'].first().value_counts().plot.bar(ax=ax[0])\n",
        "\n",
        "type_play = lambda x: 'solo' if ('solo' in x) else 'duo' if ('duo' in x) or ('crash' in x) else 'squad'\n",
        "train['matchType'] = train['matchType'].apply(type_play)\n",
        "train.groupby('matchId')['matchType'].first().value_counts().plot.bar(ax=ax[1])"
      ],
      "execution_count": 13,
      "outputs": [
        {
          "output_type": "execute_result",
          "data": {
            "text/plain": [
              "<matplotlib.axes._subplots.AxesSubplot at 0x7f833b42e630>"
            ]
          },
          "metadata": {
            "tags": []
          },
          "execution_count": 13
        },
        {
          "output_type": "display_data",
          "data": {
            "image/png": "[encoded data removed]",
            "text/plain": [
              "<Figure size 864x288 with 2 Axes>"
            ]
          },
          "metadata": {
            "tags": []
          }
        }
      ]
    },
    {
      "cell_type": "code",
      "metadata": {
        "id": "dhgDb1VulWIQ",
        "colab_type": "code",
        "outputId": "6a236f24-1c33-47d8-e500-15c9c424b290",
        "colab": {
          "base_uri": "https://localhost:8080/",
          "height": 691
        }
      },
      "source": [
        "plt.figure(figsize = (20,10))\n",
        "sns.heatmap(train.corr(),annot=True)"
      ],
      "execution_count": 14,
      "outputs": [
        {
          "output_type": "execute_result",
          "data": {
            "text/plain": [
              "<matplotlib.axes._subplots.AxesSubplot at 0x7f837ddab278>"
            ]
          },
          "metadata": {
            "tags": []
          },
          "execution_count": 14
        },
        {
          "output_type": "display_data",
          "data": {
            "image/png": "[encoded data removed]",
            "text/plain": [
              "<Figure size 1440x720 with 2 Axes>"
            ]
          },
          "metadata": {
            "tags": []
          }
        }
      ]
    },
    {
      "cell_type": "markdown",
      "metadata": {
        "id": "DlSbo-LxHlR3",
        "colab_type": "text"
      },
      "source": [
        "There's a high correlation between win points and kill points which makes sense that more the number of kills leads to the better chance of winning.Also,kills and damage dealt shows correlation as getting more kills will obviously leads to taking higher damage and walking distance and win place also shows correaltion as the people coming first are generally very active and kind off walks continously."
      ]
    },
    {
      "cell_type": "markdown",
      "metadata": {
        "id": "_O1N4lFKdUGW",
        "colab_type": "text"
      },
      "source": [
        "## Feature engineering"
      ]
    },
    {
      "cell_type": "markdown",
      "metadata": {
        "id": "iuIK7v3Mvm7R",
        "colab_type": "text"
      },
      "source": [
        "### distance analysis"
      ]
    },
    {
      "cell_type": "code",
      "metadata": {
        "id": "d1php-pFvyL4",
        "colab_type": "code",
        "colab": {}
      },
      "source": [
        "DATA = train.copy() "
      ],
      "execution_count": 0,
      "outputs": []
    },
    {
      "cell_type": "code",
      "metadata": {
        "id": "sLs8ttgJvpvO",
        "colab_type": "code",
        "outputId": "fc135a55-ab5b-445d-ade4-fcc067a4cd2d",
        "colab": {
          "base_uri": "https://localhost:8080/",
          "height": 0
        }
      },
      "source": [
        "print(len(DATA[DATA['walkDistance']==0]))"
      ],
      "execution_count": 16,
      "outputs": [
        {
          "output_type": "stream",
          "text": [
            "99603\n"
          ],
          "name": "stdout"
        }
      ]
    },
    {
      "cell_type": "markdown",
      "metadata": {
        "id": "ve__KdviIcCl",
        "colab_type": "text"
      },
      "source": [
        "99603 people didnt walk a single meter."
      ]
    },
    {
      "cell_type": "code",
      "metadata": {
        "id": "7AC1B-eewYvi",
        "colab_type": "code",
        "outputId": "cd099e6f-a5ff-4a4e-9026-5dcc3f89a1e4",
        "colab": {
          "base_uri": "https://localhost:8080/",
          "height": 0
        }
      },
      "source": [
        "print('{} % people died maybe because of being not active after the game started or were killed as soon as they touched or maybe in air.'.format(100*len(DATA[DATA['walkDistance']==0])/len(DATA)))"
      ],
      "execution_count": 17,
      "outputs": [
        {
          "output_type": "stream",
          "text": [
            "2.2397967513131425 % people died maybe because of being not active after the game started or were killed as soon as they touched or maybe in air.\n"
          ],
          "name": "stdout"
        }
      ]
    },
    {
      "cell_type": "code",
      "metadata": {
        "id": "ArnHO7jtxGCb",
        "colab_type": "code",
        "outputId": "2fc714a3-1b01-4a75-e93f-c6cb1f3c7b8c",
        "colab": {
          "base_uri": "https://localhost:8080/",
          "height": 0
        }
      },
      "source": [
        "for i in [0.1,0.2,0.3,0.4,0.5,0.6,0.7,0.8,0.9,1]:\n",
        "  print(i*100,'% people walked',DATA['walkDistance'].quantile(i))"
      ],
      "execution_count": 18,
      "outputs": [
        {
          "output_type": "stream",
          "text": [
            "10.0 % people walked 41.560001373291016\n",
            "20.0 % people walked 110.0\n",
            "30.0 % people walked 210.5\n",
            "40.0 % people walked 376.70001220703125\n",
            "50.0 % people walked 685.5999755859375\n",
            "60.0 % people walked 1165.0\n",
            "70.0 % people walked 1696.0\n",
            "80.0 % people walked 2267.0\n",
            "90.0 % people walked 2920.0\n",
            "100 % people walked 25780.0\n"
          ],
          "name": "stdout"
        }
      ]
    },
    {
      "cell_type": "markdown",
      "metadata": {
        "id": "BgjLPdmnyCNl",
        "colab_type": "text"
      },
      "source": [
        "It can be seen 90% of the people travel 2920 m however the huge jump on the 100% shows the presence of outlier or some hacker."
      ]
    },
    {
      "cell_type": "code",
      "metadata": {
        "id": "555Dm0C2ypGF",
        "colab_type": "code",
        "outputId": "104e2dea-0b29-4570-9739-3126e3df5aae",
        "colab": {
          "base_uri": "https://localhost:8080/",
          "height": 0
        }
      },
      "source": [
        "for i in [0.9,0.91,0.92,0.93,0.94,0.95,0.96,0.97,0.99,0.99,1]:\n",
        "  print(i*100,'% people got walks',DATA['walkDistance'].quantile(i))"
      ],
      "execution_count": 19,
      "outputs": [
        {
          "output_type": "stream",
          "text": [
            "90.0 % people got walks 2920.0\n",
            "91.0 % people got walks 2999.0\n",
            "92.0 % people got walks 3084.0\n",
            "93.0 % people got walks 3177.0\n",
            "94.0 % people got walks 3279.0\n",
            "95.0 % people got walks 3396.0\n",
            "96.0 % people got walks 3536.0\n",
            "97.0 % people got walks 3714.0\n",
            "99.0 % people got walks 4396.0\n",
            "99.0 % people got walks 4396.0\n",
            "100 % people got walks 25780.0\n"
          ],
          "name": "stdout"
        }
      ]
    },
    {
      "cell_type": "code",
      "metadata": {
        "id": "HUWCruKty-kz",
        "colab_type": "code",
        "outputId": "8e598f29-6c30-41d7-9097-54c3c4e00464",
        "colab": {
          "base_uri": "https://localhost:8080/",
          "height": 0
        }
      },
      "source": [
        "sns.jointplot(DATA['winPlacePerc'],DATA['walkDistance'],color = 'teal')\n",
        "plt.show()"
      ],
      "execution_count": 20,
      "outputs": [
        {
          "output_type": "display_data",
          "data": {
            "image/png": "[encoded data removed]",
            "text/plain": [
              "<Figure size 432x432 with 3 Axes>"
            ]
          },
          "metadata": {
            "tags": []
          }
        }
      ]
    },
    {
      "cell_type": "markdown",
      "metadata": {
        "id": "4fAG_jtyz0xa",
        "colab_type": "text"
      },
      "source": [
        "This confirms that people having more walk distance has more chances of winning"
      ]
    },
    {
      "cell_type": "markdown",
      "metadata": {
        "id": "ScQtoh8Xvj-L",
        "colab_type": "text"
      },
      "source": [
        "### kill analysis"
      ]
    },
    {
      "cell_type": "code",
      "metadata": {
        "id": "kKq-PcZVdSxN",
        "colab_type": "code",
        "colab": {}
      },
      "source": [
        "data = train.copy()"
      ],
      "execution_count": 0,
      "outputs": []
    },
    {
      "cell_type": "code",
      "metadata": {
        "id": "Clyhz7pKg_6v",
        "colab_type": "code",
        "outputId": "97179a78-0a8c-4cc4-aa9e-072fd31643ec",
        "colab": {
          "base_uri": "https://localhost:8080/",
          "height": 0
        }
      },
      "source": [
        "data.head()"
      ],
      "execution_count": 22,
      "outputs": [
        {
          "output_type": "execute_result",
          "data": {
            "text/html": [
              "<div>\n",
              "<style scoped>\n",
              "    .dataframe tbody tr th:only-of-type {\n",
              "        vertical-align: middle;\n",
              "    }\n",
              "\n",
              "    .dataframe tbody tr th {\n",
              "        vertical-align: top;\n",
              "    }\n",
              "\n",
              "    .dataframe thead th {\n",
              "        text-align: right;\n",
              "    }\n",
              "</style>\n",
              "<table border=\"1\" class=\"dataframe\">\n",
              "  <thead>\n",
              "    <tr style=\"text-align: right;\">\n",
              "      <th></th>\n",
              "      <th>Id</th>\n",
              "      <th>groupId</th>\n",
              "      <th>matchId</th>\n",
              "      <th>assists</th>\n",
              "      <th>boosts</th>\n",
              "      <th>damageDealt</th>\n",
              "      <th>DBNOs</th>\n",
              "      <th>headshotKills</th>\n",
              "      <th>heals</th>\n",
              "      <th>killPlace</th>\n",
              "      <th>killPoints</th>\n",
              "      <th>kills</th>\n",
              "      <th>killStreaks</th>\n",
              "      <th>longestKill</th>\n",
              "      <th>matchDuration</th>\n",
              "      <th>matchType</th>\n",
              "      <th>maxPlace</th>\n",
              "      <th>numGroups</th>\n",
              "      <th>rankPoints</th>\n",
              "      <th>revives</th>\n",
              "      <th>rideDistance</th>\n",
              "      <th>roadKills</th>\n",
              "      <th>swimDistance</th>\n",
              "      <th>teamKills</th>\n",
              "      <th>vehicleDestroys</th>\n",
              "      <th>walkDistance</th>\n",
              "      <th>weaponsAcquired</th>\n",
              "      <th>winPoints</th>\n",
              "      <th>winPlacePerc</th>\n",
              "    </tr>\n",
              "  </thead>\n",
              "  <tbody>\n",
              "    <tr>\n",
              "      <th>0</th>\n",
              "      <td>7f96b2f878858a</td>\n",
              "      <td>4d4b580de459be</td>\n",
              "      <td>a10357fd1a4a91</td>\n",
              "      <td>0</td>\n",
              "      <td>0</td>\n",
              "      <td>0.000000</td>\n",
              "      <td>0</td>\n",
              "      <td>0</td>\n",
              "      <td>0</td>\n",
              "      <td>60</td>\n",
              "      <td>1241</td>\n",
              "      <td>0</td>\n",
              "      <td>0</td>\n",
              "      <td>0.000000</td>\n",
              "      <td>1306</td>\n",
              "      <td>squad</td>\n",
              "      <td>28</td>\n",
              "      <td>26</td>\n",
              "      <td>-1</td>\n",
              "      <td>0</td>\n",
              "      <td>0.0000</td>\n",
              "      <td>0</td>\n",
              "      <td>0.00</td>\n",
              "      <td>0</td>\n",
              "      <td>0</td>\n",
              "      <td>244.800003</td>\n",
              "      <td>1</td>\n",
              "      <td>1466</td>\n",
              "      <td>0.4444</td>\n",
              "    </tr>\n",
              "    <tr>\n",
              "      <th>1</th>\n",
              "      <td>eef90569b9d03c</td>\n",
              "      <td>684d5656442f9e</td>\n",
              "      <td>aeb375fc57110c</td>\n",
              "      <td>0</td>\n",
              "      <td>0</td>\n",
              "      <td>91.470001</td>\n",
              "      <td>0</td>\n",
              "      <td>0</td>\n",
              "      <td>0</td>\n",
              "      <td>57</td>\n",
              "      <td>0</td>\n",
              "      <td>0</td>\n",
              "      <td>0</td>\n",
              "      <td>0.000000</td>\n",
              "      <td>1777</td>\n",
              "      <td>squad</td>\n",
              "      <td>26</td>\n",
              "      <td>25</td>\n",
              "      <td>1484</td>\n",
              "      <td>0</td>\n",
              "      <td>0.0045</td>\n",
              "      <td>0</td>\n",
              "      <td>11.04</td>\n",
              "      <td>0</td>\n",
              "      <td>0</td>\n",
              "      <td>1434.000000</td>\n",
              "      <td>5</td>\n",
              "      <td>0</td>\n",
              "      <td>0.6400</td>\n",
              "    </tr>\n",
              "    <tr>\n",
              "      <th>2</th>\n",
              "      <td>1eaf90ac73de72</td>\n",
              "      <td>6a4a42c3245a74</td>\n",
              "      <td>110163d8bb94ae</td>\n",
              "      <td>1</td>\n",
              "      <td>0</td>\n",
              "      <td>68.000000</td>\n",
              "      <td>0</td>\n",
              "      <td>0</td>\n",
              "      <td>0</td>\n",
              "      <td>47</td>\n",
              "      <td>0</td>\n",
              "      <td>0</td>\n",
              "      <td>0</td>\n",
              "      <td>0.000000</td>\n",
              "      <td>1318</td>\n",
              "      <td>duo</td>\n",
              "      <td>50</td>\n",
              "      <td>47</td>\n",
              "      <td>1491</td>\n",
              "      <td>0</td>\n",
              "      <td>0.0000</td>\n",
              "      <td>0</td>\n",
              "      <td>0.00</td>\n",
              "      <td>0</td>\n",
              "      <td>0</td>\n",
              "      <td>161.800003</td>\n",
              "      <td>2</td>\n",
              "      <td>0</td>\n",
              "      <td>0.7755</td>\n",
              "    </tr>\n",
              "    <tr>\n",
              "      <th>3</th>\n",
              "      <td>4616d365dd2853</td>\n",
              "      <td>a930a9c79cd721</td>\n",
              "      <td>f1f1f4ef412d7e</td>\n",
              "      <td>0</td>\n",
              "      <td>0</td>\n",
              "      <td>32.900002</td>\n",
              "      <td>0</td>\n",
              "      <td>0</td>\n",
              "      <td>0</td>\n",
              "      <td>75</td>\n",
              "      <td>0</td>\n",
              "      <td>0</td>\n",
              "      <td>0</td>\n",
              "      <td>0.000000</td>\n",
              "      <td>1436</td>\n",
              "      <td>squad</td>\n",
              "      <td>31</td>\n",
              "      <td>30</td>\n",
              "      <td>1408</td>\n",
              "      <td>0</td>\n",
              "      <td>0.0000</td>\n",
              "      <td>0</td>\n",
              "      <td>0.00</td>\n",
              "      <td>0</td>\n",
              "      <td>0</td>\n",
              "      <td>202.699997</td>\n",
              "      <td>3</td>\n",
              "      <td>0</td>\n",
              "      <td>0.1667</td>\n",
              "    </tr>\n",
              "    <tr>\n",
              "      <th>4</th>\n",
              "      <td>315c96c26c9aac</td>\n",
              "      <td>de04010b3458dd</td>\n",
              "      <td>6dc8ff871e21e6</td>\n",
              "      <td>0</td>\n",
              "      <td>0</td>\n",
              "      <td>100.000000</td>\n",
              "      <td>0</td>\n",
              "      <td>0</td>\n",
              "      <td>0</td>\n",
              "      <td>45</td>\n",
              "      <td>0</td>\n",
              "      <td>1</td>\n",
              "      <td>1</td>\n",
              "      <td>58.529999</td>\n",
              "      <td>1424</td>\n",
              "      <td>solo</td>\n",
              "      <td>97</td>\n",
              "      <td>95</td>\n",
              "      <td>1560</td>\n",
              "      <td>0</td>\n",
              "      <td>0.0000</td>\n",
              "      <td>0</td>\n",
              "      <td>0.00</td>\n",
              "      <td>0</td>\n",
              "      <td>0</td>\n",
              "      <td>49.750000</td>\n",
              "      <td>2</td>\n",
              "      <td>0</td>\n",
              "      <td>0.1875</td>\n",
              "    </tr>\n",
              "  </tbody>\n",
              "</table>\n",
              "</div>"
            ],
            "text/plain": [
              "               Id         groupId  ... winPoints  winPlacePerc\n",
              "0  7f96b2f878858a  4d4b580de459be  ...      1466        0.4444\n",
              "1  eef90569b9d03c  684d5656442f9e  ...         0        0.6400\n",
              "2  1eaf90ac73de72  6a4a42c3245a74  ...         0        0.7755\n",
              "3  4616d365dd2853  a930a9c79cd721  ...         0        0.1667\n",
              "4  315c96c26c9aac  de04010b3458dd  ...         0        0.1875\n",
              "\n",
              "[5 rows x 29 columns]"
            ]
          },
          "metadata": {
            "tags": []
          },
          "execution_count": 22
        }
      ]
    },
    {
      "cell_type": "code",
      "metadata": {
        "id": "MK44-vf6huqH",
        "colab_type": "code",
        "outputId": "dcccaae7-b6c4-42b7-a609-5436190c96d2",
        "colab": {
          "base_uri": "https://localhost:8080/",
          "height": 0
        }
      },
      "source": [
        "data['kills'].mean()"
      ],
      "execution_count": 23,
      "outputs": [
        {
          "output_type": "execute_result",
          "data": {
            "text/plain": [
              "0.9247833241810259"
            ]
          },
          "metadata": {
            "tags": []
          },
          "execution_count": 23
        }
      ]
    },
    {
      "cell_type": "code",
      "metadata": {
        "id": "2JCFYJVHh7so",
        "colab_type": "code",
        "outputId": "6bdb029f-572e-485d-db2f-5bbcadef8c99",
        "colab": {
          "base_uri": "https://localhost:8080/",
          "height": 0
        }
      },
      "source": [
        "print('minimum kills',data['kills'].min())\n",
        "print('maximum kills',data['kills'].max())"
      ],
      "execution_count": 24,
      "outputs": [
        {
          "output_type": "stream",
          "text": [
            "minimum kills 0\n",
            "maximum kills 72\n"
          ],
          "name": "stdout"
        }
      ]
    },
    {
      "cell_type": "code",
      "metadata": {
        "id": "N_s12Qpghy1h",
        "colab_type": "code",
        "outputId": "3f21f38c-d759-40ad-f1b7-27bca1b0cbce",
        "colab": {
          "base_uri": "https://localhost:8080/",
          "height": 0
        }
      },
      "source": [
        "for i in [0.1,0.2,0.3,0.4,0.5,0.6,0.7,0.8,0.9,1]:\n",
        "  print(i*100, 'percent of people gets {} kills.'.format(data['kills'].quantile(i)))"
      ],
      "execution_count": 25,
      "outputs": [
        {
          "output_type": "stream",
          "text": [
            "10.0 percent of people gets 0.0 kills.\n",
            "20.0 percent of people gets 0.0 kills.\n",
            "30.0 percent of people gets 0.0 kills.\n",
            "40.0 percent of people gets 0.0 kills.\n",
            "50.0 percent of people gets 0.0 kills.\n",
            "60.0 percent of people gets 1.0 kills.\n",
            "70.0 percent of people gets 1.0 kills.\n",
            "80.0 percent of people gets 2.0 kills.\n",
            "90.0 percent of people gets 3.0 kills.\n",
            "100 percent of people gets 72.0 kills.\n"
          ],
          "name": "stdout"
        }
      ]
    },
    {
      "cell_type": "markdown",
      "metadata": {
        "id": "CPh4-KC_mBD_",
        "colab_type": "text"
      },
      "source": [
        "50% of the individual are not even getting a single kill,Clearly it shows there are a lot of outliers present in the data after 90% mark, let's see what is the average kills for population between 90 - 100.\n"
      ]
    },
    {
      "cell_type": "code",
      "metadata": {
        "id": "rsPTPbKTmSXO",
        "colab_type": "code",
        "outputId": "db291c8e-40c1-48c9-bb58-1ec7c1ec2d26",
        "colab": {
          "base_uri": "https://localhost:8080/",
          "height": 0
        }
      },
      "source": [
        "for i in [0.9,0.91,0.92,0.93,0.94,0.95,0.6,0.97,0.98,0.99,1]:\n",
        "  print(i,'precent of people gets {} kills.'.format(data['kills'].quantile(i)))"
      ],
      "execution_count": 26,
      "outputs": [
        {
          "output_type": "stream",
          "text": [
            "0.9 precent of people gets 3.0 kills.\n",
            "0.91 precent of people gets 3.0 kills.\n",
            "0.92 precent of people gets 3.0 kills.\n",
            "0.93 precent of people gets 3.0 kills.\n",
            "0.94 precent of people gets 4.0 kills.\n",
            "0.95 precent of people gets 4.0 kills.\n",
            "0.6 precent of people gets 1.0 kills.\n",
            "0.97 precent of people gets 5.0 kills.\n",
            "0.98 precent of people gets 6.0 kills.\n",
            "0.99 precent of people gets 7.0 kills.\n",
            "1 precent of people gets 72.0 kills.\n"
          ],
          "name": "stdout"
        }
      ]
    },
    {
      "cell_type": "markdown",
      "metadata": {
        "id": "EMgHp0P7m_tq",
        "colab_type": "text"
      },
      "source": [
        "It's tough to get 72 kills in a SINGLE MATCH,it is nearly impossible.\n",
        "let's find out whether the data of hacker is present in the data."
      ]
    },
    {
      "cell_type": "code",
      "metadata": {
        "id": "N4cnQHwvnMqL",
        "colab_type": "code",
        "outputId": "adc54180-be8f-49d5-decb-ae0a2b44cc3f",
        "colab": {
          "base_uri": "https://localhost:8080/",
          "height": 0
        }
      },
      "source": [
        "plt.figure(figsize = (20,10))\n",
        "sns.countplot(data['kills'].sort_values())\n",
        "plt.xlabel('kills')\n",
        "plt.ylabel('Number of people')\n",
        "plt.title('kill count ',fontsize = 22)\n",
        "plt.show()"
      ],
      "execution_count": 27,
      "outputs": [
        {
          "output_type": "display_data",
          "data": {
            "image/png": "[encoded data removed]",
            "text/plain": [
              "<Figure size 1440x720 with 1 Axes>"
            ]
          },
          "metadata": {
            "tags": []
          }
        }
      ]
    },
    {
      "cell_type": "markdown",
      "metadata": {
        "id": "dDql8eTHoLz2",
        "colab_type": "text"
      },
      "source": [
        "Most of the people are only getting 0 kills,Barely people are crossing kill count 2,so people in the range 15-72 either have to be talented or must be using some kind of hacks."
      ]
    },
    {
      "cell_type": "code",
      "metadata": {
        "id": "hW1Zh46IpUb7",
        "colab_type": "code",
        "outputId": "c4f057b6-3d86-4eb6-833e-680994f66e51",
        "colab": {
          "base_uri": "https://localhost:8080/",
          "height": 0
        }
      },
      "source": [
        "data.columns"
      ],
      "execution_count": 28,
      "outputs": [
        {
          "output_type": "execute_result",
          "data": {
            "text/plain": [
              "Index(['Id', 'groupId', 'matchId', 'assists', 'boosts', 'damageDealt', 'DBNOs',\n",
              "       'headshotKills', 'heals', 'killPlace', 'killPoints', 'kills',\n",
              "       'killStreaks', 'longestKill', 'matchDuration', 'matchType', 'maxPlace',\n",
              "       'numGroups', 'rankPoints', 'revives', 'rideDistance', 'roadKills',\n",
              "       'swimDistance', 'teamKills', 'vehicleDestroys', 'walkDistance',\n",
              "       'weaponsAcquired', 'winPoints', 'winPlacePerc'],\n",
              "      dtype='object')"
            ]
          },
          "metadata": {
            "tags": []
          },
          "execution_count": 28
        }
      ]
    },
    {
      "cell_type": "code",
      "metadata": {
        "id": "QsGIU2TNomQp",
        "colab_type": "code",
        "outputId": "0a14d001-08fb-4d49-b638-382f63ce6b3f",
        "colab": {
          "base_uri": "https://localhost:8080/",
          "height": 0
        }
      },
      "source": [
        "d_kill0 = data[data['kills']==0]\n",
        "print ('People winning without a single kill',len(d_kill0[d_kill0['winPlacePerc']==1]),'which is {} %.'.format(100*(len(d_kill0[d_kill0['winPlacePerc']==1])/len(data[data['winPlacePerc']==1]))))"
      ],
      "execution_count": 29,
      "outputs": [
        {
          "output_type": "stream",
          "text": [
            "People winning without a single kill 16666 which is 13.063892829987536 %.\n"
          ],
          "name": "stdout"
        }
      ]
    },
    {
      "cell_type": "code",
      "metadata": {
        "id": "hTHb0ukxsrf1",
        "colab_type": "code",
        "colab": {}
      },
      "source": [
        "data['kill_cate'] = pd.cut(data['kills'],[-1,0,2,4,6,8,10,80],labels=['kill 0','kill 1-2','kill 3-4','kill 5-6','kill 7-8','kill 9-10','kill 10+'])\n"
      ],
      "execution_count": 0,
      "outputs": []
    },
    {
      "cell_type": "code",
      "metadata": {
        "id": "RRHA7MXsvBZk",
        "colab_type": "code",
        "outputId": "936840cb-4aed-424a-ec26-797ddb76ede2",
        "colab": {
          "base_uri": "https://localhost:8080/",
          "height": 0
        }
      },
      "source": [
        "data.head()"
      ],
      "execution_count": 31,
      "outputs": [
        {
          "output_type": "execute_result",
          "data": {
            "text/html": [
              "<div>\n",
              "<style scoped>\n",
              "    .dataframe tbody tr th:only-of-type {\n",
              "        vertical-align: middle;\n",
              "    }\n",
              "\n",
              "    .dataframe tbody tr th {\n",
              "        vertical-align: top;\n",
              "    }\n",
              "\n",
              "    .dataframe thead th {\n",
              "        text-align: right;\n",
              "    }\n",
              "</style>\n",
              "<table border=\"1\" class=\"dataframe\">\n",
              "  <thead>\n",
              "    <tr style=\"text-align: right;\">\n",
              "      <th></th>\n",
              "      <th>Id</th>\n",
              "      <th>groupId</th>\n",
              "      <th>matchId</th>\n",
              "      <th>assists</th>\n",
              "      <th>boosts</th>\n",
              "      <th>damageDealt</th>\n",
              "      <th>DBNOs</th>\n",
              "      <th>headshotKills</th>\n",
              "      <th>heals</th>\n",
              "      <th>killPlace</th>\n",
              "      <th>killPoints</th>\n",
              "      <th>kills</th>\n",
              "      <th>killStreaks</th>\n",
              "      <th>longestKill</th>\n",
              "      <th>matchDuration</th>\n",
              "      <th>matchType</th>\n",
              "      <th>maxPlace</th>\n",
              "      <th>numGroups</th>\n",
              "      <th>rankPoints</th>\n",
              "      <th>revives</th>\n",
              "      <th>rideDistance</th>\n",
              "      <th>roadKills</th>\n",
              "      <th>swimDistance</th>\n",
              "      <th>teamKills</th>\n",
              "      <th>vehicleDestroys</th>\n",
              "      <th>walkDistance</th>\n",
              "      <th>weaponsAcquired</th>\n",
              "      <th>winPoints</th>\n",
              "      <th>winPlacePerc</th>\n",
              "      <th>kill_cate</th>\n",
              "    </tr>\n",
              "  </thead>\n",
              "  <tbody>\n",
              "    <tr>\n",
              "      <th>0</th>\n",
              "      <td>7f96b2f878858a</td>\n",
              "      <td>4d4b580de459be</td>\n",
              "      <td>a10357fd1a4a91</td>\n",
              "      <td>0</td>\n",
              "      <td>0</td>\n",
              "      <td>0.000000</td>\n",
              "      <td>0</td>\n",
              "      <td>0</td>\n",
              "      <td>0</td>\n",
              "      <td>60</td>\n",
              "      <td>1241</td>\n",
              "      <td>0</td>\n",
              "      <td>0</td>\n",
              "      <td>0.000000</td>\n",
              "      <td>1306</td>\n",
              "      <td>squad</td>\n",
              "      <td>28</td>\n",
              "      <td>26</td>\n",
              "      <td>-1</td>\n",
              "      <td>0</td>\n",
              "      <td>0.0000</td>\n",
              "      <td>0</td>\n",
              "      <td>0.00</td>\n",
              "      <td>0</td>\n",
              "      <td>0</td>\n",
              "      <td>244.800003</td>\n",
              "      <td>1</td>\n",
              "      <td>1466</td>\n",
              "      <td>0.4444</td>\n",
              "      <td>kill 0</td>\n",
              "    </tr>\n",
              "    <tr>\n",
              "      <th>1</th>\n",
              "      <td>eef90569b9d03c</td>\n",
              "      <td>684d5656442f9e</td>\n",
              "      <td>aeb375fc57110c</td>\n",
              "      <td>0</td>\n",
              "      <td>0</td>\n",
              "      <td>91.470001</td>\n",
              "      <td>0</td>\n",
              "      <td>0</td>\n",
              "      <td>0</td>\n",
              "      <td>57</td>\n",
              "      <td>0</td>\n",
              "      <td>0</td>\n",
              "      <td>0</td>\n",
              "      <td>0.000000</td>\n",
              "      <td>1777</td>\n",
              "      <td>squad</td>\n",
              "      <td>26</td>\n",
              "      <td>25</td>\n",
              "      <td>1484</td>\n",
              "      <td>0</td>\n",
              "      <td>0.0045</td>\n",
              "      <td>0</td>\n",
              "      <td>11.04</td>\n",
              "      <td>0</td>\n",
              "      <td>0</td>\n",
              "      <td>1434.000000</td>\n",
              "      <td>5</td>\n",
              "      <td>0</td>\n",
              "      <td>0.6400</td>\n",
              "      <td>kill 0</td>\n",
              "    </tr>\n",
              "    <tr>\n",
              "      <th>2</th>\n",
              "      <td>1eaf90ac73de72</td>\n",
              "      <td>6a4a42c3245a74</td>\n",
              "      <td>110163d8bb94ae</td>\n",
              "      <td>1</td>\n",
              "      <td>0</td>\n",
              "      <td>68.000000</td>\n",
              "      <td>0</td>\n",
              "      <td>0</td>\n",
              "      <td>0</td>\n",
              "      <td>47</td>\n",
              "      <td>0</td>\n",
              "      <td>0</td>\n",
              "      <td>0</td>\n",
              "      <td>0.000000</td>\n",
              "      <td>1318</td>\n",
              "      <td>duo</td>\n",
              "      <td>50</td>\n",
              "      <td>47</td>\n",
              "      <td>1491</td>\n",
              "      <td>0</td>\n",
              "      <td>0.0000</td>\n",
              "      <td>0</td>\n",
              "      <td>0.00</td>\n",
              "      <td>0</td>\n",
              "      <td>0</td>\n",
              "      <td>161.800003</td>\n",
              "      <td>2</td>\n",
              "      <td>0</td>\n",
              "      <td>0.7755</td>\n",
              "      <td>kill 0</td>\n",
              "    </tr>\n",
              "    <tr>\n",
              "      <th>3</th>\n",
              "      <td>4616d365dd2853</td>\n",
              "      <td>a930a9c79cd721</td>\n",
              "      <td>f1f1f4ef412d7e</td>\n",
              "      <td>0</td>\n",
              "      <td>0</td>\n",
              "      <td>32.900002</td>\n",
              "      <td>0</td>\n",
              "      <td>0</td>\n",
              "      <td>0</td>\n",
              "      <td>75</td>\n",
              "      <td>0</td>\n",
              "      <td>0</td>\n",
              "      <td>0</td>\n",
              "      <td>0.000000</td>\n",
              "      <td>1436</td>\n",
              "      <td>squad</td>\n",
              "      <td>31</td>\n",
              "      <td>30</td>\n",
              "      <td>1408</td>\n",
              "      <td>0</td>\n",
              "      <td>0.0000</td>\n",
              "      <td>0</td>\n",
              "      <td>0.00</td>\n",
              "      <td>0</td>\n",
              "      <td>0</td>\n",
              "      <td>202.699997</td>\n",
              "      <td>3</td>\n",
              "      <td>0</td>\n",
              "      <td>0.1667</td>\n",
              "      <td>kill 0</td>\n",
              "    </tr>\n",
              "    <tr>\n",
              "      <th>4</th>\n",
              "      <td>315c96c26c9aac</td>\n",
              "      <td>de04010b3458dd</td>\n",
              "      <td>6dc8ff871e21e6</td>\n",
              "      <td>0</td>\n",
              "      <td>0</td>\n",
              "      <td>100.000000</td>\n",
              "      <td>0</td>\n",
              "      <td>0</td>\n",
              "      <td>0</td>\n",
              "      <td>45</td>\n",
              "      <td>0</td>\n",
              "      <td>1</td>\n",
              "      <td>1</td>\n",
              "      <td>58.529999</td>\n",
              "      <td>1424</td>\n",
              "      <td>solo</td>\n",
              "      <td>97</td>\n",
              "      <td>95</td>\n",
              "      <td>1560</td>\n",
              "      <td>0</td>\n",
              "      <td>0.0000</td>\n",
              "      <td>0</td>\n",
              "      <td>0.00</td>\n",
              "      <td>0</td>\n",
              "      <td>0</td>\n",
              "      <td>49.750000</td>\n",
              "      <td>2</td>\n",
              "      <td>0</td>\n",
              "      <td>0.1875</td>\n",
              "      <td>kill 1-2</td>\n",
              "    </tr>\n",
              "  </tbody>\n",
              "</table>\n",
              "</div>"
            ],
            "text/plain": [
              "               Id         groupId  ... winPlacePerc  kill_cate\n",
              "0  7f96b2f878858a  4d4b580de459be  ...       0.4444     kill 0\n",
              "1  eef90569b9d03c  684d5656442f9e  ...       0.6400     kill 0\n",
              "2  1eaf90ac73de72  6a4a42c3245a74  ...       0.7755     kill 0\n",
              "3  4616d365dd2853  a930a9c79cd721  ...       0.1667     kill 0\n",
              "4  315c96c26c9aac  de04010b3458dd  ...       0.1875   kill 1-2\n",
              "\n",
              "[5 rows x 30 columns]"
            ]
          },
          "metadata": {
            "tags": []
          },
          "execution_count": 31
        }
      ]
    },
    {
      "cell_type": "code",
      "metadata": {
        "id": "5jv-el8DuuPE",
        "colab_type": "code",
        "outputId": "67eea4d6-7458-44ea-ff70-af604c925823",
        "colab": {
          "base_uri": "https://localhost:8080/",
          "height": 0
        }
      },
      "source": [
        "plt.figure(figsize=(20,10))\n",
        "sns.boxplot(data['kill_cate'],data['winPlacePerc'])\n",
        "plt.show()"
      ],
      "execution_count": 32,
      "outputs": [
        {
          "output_type": "display_data",
          "data": {
            "image/png": "[encoded data removed]",
            "text/plain": [
              "<Figure size 1440x720 with 1 Axes>"
            ]
          },
          "metadata": {
            "tags": []
          }
        }
      ]
    },
    {
      "cell_type": "markdown",
      "metadata": {
        "id": "P3UAYh69JyqV",
        "colab_type": "text"
      },
      "source": [
        "This clearly shows that high kill numbers leads to a better chance of coming in first place.But there is also a huge amount of outliers as kill numbers does not always lead to winning a match,there can be a player with 10 kills loosing to a player with 0 kills."
      ]
    },
    {
      "cell_type": "markdown",
      "metadata": {
        "id": "63L6r17JKW_6",
        "colab_type": "text"
      },
      "source": [
        "### Analysing Ride distance"
      ]
    },
    {
      "cell_type": "code",
      "metadata": {
        "id": "VYywtqnhKRfZ",
        "colab_type": "code",
        "colab": {}
      },
      "source": [
        "dataride = train.copy()"
      ],
      "execution_count": 0,
      "outputs": []
    },
    {
      "cell_type": "code",
      "metadata": {
        "id": "smqdPOtcKfZI",
        "colab_type": "code",
        "outputId": "082153e2-8dba-45bf-df32-e300083975b1",
        "colab": {
          "base_uri": "https://localhost:8080/",
          "height": 0
        }
      },
      "source": [
        "dataride['rideDistance'].mean()"
      ],
      "execution_count": 34,
      "outputs": [
        {
          "output_type": "execute_result",
          "data": {
            "text/plain": [
              "606.0923461914062"
            ]
          },
          "metadata": {
            "tags": []
          },
          "execution_count": 34
        }
      ]
    },
    {
      "cell_type": "markdown",
      "metadata": {
        "id": "vJupRAYcT0au",
        "colab_type": "text"
      },
      "source": [
        "Turns out that average distance travelled is 606 meter for the entire data."
      ]
    },
    {
      "cell_type": "code",
      "metadata": {
        "id": "eJCTIhfdT8g2",
        "colab_type": "code",
        "outputId": "4aa1a1d4-6caf-4389-cf9f-f3400b654729",
        "colab": {
          "base_uri": "https://localhost:8080/",
          "height": 0
        }
      },
      "source": [
        "print(dataride['rideDistance'].max())\n",
        "print(dataride['rideDistance'].min())"
      ],
      "execution_count": 35,
      "outputs": [
        {
          "output_type": "stream",
          "text": [
            "40710.0\n",
            "0.0\n"
          ],
          "name": "stdout"
        }
      ]
    },
    {
      "cell_type": "code",
      "metadata": {
        "id": "lrYIUQMOUHQY",
        "colab_type": "code",
        "outputId": "60bae7d6-7f6e-48a0-dc8f-724bece100c1",
        "colab": {
          "base_uri": "https://localhost:8080/",
          "height": 0
        }
      },
      "source": [
        "for i in [0.1,0.2,0.3,0.4,0.5,0.6,0.7,0.8,0.9,1]:\n",
        "  print(i*100,\"% of people travelled {} meters.\".format(dataride['rideDistance'].quantile(i)))"
      ],
      "execution_count": 36,
      "outputs": [
        {
          "output_type": "stream",
          "text": [
            "10.0 % of people travelled 0.0 meters.\n",
            "20.0 % of people travelled 0.0 meters.\n",
            "30.0 % of people travelled 0.0 meters.\n",
            "40.0 % of people travelled 0.0 meters.\n",
            "50.0 % of people travelled 0.0 meters.\n",
            "60.0 % of people travelled 0.0 meters.\n",
            "70.0 % of people travelled 0.0 meters.\n",
            "80.0 % of people travelled 610.5999755859375 meters.\n",
            "90.0 % of people travelled 2391.0 meters.\n",
            "100 % of people travelled 40710.0 meters.\n"
          ],
          "name": "stdout"
        }
      ]
    },
    {
      "cell_type": "markdown",
      "metadata": {
        "id": "aO9zvVc8UKNY",
        "colab_type": "text"
      },
      "source": [
        "Turns out that 70% of the people don't even use the vehicle in the game,they believe in walking.\n",
        "also a huge jump is seen between 90-100% of the population and indicates the presence of hacker or maybe an outlier."
      ]
    },
    {
      "cell_type": "code",
      "metadata": {
        "id": "hJU_Ose-VEGx",
        "colab_type": "code",
        "outputId": "631a8835-6447-4b09-d8c9-6aff21a6af54",
        "colab": {
          "base_uri": "https://localhost:8080/",
          "height": 0
        }
      },
      "source": [
        "for i in [0.9,0.91,0.92,0.93,0.94,0.95,0.96,0.97,0.98,0.99,1]:\n",
        "  print(i*100,\"% people travelled {} meters.\".format(dataride['rideDistance'].quantile(i)))"
      ],
      "execution_count": 37,
      "outputs": [
        {
          "output_type": "stream",
          "text": [
            "90.0 % people travelled 2391.0 meters.\n",
            "91.0 % people travelled 2663.0 meters.\n",
            "92.0 % people travelled 2960.0 meters.\n",
            "93.0 % people travelled 3285.0 meters.\n",
            "94.0 % people travelled 3643.0 meters.\n",
            "95.0 % people travelled 4048.0 meters.\n",
            "96.0 % people travelled 4512.0 meters.\n",
            "97.0 % people travelled 5079.0 meters.\n",
            "98.0 % people travelled 5815.0 meters.\n",
            "99.0 % people travelled 6966.0 meters.\n",
            "100 % people travelled 40710.0 meters.\n"
          ],
          "name": "stdout"
        }
      ]
    },
    {
      "cell_type": "markdown",
      "metadata": {
        "id": "NbFd-iupVxem",
        "colab_type": "text"
      },
      "source": [
        "99% of the population travel about 6966 meters.\n",
        "\n",
        "let's see can this help in win place."
      ]
    },
    {
      "cell_type": "code",
      "metadata": {
        "id": "PNygpZ-FV-og",
        "colab_type": "code",
        "colab": {}
      },
      "source": [
        "dataride0 = dataride[dataride['rideDistance']==0]"
      ],
      "execution_count": 0,
      "outputs": []
    },
    {
      "cell_type": "code",
      "metadata": {
        "id": "62LrLpyCWH2Q",
        "colab_type": "code",
        "outputId": "ff784acb-cd9e-4883-f75c-0c12488ffce1",
        "colab": {
          "base_uri": "https://localhost:8080/",
          "height": 0
        }
      },
      "source": [
        "print(len(dataride0['winPlacePerc']==1))"
      ],
      "execution_count": 39,
      "outputs": [
        {
          "output_type": "stream",
          "text": [
            "3309429\n"
          ],
          "name": "stdout"
        }
      ]
    },
    {
      "cell_type": "markdown",
      "metadata": {
        "id": "VU-CCccvWSiV",
        "colab_type": "text"
      },
      "source": [
        "33 lakh people won the game without even riding a single meter."
      ]
    },
    {
      "cell_type": "code",
      "metadata": {
        "id": "x6wTRvLFWcN1",
        "colab_type": "code",
        "outputId": "69ca7233-3aa7-43ac-9ff2-275b8bff61a5",
        "colab": {
          "base_uri": "https://localhost:8080/",
          "height": 0
        }
      },
      "source": [
        "plt.figure(figsize=(20,10))\n",
        "sns.jointplot(dataride['winPlacePerc'],dataride['rideDistance'],color='teal')\n",
        "plt.title('Ride Analysis')\n",
        "plt.tight_layout()"
      ],
      "execution_count": 40,
      "outputs": [
        {
          "output_type": "display_data",
          "data": {
            "text/plain": [
              "<Figure size 1440x720 with 0 Axes>"
            ]
          },
          "metadata": {
            "tags": []
          }
        },
        {
          "output_type": "display_data",
          "data": {
            "image/png": "[encoded data removed]",
            "text/plain": [
              "<Figure size 432x432 with 3 Axes>"
            ]
          },
          "metadata": {
            "tags": []
          }
        }
      ]
    },
    {
      "cell_type": "code",
      "metadata": {
        "id": "1JXmf6i4ZfpV",
        "colab_type": "code",
        "outputId": "c8fdaf3b-335c-46f7-9651-bbf6ebb652ab",
        "colab": {
          "base_uri": "https://localhost:8080/",
          "height": 0
        }
      },
      "source": [
        "dataride1 = train.copy()\n",
        "dataride1['ride_cat'] = pd.cut(dataride['rideDistance'],(-1,100,1000,5000,10000,50000),labels=['0-100','101-1000','1001-5000','5001-10000','10000+'])\n",
        "\n",
        "plt.figure(figsize=(20,10))\n",
        "sns.boxplot(dataride1['ride_cat'],dataride1['winPlacePerc'])\n",
        "plt.title('Ride Analysis')\n",
        "plt.tight_layout()"
      ],
      "execution_count": 41,
      "outputs": [
        {
          "output_type": "display_data",
          "data": {
            "image/png": "[encoded data removed]",
            "text/plain": [
              "<Figure size 1440x720 with 1 Axes>"
            ]
          },
          "metadata": {
            "tags": []
          }
        }
      ]
    },
    {
      "cell_type": "markdown",
      "metadata": {
        "id": "E0fdg9F6arWw",
        "colab_type": "text"
      },
      "source": [
        "This shows that people travelling more than 5000 m have almost 80% chance of winning the match."
      ]
    },
    {
      "cell_type": "markdown",
      "metadata": {
        "id": "D8cUHxfmeYeK",
        "colab_type": "text"
      },
      "source": [
        "### Heals analysis"
      ]
    },
    {
      "cell_type": "code",
      "metadata": {
        "id": "wiXH_-4ba1X0",
        "colab_type": "code",
        "colab": {}
      },
      "source": [
        "Healdata = train.copy()"
      ],
      "execution_count": 0,
      "outputs": []
    },
    {
      "cell_type": "code",
      "metadata": {
        "id": "HPw87kQWee3s",
        "colab_type": "code",
        "outputId": "e72d54fa-0746-4cfc-d8bd-f8d6763b201b",
        "colab": {
          "base_uri": "https://localhost:8080/",
          "height": 0
        }
      },
      "source": [
        "Healdata['heals'].mean()"
      ],
      "execution_count": 43,
      "outputs": [
        {
          "output_type": "execute_result",
          "data": {
            "text/plain": [
              "1.370147196987789"
            ]
          },
          "metadata": {
            "tags": []
          },
          "execution_count": 43
        }
      ]
    },
    {
      "cell_type": "markdown",
      "metadata": {
        "id": "EKTv-LzNepEA",
        "colab_type": "text"
      },
      "source": [
        "average of one heal is used by all the players in a single match."
      ]
    },
    {
      "cell_type": "code",
      "metadata": {
        "id": "HDCjF4GygZuv",
        "colab_type": "code",
        "outputId": "e8c82836-6d0f-4c58-8f93-87f53fbc9cb6",
        "colab": {
          "base_uri": "https://localhost:8080/",
          "height": 0
        }
      },
      "source": [
        "for i in [0.1,0.2,0.3,0.4,0.5,0.6,0.7,0.8,0.9,1]:\n",
        "  print(i*100,\"% of players uses {} heals per match.\".format(Healdata['heals'].quantile(i)))"
      ],
      "execution_count": 44,
      "outputs": [
        {
          "output_type": "stream",
          "text": [
            "10.0 % of players uses 0.0 heals per match.\n",
            "20.0 % of players uses 0.0 heals per match.\n",
            "30.0 % of players uses 0.0 heals per match.\n",
            "40.0 % of players uses 0.0 heals per match.\n",
            "50.0 % of players uses 0.0 heals per match.\n",
            "60.0 % of players uses 1.0 heals per match.\n",
            "70.0 % of players uses 1.0 heals per match.\n",
            "80.0 % of players uses 2.0 heals per match.\n",
            "90.0 % of players uses 5.0 heals per match.\n",
            "100 % of players uses 80.0 heals per match.\n"
          ],
          "name": "stdout"
        }
      ]
    },
    {
      "cell_type": "markdown",
      "metadata": {
        "id": "sqi-WR9mgveW",
        "colab_type": "text"
      },
      "source": [
        "turns out that 50% of the data don't use heal at all,which is makes sense,as we saw that these 50% of the population don't eve walk a single meter in the game.However a huge jump is seen in the 90-100 range."
      ]
    },
    {
      "cell_type": "code",
      "metadata": {
        "id": "dJPECoHavIdk",
        "colab_type": "code",
        "outputId": "cd28f81b-10c5-4b8e-93c9-ed05f05224fd",
        "colab": {
          "base_uri": "https://localhost:8080/",
          "height": 0
        }
      },
      "source": [
        "for i in [0.9,0.91,0.92,0.93,0.94,0.95,0.96,0.97,0.98,0.99,1]:\n",
        "  print(i*100,\"% players use {} heals.\".format(Healdata['heals'].quantile(i)))"
      ],
      "execution_count": 45,
      "outputs": [
        {
          "output_type": "stream",
          "text": [
            "90.0 % players use 5.0 heals.\n",
            "91.0 % players use 5.0 heals.\n",
            "92.0 % players use 5.0 heals.\n",
            "93.0 % players use 6.0 heals.\n",
            "94.0 % players use 6.0 heals.\n",
            "95.0 % players use 7.0 heals.\n",
            "96.0 % players use 7.0 heals.\n",
            "97.0 % players use 8.0 heals.\n",
            "98.0 % players use 10.0 heals.\n",
            "99.0 % players use 12.0 heals.\n",
            "100 % players use 80.0 heals.\n"
          ],
          "name": "stdout"
        }
      ]
    },
    {
      "cell_type": "code",
      "metadata": {
        "id": "N7WjqUCiwLNv",
        "colab_type": "code",
        "outputId": "c30634aa-ec5d-4505-beaa-0e974ded64d6",
        "colab": {
          "base_uri": "https://localhost:8080/",
          "height": 0
        }
      },
      "source": [
        "healdata = Healdata.copy()\n",
        "healdata['heal_cat'] = pd.cut(Healdata['heals'],(-1,0,2,4,6,8,10,12,90),labels=['0','1-2','3-4','5-6','7-8 ','9-10','11-12','12+'])\n",
        "\n",
        "plt.figure(figsize=(20,10))\n",
        "sns.boxplot(healdata['heal_cat'],healdata['winPlacePerc'])\n",
        "plt.title(\"HEAL ANALYSIS\")\n",
        "plt.xlabel(\"number of heals used\")\n",
        "plt.ylabel(\"win percentage\")\n",
        "plt.tight_layout()"
      ],
      "execution_count": 46,
      "outputs": [
        {
          "output_type": "display_data",
          "data": {
            "image/png": "[encoded data removed]",
            "text/plain": [
              "<Figure size 1440x720 with 1 Axes>"
            ]
          },
          "metadata": {
            "tags": []
          }
        }
      ]
    },
    {
      "cell_type": "markdown",
      "metadata": {
        "id": "UP5KERMMyDdO",
        "colab_type": "text"
      },
      "source": [
        "people using more than 3 heals per game show around 80% chance of winning,However outliers are higher as it does not guarantee the win."
      ]
    },
    {
      "cell_type": "markdown",
      "metadata": {
        "id": "pMgxkN6Zzet1",
        "colab_type": "text"
      },
      "source": [
        "### Analysing weapon acquired"
      ]
    },
    {
      "cell_type": "code",
      "metadata": {
        "id": "IcBqQItDyWWQ",
        "colab_type": "code",
        "colab": {}
      },
      "source": [
        "weapdata = train.copy()"
      ],
      "execution_count": 0,
      "outputs": []
    },
    {
      "cell_type": "code",
      "metadata": {
        "id": "azKm4tykcoj9",
        "colab_type": "code",
        "outputId": "8d6f05d0-1ffb-4e46-c555-97e79101eeb7",
        "colab": {
          "base_uri": "https://localhost:8080/",
          "height": 0
        }
      },
      "source": [
        "for i in [0.1,0.2,0.3,0.4,0.5,0.6,0.7,0.8,0.9,0.93,0.96,0.99,1]:\n",
        "  print(i*100,\"% players use {} heals.\".format(weapdata['weaponsAcquired'].quantile(i)))"
      ],
      "execution_count": 48,
      "outputs": [
        {
          "output_type": "stream",
          "text": [
            "10.0 % players use 1.0 heals.\n",
            "20.0 % players use 2.0 heals.\n",
            "30.0 % players use 2.0 heals.\n",
            "40.0 % players use 3.0 heals.\n",
            "50.0 % players use 3.0 heals.\n",
            "60.0 % players use 4.0 heals.\n",
            "70.0 % players use 5.0 heals.\n",
            "80.0 % players use 5.0 heals.\n",
            "90.0 % players use 7.0 heals.\n",
            "93.0 % players use 7.0 heals.\n",
            "96.0 % players use 8.0 heals.\n",
            "99.0 % players use 10.0 heals.\n",
            "100 % players use 236.0 heals.\n"
          ],
          "name": "stdout"
        }
      ]
    },
    {
      "cell_type": "markdown",
      "metadata": {
        "id": "6sdbDMJDzr1q",
        "colab_type": "text"
      },
      "source": [
        "let's first see people with no weapon winning a match."
      ]
    },
    {
      "cell_type": "code",
      "metadata": {
        "id": "MBLucBKCzjUH",
        "colab_type": "code",
        "outputId": "a29b763f-31e8-4f79-ea1f-139ca1f6947b",
        "colab": {
          "base_uri": "https://localhost:8080/",
          "height": 0
        }
      },
      "source": [
        "weapdata1 = weapdata[weapdata['weaponsAcquired']==0]\n",
        "print(len(weapdata1['weaponsAcquired']))"
      ],
      "execution_count": 49,
      "outputs": [
        {
          "output_type": "stream",
          "text": [
            "226578\n"
          ],
          "name": "stdout"
        }
      ]
    },
    {
      "cell_type": "markdown",
      "metadata": {
        "id": "WonXuESU0Kb7",
        "colab_type": "text"
      },
      "source": [
        "About 2 lakh people with no weapon played the gun."
      ]
    },
    {
      "cell_type": "code",
      "metadata": {
        "id": "5822KR4b65DG",
        "colab_type": "code",
        "outputId": "ffc6d6c9-98d7-4c16-f14d-b20970e49453",
        "colab": {
          "base_uri": "https://localhost:8080/",
          "height": 0
        }
      },
      "source": [
        "print(len(weapdata1[weapdata1['winPlacePerc']==1]),\" people came first with no weapon,which is about\",100*(len(weapdata1[weapdata1['winPlacePerc']==1])/len(weapdata[weapdata['winPlacePerc']==1])),\"%\")"
      ],
      "execution_count": 50,
      "outputs": [
        {
          "output_type": "stream",
          "text": [
            "201  people came first with no weapon,which is about 0.15755684980364185 %\n"
          ],
          "name": "stdout"
        }
      ]
    },
    {
      "cell_type": "markdown",
      "metadata": {
        "id": "-fE5xtQh79FC",
        "colab_type": "text"
      },
      "source": [
        "Maybe these people were in a squad or maybe duo or maybe in solo.This makes sense because winning without weapon is hard."
      ]
    },
    {
      "cell_type": "code",
      "metadata": {
        "id": "zCUz924W0Gbx",
        "colab_type": "code",
        "colab": {}
      },
      "source": [
        "weapdata2 = weapdata1[weapdata1['winPlacePerc']==1]"
      ],
      "execution_count": 0,
      "outputs": []
    },
    {
      "cell_type": "code",
      "metadata": {
        "id": "bI44PpKN8fJI",
        "colab_type": "code",
        "outputId": "bc7190a9-ae40-43ce-fc8d-1a1ecefc88d4",
        "colab": {
          "base_uri": "https://localhost:8080/",
          "height": 0
        }
      },
      "source": [
        "weapdata2.groupby('matchType').nunique()"
      ],
      "execution_count": 52,
      "outputs": [
        {
          "output_type": "execute_result",
          "data": {
            "text/html": [
              "<div>\n",
              "<style scoped>\n",
              "    .dataframe tbody tr th:only-of-type {\n",
              "        vertical-align: middle;\n",
              "    }\n",
              "\n",
              "    .dataframe tbody tr th {\n",
              "        vertical-align: top;\n",
              "    }\n",
              "\n",
              "    .dataframe thead th {\n",
              "        text-align: right;\n",
              "    }\n",
              "</style>\n",
              "<table border=\"1\" class=\"dataframe\">\n",
              "  <thead>\n",
              "    <tr style=\"text-align: right;\">\n",
              "      <th></th>\n",
              "      <th>Id</th>\n",
              "      <th>groupId</th>\n",
              "      <th>matchId</th>\n",
              "      <th>assists</th>\n",
              "      <th>boosts</th>\n",
              "      <th>damageDealt</th>\n",
              "      <th>DBNOs</th>\n",
              "      <th>headshotKills</th>\n",
              "      <th>heals</th>\n",
              "      <th>killPlace</th>\n",
              "      <th>killPoints</th>\n",
              "      <th>kills</th>\n",
              "      <th>killStreaks</th>\n",
              "      <th>longestKill</th>\n",
              "      <th>matchDuration</th>\n",
              "      <th>matchType</th>\n",
              "      <th>maxPlace</th>\n",
              "      <th>numGroups</th>\n",
              "      <th>rankPoints</th>\n",
              "      <th>revives</th>\n",
              "      <th>rideDistance</th>\n",
              "      <th>roadKills</th>\n",
              "      <th>swimDistance</th>\n",
              "      <th>teamKills</th>\n",
              "      <th>vehicleDestroys</th>\n",
              "      <th>walkDistance</th>\n",
              "      <th>weaponsAcquired</th>\n",
              "      <th>winPoints</th>\n",
              "      <th>winPlacePerc</th>\n",
              "    </tr>\n",
              "    <tr>\n",
              "      <th>matchType</th>\n",
              "      <th></th>\n",
              "      <th></th>\n",
              "      <th></th>\n",
              "      <th></th>\n",
              "      <th></th>\n",
              "      <th></th>\n",
              "      <th></th>\n",
              "      <th></th>\n",
              "      <th></th>\n",
              "      <th></th>\n",
              "      <th></th>\n",
              "      <th></th>\n",
              "      <th></th>\n",
              "      <th></th>\n",
              "      <th></th>\n",
              "      <th></th>\n",
              "      <th></th>\n",
              "      <th></th>\n",
              "      <th></th>\n",
              "      <th></th>\n",
              "      <th></th>\n",
              "      <th></th>\n",
              "      <th></th>\n",
              "      <th></th>\n",
              "      <th></th>\n",
              "      <th></th>\n",
              "      <th></th>\n",
              "      <th></th>\n",
              "      <th></th>\n",
              "    </tr>\n",
              "  </thead>\n",
              "  <tbody>\n",
              "    <tr>\n",
              "      <th>duo</th>\n",
              "      <td>19</td>\n",
              "      <td>17</td>\n",
              "      <td>17</td>\n",
              "      <td>3</td>\n",
              "      <td>5</td>\n",
              "      <td>12</td>\n",
              "      <td>3</td>\n",
              "      <td>2</td>\n",
              "      <td>4</td>\n",
              "      <td>16</td>\n",
              "      <td>6</td>\n",
              "      <td>6</td>\n",
              "      <td>4</td>\n",
              "      <td>10</td>\n",
              "      <td>16</td>\n",
              "      <td>1</td>\n",
              "      <td>8</td>\n",
              "      <td>9</td>\n",
              "      <td>6</td>\n",
              "      <td>2</td>\n",
              "      <td>10</td>\n",
              "      <td>5</td>\n",
              "      <td>1</td>\n",
              "      <td>2</td>\n",
              "      <td>1</td>\n",
              "      <td>19</td>\n",
              "      <td>1</td>\n",
              "      <td>6</td>\n",
              "      <td>1</td>\n",
              "    </tr>\n",
              "    <tr>\n",
              "      <th>solo</th>\n",
              "      <td>17</td>\n",
              "      <td>15</td>\n",
              "      <td>15</td>\n",
              "      <td>1</td>\n",
              "      <td>2</td>\n",
              "      <td>5</td>\n",
              "      <td>1</td>\n",
              "      <td>1</td>\n",
              "      <td>2</td>\n",
              "      <td>4</td>\n",
              "      <td>1</td>\n",
              "      <td>1</td>\n",
              "      <td>1</td>\n",
              "      <td>1</td>\n",
              "      <td>2</td>\n",
              "      <td>1</td>\n",
              "      <td>4</td>\n",
              "      <td>1</td>\n",
              "      <td>1</td>\n",
              "      <td>1</td>\n",
              "      <td>2</td>\n",
              "      <td>1</td>\n",
              "      <td>3</td>\n",
              "      <td>1</td>\n",
              "      <td>1</td>\n",
              "      <td>3</td>\n",
              "      <td>1</td>\n",
              "      <td>1</td>\n",
              "      <td>1</td>\n",
              "    </tr>\n",
              "    <tr>\n",
              "      <th>squad</th>\n",
              "      <td>165</td>\n",
              "      <td>154</td>\n",
              "      <td>154</td>\n",
              "      <td>3</td>\n",
              "      <td>5</td>\n",
              "      <td>28</td>\n",
              "      <td>4</td>\n",
              "      <td>1</td>\n",
              "      <td>3</td>\n",
              "      <td>29</td>\n",
              "      <td>54</td>\n",
              "      <td>5</td>\n",
              "      <td>3</td>\n",
              "      <td>8</td>\n",
              "      <td>135</td>\n",
              "      <td>1</td>\n",
              "      <td>12</td>\n",
              "      <td>13</td>\n",
              "      <td>83</td>\n",
              "      <td>2</td>\n",
              "      <td>34</td>\n",
              "      <td>3</td>\n",
              "      <td>11</td>\n",
              "      <td>2</td>\n",
              "      <td>2</td>\n",
              "      <td>149</td>\n",
              "      <td>1</td>\n",
              "      <td>46</td>\n",
              "      <td>1</td>\n",
              "    </tr>\n",
              "  </tbody>\n",
              "</table>\n",
              "</div>"
            ],
            "text/plain": [
              "            Id  groupId  matchId  ...  weaponsAcquired  winPoints  winPlacePerc\n",
              "matchType                         ...                                          \n",
              "duo         19       17       17  ...                1          6             1\n",
              "solo        17       15       15  ...                1          1             1\n",
              "squad      165      154      154  ...                1         46             1\n",
              "\n",
              "[3 rows x 29 columns]"
            ]
          },
          "metadata": {
            "tags": []
          },
          "execution_count": 52
        }
      ]
    },
    {
      "cell_type": "markdown",
      "metadata": {
        "id": "BOthyn558ng7",
        "colab_type": "text"
      },
      "source": [
        "Turns out most of them belonged to squad about 165 of them,17 were in solo and rest 19 in a duo match."
      ]
    },
    {
      "cell_type": "markdown",
      "metadata": {
        "id": "4vB0f7aa9yut",
        "colab_type": "text"
      },
      "source": [
        "### Analysing team kills"
      ]
    },
    {
      "cell_type": "code",
      "metadata": {
        "id": "djDN-JoX8qwu",
        "colab_type": "code",
        "colab": {}
      },
      "source": [
        "teamdata = train.copy()"
      ],
      "execution_count": 0,
      "outputs": []
    },
    {
      "cell_type": "code",
      "metadata": {
        "id": "vYiBy4Fr-DEO",
        "colab_type": "code",
        "colab": {}
      },
      "source": [
        "teamdata = teamdata.groupby('matchType')\n",
        "squad = teamdata.get_group('squad')\n",
        "duo = teamdata.get_group('duo')\n",
        "solo = teamdata.get_group('solo')"
      ],
      "execution_count": 0,
      "outputs": []
    },
    {
      "cell_type": "code",
      "metadata": {
        "id": "CzSQ4lITETFr",
        "colab_type": "code",
        "outputId": "f6a32641-4547-4ca0-e4ac-3e5979a7e34c",
        "colab": {
          "base_uri": "https://localhost:8080/",
          "height": 0
        }
      },
      "source": [
        "print(\"Maximum squad kills is\",squad['kills'].max())\n",
        "print(\"Maximum duo kills is\",duo['kills'].max())\n",
        "print(\"Maxximum solo kill is\",solo['kills'].max())"
      ],
      "execution_count": 55,
      "outputs": [
        {
          "output_type": "stream",
          "text": [
            "Maximum squad kills is 72\n",
            "Maximum duo kills is 57\n",
            "Maxximum solo kill is 66\n"
          ],
          "name": "stdout"
        }
      ]
    },
    {
      "cell_type": "markdown",
      "metadata": {
        "id": "6mpG9eo-V5gt",
        "colab_type": "text"
      },
      "source": [
        "Let's analyse the squad kills"
      ]
    },
    {
      "cell_type": "code",
      "metadata": {
        "id": "NAYYqdQLE2LQ",
        "colab_type": "code",
        "outputId": "1e0e9b17-fb7e-4907-cf9e-3373ae675bda",
        "colab": {
          "base_uri": "https://localhost:8080/",
          "height": 0
        }
      },
      "source": [
        "for i in [0.1,0.2,0.3,0.4,0.5,0.6,0.7,0.8,0.9,0.93,0.96,0.99,1]:\n",
        "  print(i*100,\"% of squad gets {} kills.\".format(squad['kills'].quantile(i)))"
      ],
      "execution_count": 56,
      "outputs": [
        {
          "output_type": "stream",
          "text": [
            "10.0 % of squad gets 0.0 kills.\n",
            "20.0 % of squad gets 0.0 kills.\n",
            "30.0 % of squad gets 0.0 kills.\n",
            "40.0 % of squad gets 0.0 kills.\n",
            "50.0 % of squad gets 0.0 kills.\n",
            "60.0 % of squad gets 1.0 kills.\n",
            "70.0 % of squad gets 1.0 kills.\n",
            "80.0 % of squad gets 2.0 kills.\n",
            "90.0 % of squad gets 3.0 kills.\n",
            "93.0 % of squad gets 3.0 kills.\n",
            "96.0 % of squad gets 4.0 kills.\n",
            "99.0 % of squad gets 7.0 kills.\n",
            "100 % of squad gets 72.0 kills.\n"
          ],
          "name": "stdout"
        }
      ]
    },
    {
      "cell_type": "code",
      "metadata": {
        "id": "6I15UJKfUtTU",
        "colab_type": "code",
        "colab": {}
      },
      "source": [
        ""
      ],
      "execution_count": 0,
      "outputs": []
    },
    {
      "cell_type": "code",
      "metadata": {
        "id": "6mnfgZcRJM1A",
        "colab_type": "code",
        "outputId": "fe034e48-633a-47b2-e501-c67ce4251cc0",
        "colab": {
          "base_uri": "https://localhost:8080/",
          "height": 0
        }
      },
      "source": [
        "squad0 = squad[squad['kills']==0]\n",
        "\n",
        "print(len(squad0[squad0['winPlacePerc']==1]),\" squads won without a single kill,which is {}% .\".format(100*(len(squad0[squad0['winPlacePerc']==1])/len(squad0))))"
      ],
      "execution_count": 57,
      "outputs": [
        {
          "output_type": "stream",
          "text": [
            "13980  squads won without a single kill,which is 1.020027711482462% .\n"
          ],
          "name": "stdout"
        }
      ]
    },
    {
      "cell_type": "code",
      "metadata": {
        "id": "URu0H01lHk7M",
        "colab_type": "code",
        "outputId": "1b9cc374-3131-4a5f-d970-bbe002d14374",
        "colab": {
          "base_uri": "https://localhost:8080/",
          "height": 0
        }
      },
      "source": [
        "squad['squad_cat'] = pd.cut(squad['kills'],[-1,1,3,4,7,80])\n",
        "plt.figure(figsize=(20,10))\n",
        "sns.boxplot(squad['squad_cat'],squad['winPlacePerc'])"
      ],
      "execution_count": 58,
      "outputs": [
        {
          "output_type": "execute_result",
          "data": {
            "text/plain": [
              "<matplotlib.axes._subplots.AxesSubplot at 0x7f8335297160>"
            ]
          },
          "metadata": {
            "tags": []
          },
          "execution_count": 58
        },
        {
          "output_type": "display_data",
          "data": {
            "image/png": "[encoded data removed]",
            "text/plain": [
              "<Figure size 1440x720 with 1 Axes>"
            ]
          },
          "metadata": {
            "tags": []
          }
        }
      ]
    },
    {
      "cell_type": "markdown",
      "metadata": {
        "id": "KjrlTsmXVfqH",
        "colab_type": "text"
      },
      "source": [
        "squad with more than 4 kills had greater chances of winning"
      ]
    },
    {
      "cell_type": "markdown",
      "metadata": {
        "id": "GFIsixRsWUjF",
        "colab_type": "text"
      },
      "source": [
        "Duo analysis"
      ]
    },
    {
      "cell_type": "code",
      "metadata": {
        "id": "i7xQRImsVquL",
        "colab_type": "code",
        "outputId": "acfce7d3-ac53-45c5-96c4-9d0e28fa1762",
        "colab": {
          "base_uri": "https://localhost:8080/",
          "height": 0
        }
      },
      "source": [
        "for i in [0.1,0.2,0.3,0.4,0.5,0.6,0.7,0.8,0.9,0.93,0.96,0.99,1]:\n",
        "  print(i*100,\"% of duo gets {} kills.\".format(duo['kills'].quantile(i)))"
      ],
      "execution_count": 59,
      "outputs": [
        {
          "output_type": "stream",
          "text": [
            "10.0 % of duo gets 0.0 kills.\n",
            "20.0 % of duo gets 0.0 kills.\n",
            "30.0 % of duo gets 0.0 kills.\n",
            "40.0 % of duo gets 0.0 kills.\n",
            "50.0 % of duo gets 0.0 kills.\n",
            "60.0 % of duo gets 1.0 kills.\n",
            "70.0 % of duo gets 1.0 kills.\n",
            "80.0 % of duo gets 2.0 kills.\n",
            "90.0 % of duo gets 3.0 kills.\n",
            "93.0 % of duo gets 3.0 kills.\n",
            "96.0 % of duo gets 4.0 kills.\n",
            "99.0 % of duo gets 7.0 kills.\n",
            "100 % of duo gets 57.0 kills.\n"
          ],
          "name": "stdout"
        }
      ]
    },
    {
      "cell_type": "code",
      "metadata": {
        "id": "Dq-2fszVWZa1",
        "colab_type": "code",
        "outputId": "2c939567-b91c-4b93-9e7a-ee03011122eb",
        "colab": {
          "base_uri": "https://localhost:8080/",
          "height": 0
        }
      },
      "source": [
        "duo0 = duo[duo['kills']==0]\n",
        "print(len(duo0[duo0['winPlacePerc']==1]),\" duos won without a single kill,which is {}%.\".format(100*(len(duo0[duo0['winPlacePerc']==1])/len(duo0))))\n"
      ],
      "execution_count": 60,
      "outputs": [
        {
          "output_type": "stream",
          "text": [
            "1743  duos won without a single kill,which is 0.2292600542963571%.\n"
          ],
          "name": "stdout"
        }
      ]
    },
    {
      "cell_type": "code",
      "metadata": {
        "id": "Lk9Kx3-7WpEn",
        "colab_type": "code",
        "outputId": "3091c2a7-744d-4e08-91ae-d2121082d203",
        "colab": {
          "base_uri": "https://localhost:8080/",
          "height": 0
        }
      },
      "source": [
        "duo['squad_cat'] = pd.cut(duo['kills'],[-1,1,3,4,7,60])\n",
        "plt.figure(figsize=(20,10))\n",
        "sns.boxplot(duo['squad_cat'],duo['winPlacePerc'])"
      ],
      "execution_count": 61,
      "outputs": [
        {
          "output_type": "execute_result",
          "data": {
            "text/plain": [
              "<matplotlib.axes._subplots.AxesSubplot at 0x7f8334fdf7f0>"
            ]
          },
          "metadata": {
            "tags": []
          },
          "execution_count": 61
        },
        {
          "output_type": "display_data",
          "data": {
            "image/png": "[encoded data removed]",
            "text/plain": [
              "<Figure size 1440x720 with 1 Axes>"
            ]
          },
          "metadata": {
            "tags": []
          }
        }
      ]
    },
    {
      "cell_type": "markdown",
      "metadata": {
        "id": "hQsqMvzhW8LX",
        "colab_type": "text"
      },
      "source": [
        "duo with kill more than 4 had better probability of winning"
      ]
    },
    {
      "cell_type": "markdown",
      "metadata": {
        "id": "jKdBNroWXCEW",
        "colab_type": "text"
      },
      "source": [
        "Solo analysis"
      ]
    },
    {
      "cell_type": "code",
      "metadata": {
        "id": "6sy_JS8LXFp2",
        "colab_type": "code",
        "outputId": "1d0693f3-7bde-48dc-b883-c9dea3ce54aa",
        "colab": {
          "base_uri": "https://localhost:8080/",
          "height": 0
        }
      },
      "source": [
        "for i in [0.1,0.2,0.3,0.4,0.5,0.6,0.7,0.8,0.9,0.93,0.96,0.99,1]:\n",
        "  print(i*100,\"% of solo gets {} kills.\".format(solo['kills'].quantile(i)))"
      ],
      "execution_count": 62,
      "outputs": [
        {
          "output_type": "stream",
          "text": [
            "10.0 % of solo gets 0.0 kills.\n",
            "20.0 % of solo gets 0.0 kills.\n",
            "30.0 % of solo gets 0.0 kills.\n",
            "40.0 % of solo gets 0.0 kills.\n",
            "50.0 % of solo gets 0.0 kills.\n",
            "60.0 % of solo gets 1.0 kills.\n",
            "70.0 % of solo gets 1.0 kills.\n",
            "80.0 % of solo gets 2.0 kills.\n",
            "90.0 % of solo gets 3.0 kills.\n",
            "93.0 % of solo gets 3.0 kills.\n",
            "96.0 % of solo gets 4.0 kills.\n",
            "99.0 % of solo gets 7.0 kills.\n",
            "100 % of solo gets 66.0 kills.\n"
          ],
          "name": "stdout"
        }
      ]
    },
    {
      "cell_type": "code",
      "metadata": {
        "id": "2UQC-xSCWmmC",
        "colab_type": "code",
        "outputId": "50359a55-7c63-4f1b-93d7-51128868c15b",
        "colab": {
          "base_uri": "https://localhost:8080/",
          "height": 0
        }
      },
      "source": [
        "solo0 = solo[solo['kills']==0]\n",
        "print(len(solo0[solo0['winPlacePerc']==1]),\" solo players won without a single kill,which is {}%.\".format(100*(len(solo0[solo0['winPlacePerc']==1])/len(solo0))))"
      ],
      "execution_count": 63,
      "outputs": [
        {
          "output_type": "stream",
          "text": [
            "943  solo players won without a single kill,which is 0.23640069290722715%.\n"
          ],
          "name": "stdout"
        }
      ]
    },
    {
      "cell_type": "code",
      "metadata": {
        "id": "h24vQA01XP2A",
        "colab_type": "code",
        "outputId": "3653fc65-9664-494c-f794-b32d20a8f1ef",
        "colab": {
          "base_uri": "https://localhost:8080/",
          "height": 0
        }
      },
      "source": [
        "solo['squad_cat'] = pd.cut(solo['kills'],[-1,1,3,4,7,60])\n",
        "plt.figure(figsize=(20,10))\n",
        "sns.boxplot(solo['squad_cat'],solo['winPlacePerc'])"
      ],
      "execution_count": 64,
      "outputs": [
        {
          "output_type": "execute_result",
          "data": {
            "text/plain": [
              "<matplotlib.axes._subplots.AxesSubplot at 0x7f8334fcedd8>"
            ]
          },
          "metadata": {
            "tags": []
          },
          "execution_count": 64
        },
        {
          "output_type": "display_data",
          "data": {
            "image/png": "[encoded data removed]",
            "text/plain": [
              "<Figure size 1440x720 with 1 Axes>"
            ]
          },
          "metadata": {
            "tags": []
          }
        }
      ]
    },
    {
      "cell_type": "markdown",
      "metadata": {
        "id": "Opef0VVLXrtJ",
        "colab_type": "text"
      },
      "source": [
        "### Removing the outliers or hackers."
      ]
    },
    {
      "cell_type": "code",
      "metadata": {
        "id": "c4DQ8Fyyxd96",
        "colab_type": "code",
        "outputId": "28b66019-544f-40fd-ee96-c3da74af9fd5",
        "colab": {
          "base_uri": "https://localhost:8080/",
          "height": 0
        }
      },
      "source": [
        "train.shape"
      ],
      "execution_count": 65,
      "outputs": [
        {
          "output_type": "execute_result",
          "data": {
            "text/plain": [
              "(4446966, 29)"
            ]
          },
          "metadata": {
            "tags": []
          },
          "execution_count": 65
        }
      ]
    },
    {
      "cell_type": "code",
      "metadata": {
        "id": "w253gpBTuJqz",
        "colab_type": "code",
        "colab": {}
      },
      "source": [
        "train.drop(train[train['winPlacePerc'].isnull()].index,inplace=True)"
      ],
      "execution_count": 0,
      "outputs": []
    },
    {
      "cell_type": "code",
      "metadata": {
        "id": "k4LbZXROxAV3",
        "colab_type": "code",
        "outputId": "7deb20ce-ac34-4eb8-f98d-923fc4bba439",
        "colab": {
          "base_uri": "https://localhost:8080/",
          "height": 0
        }
      },
      "source": [
        "train.shape"
      ],
      "execution_count": 67,
      "outputs": [
        {
          "output_type": "execute_result",
          "data": {
            "text/plain": [
              "(4446965, 29)"
            ]
          },
          "metadata": {
            "tags": []
          },
          "execution_count": 67
        }
      ]
    },
    {
      "cell_type": "code",
      "metadata": {
        "id": "aE14hd6Rxjhi",
        "colab_type": "code",
        "outputId": "e1454dee-bc0c-4d88-a38b-b7ecd4cd1ec4",
        "colab": {
          "base_uri": "https://localhost:8080/",
          "height": 0
        }
      },
      "source": [
        "train.columns"
      ],
      "execution_count": 68,
      "outputs": [
        {
          "output_type": "execute_result",
          "data": {
            "text/plain": [
              "Index(['Id', 'groupId', 'matchId', 'assists', 'boosts', 'damageDealt', 'DBNOs',\n",
              "       'headshotKills', 'heals', 'killPlace', 'killPoints', 'kills',\n",
              "       'killStreaks', 'longestKill', 'matchDuration', 'matchType', 'maxPlace',\n",
              "       'numGroups', 'rankPoints', 'revives', 'rideDistance', 'roadKills',\n",
              "       'swimDistance', 'teamKills', 'vehicleDestroys', 'walkDistance',\n",
              "       'weaponsAcquired', 'winPoints', 'winPlacePerc'],\n",
              "      dtype='object')"
            ]
          },
          "metadata": {
            "tags": []
          },
          "execution_count": 68
        }
      ]
    },
    {
      "cell_type": "code",
      "metadata": {
        "id": "PE9TKtPNxwVv",
        "colab_type": "code",
        "colab": {}
      },
      "source": [
        "data_new = train.copy()\n"
      ],
      "execution_count": 0,
      "outputs": []
    },
    {
      "cell_type": "code",
      "metadata": {
        "id": "Mu53jT842aI4",
        "colab_type": "code",
        "outputId": "f06cf2c0-d021-47e6-8d26-aa9089156567",
        "colab": {
          "base_uri": "https://localhost:8080/",
          "height": 0
        }
      },
      "source": [
        "data_new[(data_new['kills']>0) & (data_new['walkDistance']==0)]"
      ],
      "execution_count": 70,
      "outputs": [
        {
          "output_type": "execute_result",
          "data": {
            "text/html": [
              "<div>\n",
              "<style scoped>\n",
              "    .dataframe tbody tr th:only-of-type {\n",
              "        vertical-align: middle;\n",
              "    }\n",
              "\n",
              "    .dataframe tbody tr th {\n",
              "        vertical-align: top;\n",
              "    }\n",
              "\n",
              "    .dataframe thead th {\n",
              "        text-align: right;\n",
              "    }\n",
              "</style>\n",
              "<table border=\"1\" class=\"dataframe\">\n",
              "  <thead>\n",
              "    <tr style=\"text-align: right;\">\n",
              "      <th></th>\n",
              "      <th>Id</th>\n",
              "      <th>groupId</th>\n",
              "      <th>matchId</th>\n",
              "      <th>assists</th>\n",
              "      <th>boosts</th>\n",
              "      <th>damageDealt</th>\n",
              "      <th>DBNOs</th>\n",
              "      <th>headshotKills</th>\n",
              "      <th>heals</th>\n",
              "      <th>killPlace</th>\n",
              "      <th>killPoints</th>\n",
              "      <th>kills</th>\n",
              "      <th>killStreaks</th>\n",
              "      <th>longestKill</th>\n",
              "      <th>matchDuration</th>\n",
              "      <th>matchType</th>\n",
              "      <th>maxPlace</th>\n",
              "      <th>numGroups</th>\n",
              "      <th>rankPoints</th>\n",
              "      <th>revives</th>\n",
              "      <th>rideDistance</th>\n",
              "      <th>roadKills</th>\n",
              "      <th>swimDistance</th>\n",
              "      <th>teamKills</th>\n",
              "      <th>vehicleDestroys</th>\n",
              "      <th>walkDistance</th>\n",
              "      <th>weaponsAcquired</th>\n",
              "      <th>winPoints</th>\n",
              "      <th>winPlacePerc</th>\n",
              "    </tr>\n",
              "  </thead>\n",
              "  <tbody>\n",
              "    <tr>\n",
              "      <th>1824</th>\n",
              "      <td>b538d514ef2476</td>\n",
              "      <td>0eb2ce2f43f9d6</td>\n",
              "      <td>35e7d750e442e2</td>\n",
              "      <td>0</td>\n",
              "      <td>0</td>\n",
              "      <td>593.000000</td>\n",
              "      <td>0</td>\n",
              "      <td>0</td>\n",
              "      <td>3</td>\n",
              "      <td>18</td>\n",
              "      <td>0</td>\n",
              "      <td>6</td>\n",
              "      <td>3</td>\n",
              "      <td>23.540001</td>\n",
              "      <td>593</td>\n",
              "      <td>squad</td>\n",
              "      <td>15</td>\n",
              "      <td>13</td>\n",
              "      <td>1500</td>\n",
              "      <td>0</td>\n",
              "      <td>0.0</td>\n",
              "      <td>0</td>\n",
              "      <td>0.0</td>\n",
              "      <td>0</td>\n",
              "      <td>0</td>\n",
              "      <td>0.0</td>\n",
              "      <td>8</td>\n",
              "      <td>0</td>\n",
              "      <td>0.8571</td>\n",
              "    </tr>\n",
              "    <tr>\n",
              "      <th>6673</th>\n",
              "      <td>6d3a61da07b7cb</td>\n",
              "      <td>2d8119b1544f87</td>\n",
              "      <td>904cecf36217df</td>\n",
              "      <td>2</td>\n",
              "      <td>0</td>\n",
              "      <td>346.600006</td>\n",
              "      <td>0</td>\n",
              "      <td>0</td>\n",
              "      <td>6</td>\n",
              "      <td>33</td>\n",
              "      <td>0</td>\n",
              "      <td>3</td>\n",
              "      <td>1</td>\n",
              "      <td>6.523000</td>\n",
              "      <td>1794</td>\n",
              "      <td>squad</td>\n",
              "      <td>11</td>\n",
              "      <td>11</td>\n",
              "      <td>1500</td>\n",
              "      <td>0</td>\n",
              "      <td>0.0</td>\n",
              "      <td>0</td>\n",
              "      <td>0.0</td>\n",
              "      <td>0</td>\n",
              "      <td>0</td>\n",
              "      <td>0.0</td>\n",
              "      <td>22</td>\n",
              "      <td>0</td>\n",
              "      <td>0.6000</td>\n",
              "    </tr>\n",
              "    <tr>\n",
              "      <th>11892</th>\n",
              "      <td>550398a8f33db7</td>\n",
              "      <td>c3fd0e2abab0af</td>\n",
              "      <td>db6f6d1f0d4904</td>\n",
              "      <td>2</td>\n",
              "      <td>0</td>\n",
              "      <td>1750.000000</td>\n",
              "      <td>0</td>\n",
              "      <td>4</td>\n",
              "      <td>5</td>\n",
              "      <td>3</td>\n",
              "      <td>0</td>\n",
              "      <td>20</td>\n",
              "      <td>6</td>\n",
              "      <td>37.080002</td>\n",
              "      <td>898</td>\n",
              "      <td>solo</td>\n",
              "      <td>20</td>\n",
              "      <td>15</td>\n",
              "      <td>1500</td>\n",
              "      <td>0</td>\n",
              "      <td>0.0</td>\n",
              "      <td>0</td>\n",
              "      <td>0.0</td>\n",
              "      <td>0</td>\n",
              "      <td>0</td>\n",
              "      <td>0.0</td>\n",
              "      <td>13</td>\n",
              "      <td>0</td>\n",
              "      <td>0.8947</td>\n",
              "    </tr>\n",
              "    <tr>\n",
              "      <th>14631</th>\n",
              "      <td>58d690ee461e9d</td>\n",
              "      <td>ea5b6630b33d67</td>\n",
              "      <td>dbf34301df5e53</td>\n",
              "      <td>0</td>\n",
              "      <td>0</td>\n",
              "      <td>157.800003</td>\n",
              "      <td>0</td>\n",
              "      <td>0</td>\n",
              "      <td>0</td>\n",
              "      <td>69</td>\n",
              "      <td>1000</td>\n",
              "      <td>1</td>\n",
              "      <td>1</td>\n",
              "      <td>21.540001</td>\n",
              "      <td>799</td>\n",
              "      <td>squad</td>\n",
              "      <td>19</td>\n",
              "      <td>18</td>\n",
              "      <td>-1</td>\n",
              "      <td>0</td>\n",
              "      <td>0.0</td>\n",
              "      <td>0</td>\n",
              "      <td>0.0</td>\n",
              "      <td>0</td>\n",
              "      <td>0</td>\n",
              "      <td>0.0</td>\n",
              "      <td>7</td>\n",
              "      <td>1500</td>\n",
              "      <td>0.0000</td>\n",
              "    </tr>\n",
              "    <tr>\n",
              "      <th>15591</th>\n",
              "      <td>49b61fc963d632</td>\n",
              "      <td>0f5c5f19d9cc21</td>\n",
              "      <td>904cecf36217df</td>\n",
              "      <td>0</td>\n",
              "      <td>0</td>\n",
              "      <td>100.000000</td>\n",
              "      <td>0</td>\n",
              "      <td>1</td>\n",
              "      <td>0</td>\n",
              "      <td>37</td>\n",
              "      <td>0</td>\n",
              "      <td>1</td>\n",
              "      <td>1</td>\n",
              "      <td>55.430000</td>\n",
              "      <td>1794</td>\n",
              "      <td>squad</td>\n",
              "      <td>11</td>\n",
              "      <td>11</td>\n",
              "      <td>1500</td>\n",
              "      <td>0</td>\n",
              "      <td>0.0</td>\n",
              "      <td>0</td>\n",
              "      <td>0.0</td>\n",
              "      <td>0</td>\n",
              "      <td>0</td>\n",
              "      <td>0.0</td>\n",
              "      <td>10</td>\n",
              "      <td>0</td>\n",
              "      <td>0.3000</td>\n",
              "    </tr>\n",
              "    <tr>\n",
              "      <th>...</th>\n",
              "      <td>...</td>\n",
              "      <td>...</td>\n",
              "      <td>...</td>\n",
              "      <td>...</td>\n",
              "      <td>...</td>\n",
              "      <td>...</td>\n",
              "      <td>...</td>\n",
              "      <td>...</td>\n",
              "      <td>...</td>\n",
              "      <td>...</td>\n",
              "      <td>...</td>\n",
              "      <td>...</td>\n",
              "      <td>...</td>\n",
              "      <td>...</td>\n",
              "      <td>...</td>\n",
              "      <td>...</td>\n",
              "      <td>...</td>\n",
              "      <td>...</td>\n",
              "      <td>...</td>\n",
              "      <td>...</td>\n",
              "      <td>...</td>\n",
              "      <td>...</td>\n",
              "      <td>...</td>\n",
              "      <td>...</td>\n",
              "      <td>...</td>\n",
              "      <td>...</td>\n",
              "      <td>...</td>\n",
              "      <td>...</td>\n",
              "      <td>...</td>\n",
              "    </tr>\n",
              "    <tr>\n",
              "      <th>4440232</th>\n",
              "      <td>1f3a6d69d22c7e</td>\n",
              "      <td>60b2849191c539</td>\n",
              "      <td>ff9cd80c0d8fb7</td>\n",
              "      <td>0</td>\n",
              "      <td>0</td>\n",
              "      <td>4.316000</td>\n",
              "      <td>0</td>\n",
              "      <td>0</td>\n",
              "      <td>0</td>\n",
              "      <td>61</td>\n",
              "      <td>1000</td>\n",
              "      <td>1</td>\n",
              "      <td>1</td>\n",
              "      <td>41.250000</td>\n",
              "      <td>799</td>\n",
              "      <td>squad</td>\n",
              "      <td>10</td>\n",
              "      <td>10</td>\n",
              "      <td>-1</td>\n",
              "      <td>0</td>\n",
              "      <td>0.0</td>\n",
              "      <td>0</td>\n",
              "      <td>0.0</td>\n",
              "      <td>0</td>\n",
              "      <td>0</td>\n",
              "      <td>0.0</td>\n",
              "      <td>7</td>\n",
              "      <td>1500</td>\n",
              "      <td>0.8889</td>\n",
              "    </tr>\n",
              "    <tr>\n",
              "      <th>4440898</th>\n",
              "      <td>a089cb33a75968</td>\n",
              "      <td>eda174acfb503b</td>\n",
              "      <td>4c6b1a0e4cb346</td>\n",
              "      <td>0</td>\n",
              "      <td>0</td>\n",
              "      <td>90.830002</td>\n",
              "      <td>0</td>\n",
              "      <td>0</td>\n",
              "      <td>4</td>\n",
              "      <td>42</td>\n",
              "      <td>0</td>\n",
              "      <td>1</td>\n",
              "      <td>1</td>\n",
              "      <td>48.230000</td>\n",
              "      <td>1794</td>\n",
              "      <td>squad</td>\n",
              "      <td>2</td>\n",
              "      <td>2</td>\n",
              "      <td>1500</td>\n",
              "      <td>0</td>\n",
              "      <td>0.0</td>\n",
              "      <td>0</td>\n",
              "      <td>0.0</td>\n",
              "      <td>0</td>\n",
              "      <td>0</td>\n",
              "      <td>0.0</td>\n",
              "      <td>8</td>\n",
              "      <td>0</td>\n",
              "      <td>0.0000</td>\n",
              "    </tr>\n",
              "    <tr>\n",
              "      <th>4440927</th>\n",
              "      <td>0634c650048997</td>\n",
              "      <td>5ccccee03a7f17</td>\n",
              "      <td>fc0bbecba8db99</td>\n",
              "      <td>2</td>\n",
              "      <td>2</td>\n",
              "      <td>909.099976</td>\n",
              "      <td>7</td>\n",
              "      <td>2</td>\n",
              "      <td>16</td>\n",
              "      <td>26</td>\n",
              "      <td>1000</td>\n",
              "      <td>6</td>\n",
              "      <td>2</td>\n",
              "      <td>154.800003</td>\n",
              "      <td>1796</td>\n",
              "      <td>squad</td>\n",
              "      <td>11</td>\n",
              "      <td>11</td>\n",
              "      <td>-1</td>\n",
              "      <td>0</td>\n",
              "      <td>0.0</td>\n",
              "      <td>0</td>\n",
              "      <td>0.0</td>\n",
              "      <td>0</td>\n",
              "      <td>0</td>\n",
              "      <td>0.0</td>\n",
              "      <td>7</td>\n",
              "      <td>1500</td>\n",
              "      <td>0.6000</td>\n",
              "    </tr>\n",
              "    <tr>\n",
              "      <th>4441511</th>\n",
              "      <td>f5d385cadfab7e</td>\n",
              "      <td>a068f79011113c</td>\n",
              "      <td>fc0bbecba8db99</td>\n",
              "      <td>6</td>\n",
              "      <td>2</td>\n",
              "      <td>696.400024</td>\n",
              "      <td>9</td>\n",
              "      <td>2</td>\n",
              "      <td>0</td>\n",
              "      <td>18</td>\n",
              "      <td>1000</td>\n",
              "      <td>9</td>\n",
              "      <td>2</td>\n",
              "      <td>89.519997</td>\n",
              "      <td>1796</td>\n",
              "      <td>squad</td>\n",
              "      <td>11</td>\n",
              "      <td>11</td>\n",
              "      <td>-1</td>\n",
              "      <td>10</td>\n",
              "      <td>0.0</td>\n",
              "      <td>0</td>\n",
              "      <td>0.0</td>\n",
              "      <td>1</td>\n",
              "      <td>0</td>\n",
              "      <td>0.0</td>\n",
              "      <td>16</td>\n",
              "      <td>1500</td>\n",
              "      <td>0.9000</td>\n",
              "    </tr>\n",
              "    <tr>\n",
              "      <th>4446682</th>\n",
              "      <td>b444f8c7af62b5</td>\n",
              "      <td>4e5b8eefdd669e</td>\n",
              "      <td>54277ef2ed69b7</td>\n",
              "      <td>0</td>\n",
              "      <td>0</td>\n",
              "      <td>41.950001</td>\n",
              "      <td>0</td>\n",
              "      <td>0</td>\n",
              "      <td>0</td>\n",
              "      <td>48</td>\n",
              "      <td>0</td>\n",
              "      <td>1</td>\n",
              "      <td>1</td>\n",
              "      <td>43.380001</td>\n",
              "      <td>599</td>\n",
              "      <td>solo</td>\n",
              "      <td>54</td>\n",
              "      <td>27</td>\n",
              "      <td>1500</td>\n",
              "      <td>0</td>\n",
              "      <td>0.0</td>\n",
              "      <td>0</td>\n",
              "      <td>0.0</td>\n",
              "      <td>0</td>\n",
              "      <td>0</td>\n",
              "      <td>0.0</td>\n",
              "      <td>4</td>\n",
              "      <td>0</td>\n",
              "      <td>0.9434</td>\n",
              "    </tr>\n",
              "  </tbody>\n",
              "</table>\n",
              "<p>1549 rows × 29 columns</p>\n",
              "</div>"
            ],
            "text/plain": [
              "                     Id         groupId  ... winPoints  winPlacePerc\n",
              "1824     b538d514ef2476  0eb2ce2f43f9d6  ...         0        0.8571\n",
              "6673     6d3a61da07b7cb  2d8119b1544f87  ...         0        0.6000\n",
              "11892    550398a8f33db7  c3fd0e2abab0af  ...         0        0.8947\n",
              "14631    58d690ee461e9d  ea5b6630b33d67  ...      1500        0.0000\n",
              "15591    49b61fc963d632  0f5c5f19d9cc21  ...         0        0.3000\n",
              "...                 ...             ...  ...       ...           ...\n",
              "4440232  1f3a6d69d22c7e  60b2849191c539  ...      1500        0.8889\n",
              "4440898  a089cb33a75968  eda174acfb503b  ...         0        0.0000\n",
              "4440927  0634c650048997  5ccccee03a7f17  ...      1500        0.6000\n",
              "4441511  f5d385cadfab7e  a068f79011113c  ...      1500        0.9000\n",
              "4446682  b444f8c7af62b5  4e5b8eefdd669e  ...         0        0.9434\n",
              "\n",
              "[1549 rows x 29 columns]"
            ]
          },
          "metadata": {
            "tags": []
          },
          "execution_count": 70
        }
      ]
    },
    {
      "cell_type": "markdown",
      "metadata": {
        "id": "rHBGyP4u23Qw",
        "colab_type": "text"
      },
      "source": [
        "These players for sure are cheating as no one can get a single kill from not walking or moving at all,So let's remove them."
      ]
    },
    {
      "cell_type": "code",
      "metadata": {
        "id": "zlrwR2uD22z0",
        "colab_type": "code",
        "colab": {}
      },
      "source": [
        "data_new.drop(data_new[(data_new['kills']>0) & (data_new['walkDistance']==0)].index,inplace = True)"
      ],
      "execution_count": 0,
      "outputs": []
    },
    {
      "cell_type": "markdown",
      "metadata": {
        "id": "V6fGj7hfTo28",
        "colab_type": "text"
      },
      "source": [
        "Let's also remove people who have walked a great distance without a single kill."
      ]
    },
    {
      "cell_type": "code",
      "metadata": {
        "id": "_9A4859HTwJ8",
        "colab_type": "code",
        "outputId": "08e84400-25d0-49d2-a216-2fff16e8fb60",
        "colab": {
          "base_uri": "https://localhost:8080/",
          "height": 0
        }
      },
      "source": [
        "data_new[(data_new['walkDistance']>7000) & (data_new['kills']==0)]"
      ],
      "execution_count": 72,
      "outputs": [
        {
          "output_type": "execute_result",
          "data": {
            "text/html": [
              "<div>\n",
              "<style scoped>\n",
              "    .dataframe tbody tr th:only-of-type {\n",
              "        vertical-align: middle;\n",
              "    }\n",
              "\n",
              "    .dataframe tbody tr th {\n",
              "        vertical-align: top;\n",
              "    }\n",
              "\n",
              "    .dataframe thead th {\n",
              "        text-align: right;\n",
              "    }\n",
              "</style>\n",
              "<table border=\"1\" class=\"dataframe\">\n",
              "  <thead>\n",
              "    <tr style=\"text-align: right;\">\n",
              "      <th></th>\n",
              "      <th>Id</th>\n",
              "      <th>groupId</th>\n",
              "      <th>matchId</th>\n",
              "      <th>assists</th>\n",
              "      <th>boosts</th>\n",
              "      <th>damageDealt</th>\n",
              "      <th>DBNOs</th>\n",
              "      <th>headshotKills</th>\n",
              "      <th>heals</th>\n",
              "      <th>killPlace</th>\n",
              "      <th>killPoints</th>\n",
              "      <th>kills</th>\n",
              "      <th>killStreaks</th>\n",
              "      <th>longestKill</th>\n",
              "      <th>matchDuration</th>\n",
              "      <th>matchType</th>\n",
              "      <th>maxPlace</th>\n",
              "      <th>numGroups</th>\n",
              "      <th>rankPoints</th>\n",
              "      <th>revives</th>\n",
              "      <th>rideDistance</th>\n",
              "      <th>roadKills</th>\n",
              "      <th>swimDistance</th>\n",
              "      <th>teamKills</th>\n",
              "      <th>vehicleDestroys</th>\n",
              "      <th>walkDistance</th>\n",
              "      <th>weaponsAcquired</th>\n",
              "      <th>winPoints</th>\n",
              "      <th>winPlacePerc</th>\n",
              "    </tr>\n",
              "  </thead>\n",
              "  <tbody>\n",
              "    <tr>\n",
              "      <th>4942</th>\n",
              "      <td>55bdaf3722ba29</td>\n",
              "      <td>c42f9d608bacf9</td>\n",
              "      <td>b9180fc0b665c5</td>\n",
              "      <td>0</td>\n",
              "      <td>2</td>\n",
              "      <td>0.000000</td>\n",
              "      <td>0</td>\n",
              "      <td>0</td>\n",
              "      <td>6</td>\n",
              "      <td>54</td>\n",
              "      <td>0</td>\n",
              "      <td>0</td>\n",
              "      <td>0</td>\n",
              "      <td>0.0</td>\n",
              "      <td>1884</td>\n",
              "      <td>solo</td>\n",
              "      <td>95</td>\n",
              "      <td>93</td>\n",
              "      <td>1524</td>\n",
              "      <td>0</td>\n",
              "      <td>0.028300</td>\n",
              "      <td>0</td>\n",
              "      <td>67.349998</td>\n",
              "      <td>0</td>\n",
              "      <td>0</td>\n",
              "      <td>9325.0</td>\n",
              "      <td>3</td>\n",
              "      <td>0</td>\n",
              "      <td>0.6915</td>\n",
              "    </tr>\n",
              "    <tr>\n",
              "      <th>5199</th>\n",
              "      <td>e09430aff80b73</td>\n",
              "      <td>a7670f0aeb2259</td>\n",
              "      <td>45b0a0cf5e014d</td>\n",
              "      <td>0</td>\n",
              "      <td>0</td>\n",
              "      <td>21.540001</td>\n",
              "      <td>0</td>\n",
              "      <td>0</td>\n",
              "      <td>1</td>\n",
              "      <td>63</td>\n",
              "      <td>1175</td>\n",
              "      <td>0</td>\n",
              "      <td>0</td>\n",
              "      <td>0.0</td>\n",
              "      <td>1874</td>\n",
              "      <td>squad</td>\n",
              "      <td>30</td>\n",
              "      <td>30</td>\n",
              "      <td>0</td>\n",
              "      <td>0</td>\n",
              "      <td>0.034800</td>\n",
              "      <td>0</td>\n",
              "      <td>470.799988</td>\n",
              "      <td>0</td>\n",
              "      <td>0</td>\n",
              "      <td>7155.0</td>\n",
              "      <td>3</td>\n",
              "      <td>1544</td>\n",
              "      <td>0.4828</td>\n",
              "    </tr>\n",
              "    <tr>\n",
              "      <th>8760</th>\n",
              "      <td>5b342502229901</td>\n",
              "      <td>901cbeb065a18a</td>\n",
              "      <td>d0fa7e63daa3ba</td>\n",
              "      <td>0</td>\n",
              "      <td>4</td>\n",
              "      <td>49.299999</td>\n",
              "      <td>0</td>\n",
              "      <td>0</td>\n",
              "      <td>0</td>\n",
              "      <td>51</td>\n",
              "      <td>1106</td>\n",
              "      <td>0</td>\n",
              "      <td>0</td>\n",
              "      <td>0.0</td>\n",
              "      <td>1448</td>\n",
              "      <td>squad</td>\n",
              "      <td>28</td>\n",
              "      <td>27</td>\n",
              "      <td>-1</td>\n",
              "      <td>0</td>\n",
              "      <td>0.004000</td>\n",
              "      <td>0</td>\n",
              "      <td>30.190001</td>\n",
              "      <td>0</td>\n",
              "      <td>0</td>\n",
              "      <td>7352.0</td>\n",
              "      <td>4</td>\n",
              "      <td>1519</td>\n",
              "      <td>0.8889</td>\n",
              "    </tr>\n",
              "    <tr>\n",
              "      <th>12579</th>\n",
              "      <td>2f7629a6d8dd69</td>\n",
              "      <td>3129d0cbd055b2</td>\n",
              "      <td>9858c75dbbb4df</td>\n",
              "      <td>0</td>\n",
              "      <td>2</td>\n",
              "      <td>52.259998</td>\n",
              "      <td>0</td>\n",
              "      <td>0</td>\n",
              "      <td>5</td>\n",
              "      <td>40</td>\n",
              "      <td>0</td>\n",
              "      <td>0</td>\n",
              "      <td>0</td>\n",
              "      <td>0.0</td>\n",
              "      <td>1908</td>\n",
              "      <td>solo</td>\n",
              "      <td>99</td>\n",
              "      <td>90</td>\n",
              "      <td>2015</td>\n",
              "      <td>0</td>\n",
              "      <td>1912.000000</td>\n",
              "      <td>0</td>\n",
              "      <td>17.190001</td>\n",
              "      <td>0</td>\n",
              "      <td>0</td>\n",
              "      <td>7313.0</td>\n",
              "      <td>2</td>\n",
              "      <td>0</td>\n",
              "      <td>0.9694</td>\n",
              "    </tr>\n",
              "    <tr>\n",
              "      <th>13699</th>\n",
              "      <td>f010bf756b3ad4</td>\n",
              "      <td>105d235ea915cb</td>\n",
              "      <td>4411fd7991f968</td>\n",
              "      <td>0</td>\n",
              "      <td>1</td>\n",
              "      <td>0.000000</td>\n",
              "      <td>0</td>\n",
              "      <td>0</td>\n",
              "      <td>0</td>\n",
              "      <td>43</td>\n",
              "      <td>0</td>\n",
              "      <td>0</td>\n",
              "      <td>0</td>\n",
              "      <td>0.0</td>\n",
              "      <td>1865</td>\n",
              "      <td>duo</td>\n",
              "      <td>50</td>\n",
              "      <td>48</td>\n",
              "      <td>1512</td>\n",
              "      <td>0</td>\n",
              "      <td>1701.000000</td>\n",
              "      <td>0</td>\n",
              "      <td>63.160000</td>\n",
              "      <td>0</td>\n",
              "      <td>0</td>\n",
              "      <td>8767.0</td>\n",
              "      <td>4</td>\n",
              "      <td>0</td>\n",
              "      <td>0.7959</td>\n",
              "    </tr>\n",
              "    <tr>\n",
              "      <th>...</th>\n",
              "      <td>...</td>\n",
              "      <td>...</td>\n",
              "      <td>...</td>\n",
              "      <td>...</td>\n",
              "      <td>...</td>\n",
              "      <td>...</td>\n",
              "      <td>...</td>\n",
              "      <td>...</td>\n",
              "      <td>...</td>\n",
              "      <td>...</td>\n",
              "      <td>...</td>\n",
              "      <td>...</td>\n",
              "      <td>...</td>\n",
              "      <td>...</td>\n",
              "      <td>...</td>\n",
              "      <td>...</td>\n",
              "      <td>...</td>\n",
              "      <td>...</td>\n",
              "      <td>...</td>\n",
              "      <td>...</td>\n",
              "      <td>...</td>\n",
              "      <td>...</td>\n",
              "      <td>...</td>\n",
              "      <td>...</td>\n",
              "      <td>...</td>\n",
              "      <td>...</td>\n",
              "      <td>...</td>\n",
              "      <td>...</td>\n",
              "      <td>...</td>\n",
              "    </tr>\n",
              "    <tr>\n",
              "      <th>4424347</th>\n",
              "      <td>9612c1eba5b394</td>\n",
              "      <td>8fb1f633a0725f</td>\n",
              "      <td>2cdae31ee18601</td>\n",
              "      <td>0</td>\n",
              "      <td>2</td>\n",
              "      <td>0.000000</td>\n",
              "      <td>0</td>\n",
              "      <td>0</td>\n",
              "      <td>6</td>\n",
              "      <td>49</td>\n",
              "      <td>0</td>\n",
              "      <td>0</td>\n",
              "      <td>0</td>\n",
              "      <td>0.0</td>\n",
              "      <td>1896</td>\n",
              "      <td>duo</td>\n",
              "      <td>48</td>\n",
              "      <td>46</td>\n",
              "      <td>1500</td>\n",
              "      <td>0</td>\n",
              "      <td>0.045000</td>\n",
              "      <td>0</td>\n",
              "      <td>35.790001</td>\n",
              "      <td>0</td>\n",
              "      <td>0</td>\n",
              "      <td>8312.0</td>\n",
              "      <td>8</td>\n",
              "      <td>0</td>\n",
              "      <td>0.6170</td>\n",
              "    </tr>\n",
              "    <tr>\n",
              "      <th>4426318</th>\n",
              "      <td>e5e779fe07b70d</td>\n",
              "      <td>e44f24df4a8f14</td>\n",
              "      <td>c1c64ed04aea47</td>\n",
              "      <td>0</td>\n",
              "      <td>0</td>\n",
              "      <td>29.639999</td>\n",
              "      <td>0</td>\n",
              "      <td>0</td>\n",
              "      <td>0</td>\n",
              "      <td>60</td>\n",
              "      <td>0</td>\n",
              "      <td>0</td>\n",
              "      <td>0</td>\n",
              "      <td>0.0</td>\n",
              "      <td>1869</td>\n",
              "      <td>solo</td>\n",
              "      <td>96</td>\n",
              "      <td>94</td>\n",
              "      <td>1499</td>\n",
              "      <td>0</td>\n",
              "      <td>0.027000</td>\n",
              "      <td>0</td>\n",
              "      <td>43.880001</td>\n",
              "      <td>0</td>\n",
              "      <td>0</td>\n",
              "      <td>8111.0</td>\n",
              "      <td>3</td>\n",
              "      <td>0</td>\n",
              "      <td>0.6105</td>\n",
              "    </tr>\n",
              "    <tr>\n",
              "      <th>4430073</th>\n",
              "      <td>6cde307e4081a7</td>\n",
              "      <td>57c88e15f79af3</td>\n",
              "      <td>5b66793e5c260f</td>\n",
              "      <td>0</td>\n",
              "      <td>1</td>\n",
              "      <td>0.000000</td>\n",
              "      <td>0</td>\n",
              "      <td>0</td>\n",
              "      <td>1</td>\n",
              "      <td>58</td>\n",
              "      <td>1146</td>\n",
              "      <td>0</td>\n",
              "      <td>0</td>\n",
              "      <td>0.0</td>\n",
              "      <td>1821</td>\n",
              "      <td>squad</td>\n",
              "      <td>27</td>\n",
              "      <td>27</td>\n",
              "      <td>-1</td>\n",
              "      <td>0</td>\n",
              "      <td>0.017500</td>\n",
              "      <td>0</td>\n",
              "      <td>12.750000</td>\n",
              "      <td>0</td>\n",
              "      <td>0</td>\n",
              "      <td>9487.0</td>\n",
              "      <td>4</td>\n",
              "      <td>1455</td>\n",
              "      <td>0.6154</td>\n",
              "    </tr>\n",
              "    <tr>\n",
              "      <th>4439434</th>\n",
              "      <td>82387aec17209e</td>\n",
              "      <td>f710cc8626b879</td>\n",
              "      <td>2ec09aa461eec2</td>\n",
              "      <td>0</td>\n",
              "      <td>0</td>\n",
              "      <td>0.000000</td>\n",
              "      <td>1</td>\n",
              "      <td>0</td>\n",
              "      <td>3</td>\n",
              "      <td>53</td>\n",
              "      <td>0</td>\n",
              "      <td>0</td>\n",
              "      <td>0</td>\n",
              "      <td>0.0</td>\n",
              "      <td>1861</td>\n",
              "      <td>duo</td>\n",
              "      <td>49</td>\n",
              "      <td>46</td>\n",
              "      <td>1491</td>\n",
              "      <td>1</td>\n",
              "      <td>229.899994</td>\n",
              "      <td>0</td>\n",
              "      <td>169.399994</td>\n",
              "      <td>0</td>\n",
              "      <td>0</td>\n",
              "      <td>8227.0</td>\n",
              "      <td>2</td>\n",
              "      <td>0</td>\n",
              "      <td>0.6042</td>\n",
              "    </tr>\n",
              "    <tr>\n",
              "      <th>4442896</th>\n",
              "      <td>6a8be9552ab4be</td>\n",
              "      <td>6ccadf299c6821</td>\n",
              "      <td>c2a508340d624e</td>\n",
              "      <td>0</td>\n",
              "      <td>1</td>\n",
              "      <td>126.800003</td>\n",
              "      <td>1</td>\n",
              "      <td>0</td>\n",
              "      <td>1</td>\n",
              "      <td>42</td>\n",
              "      <td>0</td>\n",
              "      <td>0</td>\n",
              "      <td>0</td>\n",
              "      <td>0.0</td>\n",
              "      <td>1778</td>\n",
              "      <td>squad</td>\n",
              "      <td>24</td>\n",
              "      <td>23</td>\n",
              "      <td>1523</td>\n",
              "      <td>1</td>\n",
              "      <td>0.008600</td>\n",
              "      <td>0</td>\n",
              "      <td>39.049999</td>\n",
              "      <td>0</td>\n",
              "      <td>0</td>\n",
              "      <td>9398.0</td>\n",
              "      <td>4</td>\n",
              "      <td>0</td>\n",
              "      <td>0.8696</td>\n",
              "    </tr>\n",
              "  </tbody>\n",
              "</table>\n",
              "<p>1195 rows × 29 columns</p>\n",
              "</div>"
            ],
            "text/plain": [
              "                     Id         groupId  ... winPoints  winPlacePerc\n",
              "4942     55bdaf3722ba29  c42f9d608bacf9  ...         0        0.6915\n",
              "5199     e09430aff80b73  a7670f0aeb2259  ...      1544        0.4828\n",
              "8760     5b342502229901  901cbeb065a18a  ...      1519        0.8889\n",
              "12579    2f7629a6d8dd69  3129d0cbd055b2  ...         0        0.9694\n",
              "13699    f010bf756b3ad4  105d235ea915cb  ...         0        0.7959\n",
              "...                 ...             ...  ...       ...           ...\n",
              "4424347  9612c1eba5b394  8fb1f633a0725f  ...         0        0.6170\n",
              "4426318  e5e779fe07b70d  e44f24df4a8f14  ...         0        0.6105\n",
              "4430073  6cde307e4081a7  57c88e15f79af3  ...      1455        0.6154\n",
              "4439434  82387aec17209e  f710cc8626b879  ...         0        0.6042\n",
              "4442896  6a8be9552ab4be  6ccadf299c6821  ...         0        0.8696\n",
              "\n",
              "[1195 rows x 29 columns]"
            ]
          },
          "metadata": {
            "tags": []
          },
          "execution_count": 72
        }
      ]
    },
    {
      "cell_type": "code",
      "metadata": {
        "id": "2YGwn7RvU0wz",
        "colab_type": "code",
        "colab": {}
      },
      "source": [
        "data_new.drop(data_new[(data_new['walkDistance']>7000) & (data_new['kills']==0)].index,inplace=True)"
      ],
      "execution_count": 0,
      "outputs": []
    },
    {
      "cell_type": "markdown",
      "metadata": {
        "id": "HjtoY8CS7-Fs",
        "colab_type": "text"
      },
      "source": [
        "Let's see people having kills from more than 900m."
      ]
    },
    {
      "cell_type": "code",
      "metadata": {
        "id": "5-8A6RhO3end",
        "colab_type": "code",
        "outputId": "94c5baaf-0bce-4d37-8a1b-e7b7886a1285",
        "colab": {
          "base_uri": "https://localhost:8080/",
          "height": 0
        }
      },
      "source": [
        "data_new[(data_new['longestKill']>900) & (data_new['kills']>0)]"
      ],
      "execution_count": 74,
      "outputs": [
        {
          "output_type": "execute_result",
          "data": {
            "text/html": [
              "<div>\n",
              "<style scoped>\n",
              "    .dataframe tbody tr th:only-of-type {\n",
              "        vertical-align: middle;\n",
              "    }\n",
              "\n",
              "    .dataframe tbody tr th {\n",
              "        vertical-align: top;\n",
              "    }\n",
              "\n",
              "    .dataframe thead th {\n",
              "        text-align: right;\n",
              "    }\n",
              "</style>\n",
              "<table border=\"1\" class=\"dataframe\">\n",
              "  <thead>\n",
              "    <tr style=\"text-align: right;\">\n",
              "      <th></th>\n",
              "      <th>Id</th>\n",
              "      <th>groupId</th>\n",
              "      <th>matchId</th>\n",
              "      <th>assists</th>\n",
              "      <th>boosts</th>\n",
              "      <th>damageDealt</th>\n",
              "      <th>DBNOs</th>\n",
              "      <th>headshotKills</th>\n",
              "      <th>heals</th>\n",
              "      <th>killPlace</th>\n",
              "      <th>killPoints</th>\n",
              "      <th>kills</th>\n",
              "      <th>killStreaks</th>\n",
              "      <th>longestKill</th>\n",
              "      <th>matchDuration</th>\n",
              "      <th>matchType</th>\n",
              "      <th>maxPlace</th>\n",
              "      <th>numGroups</th>\n",
              "      <th>rankPoints</th>\n",
              "      <th>revives</th>\n",
              "      <th>rideDistance</th>\n",
              "      <th>roadKills</th>\n",
              "      <th>swimDistance</th>\n",
              "      <th>teamKills</th>\n",
              "      <th>vehicleDestroys</th>\n",
              "      <th>walkDistance</th>\n",
              "      <th>weaponsAcquired</th>\n",
              "      <th>winPoints</th>\n",
              "      <th>winPlacePerc</th>\n",
              "    </tr>\n",
              "  </thead>\n",
              "  <tbody>\n",
              "    <tr>\n",
              "      <th>49933</th>\n",
              "      <td>8d84a760b76634</td>\n",
              "      <td>dcbeb664940a34</td>\n",
              "      <td>ecf0c4f12fbd6a</td>\n",
              "      <td>0</td>\n",
              "      <td>4</td>\n",
              "      <td>1550.000000</td>\n",
              "      <td>14</td>\n",
              "      <td>10</td>\n",
              "      <td>2</td>\n",
              "      <td>1</td>\n",
              "      <td>0</td>\n",
              "      <td>16</td>\n",
              "      <td>4</td>\n",
              "      <td>953.599976</td>\n",
              "      <td>1835</td>\n",
              "      <td>squad</td>\n",
              "      <td>29</td>\n",
              "      <td>28</td>\n",
              "      <td>1573</td>\n",
              "      <td>4</td>\n",
              "      <td>5171.0</td>\n",
              "      <td>0</td>\n",
              "      <td>0.000</td>\n",
              "      <td>0</td>\n",
              "      <td>0</td>\n",
              "      <td>3390.000000</td>\n",
              "      <td>4</td>\n",
              "      <td>0</td>\n",
              "      <td>0.7143</td>\n",
              "    </tr>\n",
              "    <tr>\n",
              "      <th>144856</th>\n",
              "      <td>0d65331cbe09bf</td>\n",
              "      <td>f50d852ff41035</td>\n",
              "      <td>6575f2a4ef9fd4</td>\n",
              "      <td>5</td>\n",
              "      <td>0</td>\n",
              "      <td>869.599976</td>\n",
              "      <td>0</td>\n",
              "      <td>3</td>\n",
              "      <td>0</td>\n",
              "      <td>8</td>\n",
              "      <td>0</td>\n",
              "      <td>10</td>\n",
              "      <td>2</td>\n",
              "      <td>964.500000</td>\n",
              "      <td>595</td>\n",
              "      <td>squad</td>\n",
              "      <td>5</td>\n",
              "      <td>5</td>\n",
              "      <td>1500</td>\n",
              "      <td>0</td>\n",
              "      <td>0.0</td>\n",
              "      <td>0</td>\n",
              "      <td>0.000</td>\n",
              "      <td>0</td>\n",
              "      <td>0</td>\n",
              "      <td>241.199997</td>\n",
              "      <td>16</td>\n",
              "      <td>0</td>\n",
              "      <td>0.7500</td>\n",
              "    </tr>\n",
              "    <tr>\n",
              "      <th>156541</th>\n",
              "      <td>dd0a5d30e785c0</td>\n",
              "      <td>4cb8d3787b8150</td>\n",
              "      <td>a211eaf999b492</td>\n",
              "      <td>2</td>\n",
              "      <td>0</td>\n",
              "      <td>1119.000000</td>\n",
              "      <td>0</td>\n",
              "      <td>2</td>\n",
              "      <td>1</td>\n",
              "      <td>11</td>\n",
              "      <td>1000</td>\n",
              "      <td>11</td>\n",
              "      <td>2</td>\n",
              "      <td>981.400024</td>\n",
              "      <td>898</td>\n",
              "      <td>solo</td>\n",
              "      <td>21</td>\n",
              "      <td>12</td>\n",
              "      <td>-1</td>\n",
              "      <td>0</td>\n",
              "      <td>0.0</td>\n",
              "      <td>0</td>\n",
              "      <td>0.000</td>\n",
              "      <td>0</td>\n",
              "      <td>0</td>\n",
              "      <td>27.350000</td>\n",
              "      <td>31</td>\n",
              "      <td>1500</td>\n",
              "      <td>0.5000</td>\n",
              "    </tr>\n",
              "    <tr>\n",
              "      <th>180680</th>\n",
              "      <td>14eda1bf0c65f8</td>\n",
              "      <td>ad03385288412a</td>\n",
              "      <td>6b9acd66007d2a</td>\n",
              "      <td>2</td>\n",
              "      <td>5</td>\n",
              "      <td>121.599998</td>\n",
              "      <td>0</td>\n",
              "      <td>0</td>\n",
              "      <td>1</td>\n",
              "      <td>25</td>\n",
              "      <td>0</td>\n",
              "      <td>1</td>\n",
              "      <td>1</td>\n",
              "      <td>996.099976</td>\n",
              "      <td>1955</td>\n",
              "      <td>duo</td>\n",
              "      <td>48</td>\n",
              "      <td>47</td>\n",
              "      <td>1455</td>\n",
              "      <td>2</td>\n",
              "      <td>0.0</td>\n",
              "      <td>0</td>\n",
              "      <td>0.000</td>\n",
              "      <td>0</td>\n",
              "      <td>0</td>\n",
              "      <td>3500.000000</td>\n",
              "      <td>7</td>\n",
              "      <td>0</td>\n",
              "      <td>0.8936</td>\n",
              "    </tr>\n",
              "    <tr>\n",
              "      <th>195021</th>\n",
              "      <td>f141f7e776138b</td>\n",
              "      <td>a0fa42bf37e9f0</td>\n",
              "      <td>0b4c9543bc9199</td>\n",
              "      <td>1</td>\n",
              "      <td>4</td>\n",
              "      <td>784.200012</td>\n",
              "      <td>5</td>\n",
              "      <td>4</td>\n",
              "      <td>5</td>\n",
              "      <td>4</td>\n",
              "      <td>1195</td>\n",
              "      <td>4</td>\n",
              "      <td>2</td>\n",
              "      <td>999.900024</td>\n",
              "      <td>2190</td>\n",
              "      <td>duo</td>\n",
              "      <td>34</td>\n",
              "      <td>31</td>\n",
              "      <td>-1</td>\n",
              "      <td>0</td>\n",
              "      <td>6247.0</td>\n",
              "      <td>0</td>\n",
              "      <td>0.000</td>\n",
              "      <td>0</td>\n",
              "      <td>0</td>\n",
              "      <td>3678.000000</td>\n",
              "      <td>5</td>\n",
              "      <td>1523</td>\n",
              "      <td>0.8485</td>\n",
              "    </tr>\n",
              "    <tr>\n",
              "      <th>...</th>\n",
              "      <td>...</td>\n",
              "      <td>...</td>\n",
              "      <td>...</td>\n",
              "      <td>...</td>\n",
              "      <td>...</td>\n",
              "      <td>...</td>\n",
              "      <td>...</td>\n",
              "      <td>...</td>\n",
              "      <td>...</td>\n",
              "      <td>...</td>\n",
              "      <td>...</td>\n",
              "      <td>...</td>\n",
              "      <td>...</td>\n",
              "      <td>...</td>\n",
              "      <td>...</td>\n",
              "      <td>...</td>\n",
              "      <td>...</td>\n",
              "      <td>...</td>\n",
              "      <td>...</td>\n",
              "      <td>...</td>\n",
              "      <td>...</td>\n",
              "      <td>...</td>\n",
              "      <td>...</td>\n",
              "      <td>...</td>\n",
              "      <td>...</td>\n",
              "      <td>...</td>\n",
              "      <td>...</td>\n",
              "      <td>...</td>\n",
              "      <td>...</td>\n",
              "    </tr>\n",
              "    <tr>\n",
              "      <th>4041660</th>\n",
              "      <td>9ae1d3fed21268</td>\n",
              "      <td>ab1ff79230e878</td>\n",
              "      <td>13521e5c0d1dd8</td>\n",
              "      <td>0</td>\n",
              "      <td>8</td>\n",
              "      <td>1683.000000</td>\n",
              "      <td>8</td>\n",
              "      <td>12</td>\n",
              "      <td>2</td>\n",
              "      <td>1</td>\n",
              "      <td>0</td>\n",
              "      <td>14</td>\n",
              "      <td>2</td>\n",
              "      <td>980.099976</td>\n",
              "      <td>2179</td>\n",
              "      <td>duo</td>\n",
              "      <td>48</td>\n",
              "      <td>47</td>\n",
              "      <td>1521</td>\n",
              "      <td>0</td>\n",
              "      <td>3077.0</td>\n",
              "      <td>0</td>\n",
              "      <td>4.742</td>\n",
              "      <td>0</td>\n",
              "      <td>0</td>\n",
              "      <td>3461.000000</td>\n",
              "      <td>5</td>\n",
              "      <td>0</td>\n",
              "      <td>0.9362</td>\n",
              "    </tr>\n",
              "    <tr>\n",
              "      <th>4170265</th>\n",
              "      <td>1243129ec692ab</td>\n",
              "      <td>c4bf6a28c1e0bf</td>\n",
              "      <td>b82d57cc24f3e1</td>\n",
              "      <td>2</td>\n",
              "      <td>3</td>\n",
              "      <td>1896.000000</td>\n",
              "      <td>15</td>\n",
              "      <td>8</td>\n",
              "      <td>2</td>\n",
              "      <td>1</td>\n",
              "      <td>0</td>\n",
              "      <td>10</td>\n",
              "      <td>2</td>\n",
              "      <td>940.599976</td>\n",
              "      <td>1809</td>\n",
              "      <td>squad</td>\n",
              "      <td>25</td>\n",
              "      <td>24</td>\n",
              "      <td>1610</td>\n",
              "      <td>0</td>\n",
              "      <td>4201.0</td>\n",
              "      <td>0</td>\n",
              "      <td>0.000</td>\n",
              "      <td>0</td>\n",
              "      <td>0</td>\n",
              "      <td>2433.000000</td>\n",
              "      <td>5</td>\n",
              "      <td>0</td>\n",
              "      <td>0.9583</td>\n",
              "    </tr>\n",
              "    <tr>\n",
              "      <th>4323434</th>\n",
              "      <td>1cfc42b9d2b730</td>\n",
              "      <td>4efd5f11ec2084</td>\n",
              "      <td>f843b77365f44d</td>\n",
              "      <td>0</td>\n",
              "      <td>4</td>\n",
              "      <td>1892.000000</td>\n",
              "      <td>0</td>\n",
              "      <td>16</td>\n",
              "      <td>3</td>\n",
              "      <td>1</td>\n",
              "      <td>988</td>\n",
              "      <td>18</td>\n",
              "      <td>3</td>\n",
              "      <td>940.099976</td>\n",
              "      <td>1778</td>\n",
              "      <td>solo</td>\n",
              "      <td>95</td>\n",
              "      <td>94</td>\n",
              "      <td>-1</td>\n",
              "      <td>0</td>\n",
              "      <td>2137.0</td>\n",
              "      <td>0</td>\n",
              "      <td>0.000</td>\n",
              "      <td>0</td>\n",
              "      <td>0</td>\n",
              "      <td>3521.000000</td>\n",
              "      <td>3</td>\n",
              "      <td>1478</td>\n",
              "      <td>1.0000</td>\n",
              "    </tr>\n",
              "    <tr>\n",
              "      <th>4332473</th>\n",
              "      <td>d8857d3d7e31b6</td>\n",
              "      <td>085de7a36897e6</td>\n",
              "      <td>42f997c16d8a0e</td>\n",
              "      <td>5</td>\n",
              "      <td>0</td>\n",
              "      <td>1685.000000</td>\n",
              "      <td>11</td>\n",
              "      <td>3</td>\n",
              "      <td>18</td>\n",
              "      <td>8</td>\n",
              "      <td>1000</td>\n",
              "      <td>16</td>\n",
              "      <td>2</td>\n",
              "      <td>1040.000000</td>\n",
              "      <td>1793</td>\n",
              "      <td>duo</td>\n",
              "      <td>12</td>\n",
              "      <td>11</td>\n",
              "      <td>-1</td>\n",
              "      <td>1</td>\n",
              "      <td>0.0</td>\n",
              "      <td>0</td>\n",
              "      <td>0.000</td>\n",
              "      <td>0</td>\n",
              "      <td>0</td>\n",
              "      <td>523.299988</td>\n",
              "      <td>35</td>\n",
              "      <td>1500</td>\n",
              "      <td>0.9091</td>\n",
              "    </tr>\n",
              "    <tr>\n",
              "      <th>4341101</th>\n",
              "      <td>add208efa347c3</td>\n",
              "      <td>8952785725fadc</td>\n",
              "      <td>623991dac35b80</td>\n",
              "      <td>0</td>\n",
              "      <td>1</td>\n",
              "      <td>450.200012</td>\n",
              "      <td>0</td>\n",
              "      <td>1</td>\n",
              "      <td>0</td>\n",
              "      <td>4</td>\n",
              "      <td>0</td>\n",
              "      <td>5</td>\n",
              "      <td>2</td>\n",
              "      <td>902.099976</td>\n",
              "      <td>1961</td>\n",
              "      <td>solo</td>\n",
              "      <td>92</td>\n",
              "      <td>90</td>\n",
              "      <td>1506</td>\n",
              "      <td>0</td>\n",
              "      <td>593.0</td>\n",
              "      <td>0</td>\n",
              "      <td>0.000</td>\n",
              "      <td>0</td>\n",
              "      <td>0</td>\n",
              "      <td>5214.000000</td>\n",
              "      <td>6</td>\n",
              "      <td>0</td>\n",
              "      <td>0.8681</td>\n",
              "    </tr>\n",
              "  </tbody>\n",
              "</table>\n",
              "<p>140 rows × 29 columns</p>\n",
              "</div>"
            ],
            "text/plain": [
              "                     Id         groupId  ... winPoints  winPlacePerc\n",
              "49933    8d84a760b76634  dcbeb664940a34  ...         0        0.7143\n",
              "144856   0d65331cbe09bf  f50d852ff41035  ...         0        0.7500\n",
              "156541   dd0a5d30e785c0  4cb8d3787b8150  ...      1500        0.5000\n",
              "180680   14eda1bf0c65f8  ad03385288412a  ...         0        0.8936\n",
              "195021   f141f7e776138b  a0fa42bf37e9f0  ...      1523        0.8485\n",
              "...                 ...             ...  ...       ...           ...\n",
              "4041660  9ae1d3fed21268  ab1ff79230e878  ...         0        0.9362\n",
              "4170265  1243129ec692ab  c4bf6a28c1e0bf  ...         0        0.9583\n",
              "4323434  1cfc42b9d2b730  4efd5f11ec2084  ...      1478        1.0000\n",
              "4332473  d8857d3d7e31b6  085de7a36897e6  ...      1500        0.9091\n",
              "4341101  add208efa347c3  8952785725fadc  ...         0        0.8681\n",
              "\n",
              "[140 rows x 29 columns]"
            ]
          },
          "metadata": {
            "tags": []
          },
          "execution_count": 74
        }
      ]
    },
    {
      "cell_type": "markdown",
      "metadata": {
        "id": "Sa-mYDvA87Tq",
        "colab_type": "text"
      },
      "source": [
        "Almost 140 people with kills above 900 m,this can happen when using a sniper but atmost 4-6kills on average can be said that people having those kill are pro players so we'll remove player with more than 5 kills\n"
      ]
    },
    {
      "cell_type": "code",
      "metadata": {
        "id": "vH4IY-FB9cRY",
        "colab_type": "code",
        "colab": {}
      },
      "source": [
        "data_new.drop(data_new[(data_new['longestKill']>900) & (data_new['kills']>5)].index,inplace=True)"
      ],
      "execution_count": 0,
      "outputs": []
    },
    {
      "cell_type": "markdown",
      "metadata": {
        "id": "xYrv0EUU9y77",
        "colab_type": "text"
      },
      "source": [
        "Let's see people who used less than 3 heals and have huge amount of kills."
      ]
    },
    {
      "cell_type": "code",
      "metadata": {
        "id": "nJUlieP590VY",
        "colab_type": "code",
        "outputId": "b2226adf-8e51-4b87-a588-0ac04c11e4cb",
        "colab": {
          "base_uri": "https://localhost:8080/",
          "height": 0
        }
      },
      "source": [
        "data_new[(data_new['heals']==0) & (data_new['kills']>15)]"
      ],
      "execution_count": 76,
      "outputs": [
        {
          "output_type": "execute_result",
          "data": {
            "text/html": [
              "<div>\n",
              "<style scoped>\n",
              "    .dataframe tbody tr th:only-of-type {\n",
              "        vertical-align: middle;\n",
              "    }\n",
              "\n",
              "    .dataframe tbody tr th {\n",
              "        vertical-align: top;\n",
              "    }\n",
              "\n",
              "    .dataframe thead th {\n",
              "        text-align: right;\n",
              "    }\n",
              "</style>\n",
              "<table border=\"1\" class=\"dataframe\">\n",
              "  <thead>\n",
              "    <tr style=\"text-align: right;\">\n",
              "      <th></th>\n",
              "      <th>Id</th>\n",
              "      <th>groupId</th>\n",
              "      <th>matchId</th>\n",
              "      <th>assists</th>\n",
              "      <th>boosts</th>\n",
              "      <th>damageDealt</th>\n",
              "      <th>DBNOs</th>\n",
              "      <th>headshotKills</th>\n",
              "      <th>heals</th>\n",
              "      <th>killPlace</th>\n",
              "      <th>killPoints</th>\n",
              "      <th>kills</th>\n",
              "      <th>killStreaks</th>\n",
              "      <th>longestKill</th>\n",
              "      <th>matchDuration</th>\n",
              "      <th>matchType</th>\n",
              "      <th>maxPlace</th>\n",
              "      <th>numGroups</th>\n",
              "      <th>rankPoints</th>\n",
              "      <th>revives</th>\n",
              "      <th>rideDistance</th>\n",
              "      <th>roadKills</th>\n",
              "      <th>swimDistance</th>\n",
              "      <th>teamKills</th>\n",
              "      <th>vehicleDestroys</th>\n",
              "      <th>walkDistance</th>\n",
              "      <th>weaponsAcquired</th>\n",
              "      <th>winPoints</th>\n",
              "      <th>winPlacePerc</th>\n",
              "    </tr>\n",
              "  </thead>\n",
              "  <tbody>\n",
              "    <tr>\n",
              "      <th>19531</th>\n",
              "      <td>ef706f0f248dbf</td>\n",
              "      <td>f27e63bfc6746c</td>\n",
              "      <td>7d2fd7f5d4f8b2</td>\n",
              "      <td>9</td>\n",
              "      <td>0</td>\n",
              "      <td>2856.0</td>\n",
              "      <td>32</td>\n",
              "      <td>3</td>\n",
              "      <td>0</td>\n",
              "      <td>1</td>\n",
              "      <td>0</td>\n",
              "      <td>24</td>\n",
              "      <td>4</td>\n",
              "      <td>84.230003</td>\n",
              "      <td>1195</td>\n",
              "      <td>squad</td>\n",
              "      <td>6</td>\n",
              "      <td>6</td>\n",
              "      <td>1500</td>\n",
              "      <td>0</td>\n",
              "      <td>0.0</td>\n",
              "      <td>0</td>\n",
              "      <td>0.0</td>\n",
              "      <td>0</td>\n",
              "      <td>0</td>\n",
              "      <td>1136.000000</td>\n",
              "      <td>20</td>\n",
              "      <td>0</td>\n",
              "      <td>0.8000</td>\n",
              "    </tr>\n",
              "    <tr>\n",
              "      <th>22389</th>\n",
              "      <td>5983e465259215</td>\n",
              "      <td>073b5cfb8f2b06</td>\n",
              "      <td>d4862967bcf3f0</td>\n",
              "      <td>2</td>\n",
              "      <td>0</td>\n",
              "      <td>1324.0</td>\n",
              "      <td>0</td>\n",
              "      <td>2</td>\n",
              "      <td>0</td>\n",
              "      <td>4</td>\n",
              "      <td>1000</td>\n",
              "      <td>18</td>\n",
              "      <td>3</td>\n",
              "      <td>114.000000</td>\n",
              "      <td>936</td>\n",
              "      <td>squad</td>\n",
              "      <td>5</td>\n",
              "      <td>5</td>\n",
              "      <td>-1</td>\n",
              "      <td>0</td>\n",
              "      <td>0.0</td>\n",
              "      <td>0</td>\n",
              "      <td>0.0</td>\n",
              "      <td>0</td>\n",
              "      <td>0</td>\n",
              "      <td>35.209999</td>\n",
              "      <td>28</td>\n",
              "      <td>1500</td>\n",
              "      <td>0.5000</td>\n",
              "    </tr>\n",
              "    <tr>\n",
              "      <th>57490</th>\n",
              "      <td>367599b150318a</td>\n",
              "      <td>0370e2f3be345b</td>\n",
              "      <td>5f2f9fcb9705af</td>\n",
              "      <td>6</td>\n",
              "      <td>0</td>\n",
              "      <td>2459.0</td>\n",
              "      <td>0</td>\n",
              "      <td>3</td>\n",
              "      <td>0</td>\n",
              "      <td>2</td>\n",
              "      <td>0</td>\n",
              "      <td>23</td>\n",
              "      <td>3</td>\n",
              "      <td>100.000000</td>\n",
              "      <td>910</td>\n",
              "      <td>duo</td>\n",
              "      <td>7</td>\n",
              "      <td>6</td>\n",
              "      <td>1500</td>\n",
              "      <td>0</td>\n",
              "      <td>0.0</td>\n",
              "      <td>0</td>\n",
              "      <td>0.0</td>\n",
              "      <td>0</td>\n",
              "      <td>0</td>\n",
              "      <td>208.500000</td>\n",
              "      <td>12</td>\n",
              "      <td>0</td>\n",
              "      <td>0.8333</td>\n",
              "    </tr>\n",
              "    <tr>\n",
              "      <th>57978</th>\n",
              "      <td>9d8253e21ccbbd</td>\n",
              "      <td>ef7135ed856cd8</td>\n",
              "      <td>37f05e2a01015f</td>\n",
              "      <td>9</td>\n",
              "      <td>0</td>\n",
              "      <td>3725.0</td>\n",
              "      <td>0</td>\n",
              "      <td>7</td>\n",
              "      <td>0</td>\n",
              "      <td>2</td>\n",
              "      <td>1000</td>\n",
              "      <td>35</td>\n",
              "      <td>3</td>\n",
              "      <td>105.800003</td>\n",
              "      <td>1798</td>\n",
              "      <td>duo</td>\n",
              "      <td>8</td>\n",
              "      <td>7</td>\n",
              "      <td>-1</td>\n",
              "      <td>0</td>\n",
              "      <td>0.0</td>\n",
              "      <td>0</td>\n",
              "      <td>0.0</td>\n",
              "      <td>0</td>\n",
              "      <td>0</td>\n",
              "      <td>48.820000</td>\n",
              "      <td>48</td>\n",
              "      <td>1500</td>\n",
              "      <td>0.8571</td>\n",
              "    </tr>\n",
              "    <tr>\n",
              "      <th>124577</th>\n",
              "      <td>17f647ce2b0542</td>\n",
              "      <td>8014652d9e9100</td>\n",
              "      <td>d89631afea0b96</td>\n",
              "      <td>3</td>\n",
              "      <td>3</td>\n",
              "      <td>1448.0</td>\n",
              "      <td>0</td>\n",
              "      <td>6</td>\n",
              "      <td>0</td>\n",
              "      <td>2</td>\n",
              "      <td>1000</td>\n",
              "      <td>20</td>\n",
              "      <td>3</td>\n",
              "      <td>109.500000</td>\n",
              "      <td>897</td>\n",
              "      <td>duo</td>\n",
              "      <td>16</td>\n",
              "      <td>13</td>\n",
              "      <td>-1</td>\n",
              "      <td>0</td>\n",
              "      <td>0.0</td>\n",
              "      <td>0</td>\n",
              "      <td>0.0</td>\n",
              "      <td>0</td>\n",
              "      <td>0</td>\n",
              "      <td>29.940001</td>\n",
              "      <td>31</td>\n",
              "      <td>1500</td>\n",
              "      <td>0.9333</td>\n",
              "    </tr>\n",
              "    <tr>\n",
              "      <th>...</th>\n",
              "      <td>...</td>\n",
              "      <td>...</td>\n",
              "      <td>...</td>\n",
              "      <td>...</td>\n",
              "      <td>...</td>\n",
              "      <td>...</td>\n",
              "      <td>...</td>\n",
              "      <td>...</td>\n",
              "      <td>...</td>\n",
              "      <td>...</td>\n",
              "      <td>...</td>\n",
              "      <td>...</td>\n",
              "      <td>...</td>\n",
              "      <td>...</td>\n",
              "      <td>...</td>\n",
              "      <td>...</td>\n",
              "      <td>...</td>\n",
              "      <td>...</td>\n",
              "      <td>...</td>\n",
              "      <td>...</td>\n",
              "      <td>...</td>\n",
              "      <td>...</td>\n",
              "      <td>...</td>\n",
              "      <td>...</td>\n",
              "      <td>...</td>\n",
              "      <td>...</td>\n",
              "      <td>...</td>\n",
              "      <td>...</td>\n",
              "      <td>...</td>\n",
              "    </tr>\n",
              "    <tr>\n",
              "      <th>4355766</th>\n",
              "      <td>9d5398ebba538c</td>\n",
              "      <td>60b2849191c539</td>\n",
              "      <td>ff9cd80c0d8fb7</td>\n",
              "      <td>1</td>\n",
              "      <td>1</td>\n",
              "      <td>1872.0</td>\n",
              "      <td>0</td>\n",
              "      <td>6</td>\n",
              "      <td>0</td>\n",
              "      <td>2</td>\n",
              "      <td>1000</td>\n",
              "      <td>20</td>\n",
              "      <td>6</td>\n",
              "      <td>212.899994</td>\n",
              "      <td>799</td>\n",
              "      <td>squad</td>\n",
              "      <td>10</td>\n",
              "      <td>10</td>\n",
              "      <td>-1</td>\n",
              "      <td>0</td>\n",
              "      <td>1055.0</td>\n",
              "      <td>0</td>\n",
              "      <td>0.0</td>\n",
              "      <td>0</td>\n",
              "      <td>0</td>\n",
              "      <td>1725.000000</td>\n",
              "      <td>8</td>\n",
              "      <td>1500</td>\n",
              "      <td>0.8889</td>\n",
              "    </tr>\n",
              "    <tr>\n",
              "      <th>4390901</th>\n",
              "      <td>310cdfbe701f03</td>\n",
              "      <td>02b0ccfda16b93</td>\n",
              "      <td>f755207f23cf88</td>\n",
              "      <td>2</td>\n",
              "      <td>4</td>\n",
              "      <td>2645.0</td>\n",
              "      <td>16</td>\n",
              "      <td>8</td>\n",
              "      <td>0</td>\n",
              "      <td>1</td>\n",
              "      <td>0</td>\n",
              "      <td>24</td>\n",
              "      <td>5</td>\n",
              "      <td>436.700012</td>\n",
              "      <td>1319</td>\n",
              "      <td>squad</td>\n",
              "      <td>27</td>\n",
              "      <td>27</td>\n",
              "      <td>1526</td>\n",
              "      <td>0</td>\n",
              "      <td>0.0</td>\n",
              "      <td>0</td>\n",
              "      <td>0.0</td>\n",
              "      <td>0</td>\n",
              "      <td>0</td>\n",
              "      <td>3180.000000</td>\n",
              "      <td>7</td>\n",
              "      <td>0</td>\n",
              "      <td>1.0000</td>\n",
              "    </tr>\n",
              "    <tr>\n",
              "      <th>4391195</th>\n",
              "      <td>8014c707c41c9c</td>\n",
              "      <td>055cf2054902b4</td>\n",
              "      <td>5b543c89ad70f7</td>\n",
              "      <td>6</td>\n",
              "      <td>0</td>\n",
              "      <td>1702.0</td>\n",
              "      <td>0</td>\n",
              "      <td>5</td>\n",
              "      <td>0</td>\n",
              "      <td>3</td>\n",
              "      <td>1000</td>\n",
              "      <td>19</td>\n",
              "      <td>3</td>\n",
              "      <td>72.900002</td>\n",
              "      <td>949</td>\n",
              "      <td>solo</td>\n",
              "      <td>10</td>\n",
              "      <td>8</td>\n",
              "      <td>0</td>\n",
              "      <td>0</td>\n",
              "      <td>0.0</td>\n",
              "      <td>0</td>\n",
              "      <td>0.0</td>\n",
              "      <td>0</td>\n",
              "      <td>0</td>\n",
              "      <td>149.399994</td>\n",
              "      <td>33</td>\n",
              "      <td>1500</td>\n",
              "      <td>0.8889</td>\n",
              "    </tr>\n",
              "    <tr>\n",
              "      <th>4422538</th>\n",
              "      <td>502e7c4b858f43</td>\n",
              "      <td>164cf32990ef6f</td>\n",
              "      <td>10f129a6c2be8d</td>\n",
              "      <td>3</td>\n",
              "      <td>1</td>\n",
              "      <td>1389.0</td>\n",
              "      <td>0</td>\n",
              "      <td>8</td>\n",
              "      <td>0</td>\n",
              "      <td>1</td>\n",
              "      <td>1000</td>\n",
              "      <td>16</td>\n",
              "      <td>3</td>\n",
              "      <td>140.300003</td>\n",
              "      <td>890</td>\n",
              "      <td>duo</td>\n",
              "      <td>6</td>\n",
              "      <td>5</td>\n",
              "      <td>-1</td>\n",
              "      <td>0</td>\n",
              "      <td>0.0</td>\n",
              "      <td>0</td>\n",
              "      <td>0.0</td>\n",
              "      <td>0</td>\n",
              "      <td>0</td>\n",
              "      <td>699.099976</td>\n",
              "      <td>16</td>\n",
              "      <td>1500</td>\n",
              "      <td>1.0000</td>\n",
              "    </tr>\n",
              "    <tr>\n",
              "      <th>4427954</th>\n",
              "      <td>c61598391caf7b</td>\n",
              "      <td>15daa876e7ecf4</td>\n",
              "      <td>9982c360bd5d66</td>\n",
              "      <td>1</td>\n",
              "      <td>1</td>\n",
              "      <td>1744.0</td>\n",
              "      <td>0</td>\n",
              "      <td>3</td>\n",
              "      <td>0</td>\n",
              "      <td>2</td>\n",
              "      <td>0</td>\n",
              "      <td>18</td>\n",
              "      <td>4</td>\n",
              "      <td>115.400002</td>\n",
              "      <td>776</td>\n",
              "      <td>squad</td>\n",
              "      <td>8</td>\n",
              "      <td>7</td>\n",
              "      <td>1500</td>\n",
              "      <td>0</td>\n",
              "      <td>0.0</td>\n",
              "      <td>0</td>\n",
              "      <td>0.0</td>\n",
              "      <td>2</td>\n",
              "      <td>0</td>\n",
              "      <td>167.600006</td>\n",
              "      <td>13</td>\n",
              "      <td>0</td>\n",
              "      <td>0.4286</td>\n",
              "    </tr>\n",
              "  </tbody>\n",
              "</table>\n",
              "<p>236 rows × 29 columns</p>\n",
              "</div>"
            ],
            "text/plain": [
              "                     Id         groupId  ... winPoints  winPlacePerc\n",
              "19531    ef706f0f248dbf  f27e63bfc6746c  ...         0        0.8000\n",
              "22389    5983e465259215  073b5cfb8f2b06  ...      1500        0.5000\n",
              "57490    367599b150318a  0370e2f3be345b  ...         0        0.8333\n",
              "57978    9d8253e21ccbbd  ef7135ed856cd8  ...      1500        0.8571\n",
              "124577   17f647ce2b0542  8014652d9e9100  ...      1500        0.9333\n",
              "...                 ...             ...  ...       ...           ...\n",
              "4355766  9d5398ebba538c  60b2849191c539  ...      1500        0.8889\n",
              "4390901  310cdfbe701f03  02b0ccfda16b93  ...         0        1.0000\n",
              "4391195  8014c707c41c9c  055cf2054902b4  ...      1500        0.8889\n",
              "4422538  502e7c4b858f43  164cf32990ef6f  ...      1500        1.0000\n",
              "4427954  c61598391caf7b  15daa876e7ecf4  ...         0        0.4286\n",
              "\n",
              "[236 rows x 29 columns]"
            ]
          },
          "metadata": {
            "tags": []
          },
          "execution_count": 76
        }
      ]
    },
    {
      "cell_type": "markdown",
      "metadata": {
        "id": "I2f2IG10_DiP",
        "colab_type": "text"
      },
      "source": [
        "Is it even possible to get more than 15 kills without using a single heal.This sure means some kind of hacker.So,let's remove these."
      ]
    },
    {
      "cell_type": "code",
      "metadata": {
        "id": "fggi62Q7_fFA",
        "colab_type": "code",
        "colab": {}
      },
      "source": [
        "data_new.drop(data_new[(data_new['heals']==0) & (data_new['kills']>15)].index,inplace = True)"
      ],
      "execution_count": 0,
      "outputs": []
    },
    {
      "cell_type": "markdown",
      "metadata": {
        "id": "6jdECN72Vtda",
        "colab_type": "text"
      },
      "source": [
        "Let's also remove people using high number of heals with no kills."
      ]
    },
    {
      "cell_type": "code",
      "metadata": {
        "id": "1vPcQ9O8Vz9B",
        "colab_type": "code",
        "outputId": "cc826bf7-3def-454e-ee4b-4ec70b3341a3",
        "colab": {
          "base_uri": "https://localhost:8080/",
          "height": 0
        }
      },
      "source": [
        "data_new[(data_new['heals']>15) & (data_new['kills']==0)]"
      ],
      "execution_count": 78,
      "outputs": [
        {
          "output_type": "execute_result",
          "data": {
            "text/html": [
              "<div>\n",
              "<style scoped>\n",
              "    .dataframe tbody tr th:only-of-type {\n",
              "        vertical-align: middle;\n",
              "    }\n",
              "\n",
              "    .dataframe tbody tr th {\n",
              "        vertical-align: top;\n",
              "    }\n",
              "\n",
              "    .dataframe thead th {\n",
              "        text-align: right;\n",
              "    }\n",
              "</style>\n",
              "<table border=\"1\" class=\"dataframe\">\n",
              "  <thead>\n",
              "    <tr style=\"text-align: right;\">\n",
              "      <th></th>\n",
              "      <th>Id</th>\n",
              "      <th>groupId</th>\n",
              "      <th>matchId</th>\n",
              "      <th>assists</th>\n",
              "      <th>boosts</th>\n",
              "      <th>damageDealt</th>\n",
              "      <th>DBNOs</th>\n",
              "      <th>headshotKills</th>\n",
              "      <th>heals</th>\n",
              "      <th>killPlace</th>\n",
              "      <th>killPoints</th>\n",
              "      <th>kills</th>\n",
              "      <th>killStreaks</th>\n",
              "      <th>longestKill</th>\n",
              "      <th>matchDuration</th>\n",
              "      <th>matchType</th>\n",
              "      <th>maxPlace</th>\n",
              "      <th>numGroups</th>\n",
              "      <th>rankPoints</th>\n",
              "      <th>revives</th>\n",
              "      <th>rideDistance</th>\n",
              "      <th>roadKills</th>\n",
              "      <th>swimDistance</th>\n",
              "      <th>teamKills</th>\n",
              "      <th>vehicleDestroys</th>\n",
              "      <th>walkDistance</th>\n",
              "      <th>weaponsAcquired</th>\n",
              "      <th>winPoints</th>\n",
              "      <th>winPlacePerc</th>\n",
              "    </tr>\n",
              "  </thead>\n",
              "  <tbody>\n",
              "    <tr>\n",
              "      <th>1052</th>\n",
              "      <td>1a06d47b65a4ea</td>\n",
              "      <td>1291de583fe414</td>\n",
              "      <td>e612c476dc4e4f</td>\n",
              "      <td>0</td>\n",
              "      <td>6</td>\n",
              "      <td>8.345000</td>\n",
              "      <td>0</td>\n",
              "      <td>0</td>\n",
              "      <td>17</td>\n",
              "      <td>47</td>\n",
              "      <td>1446</td>\n",
              "      <td>0</td>\n",
              "      <td>0</td>\n",
              "      <td>0.0</td>\n",
              "      <td>1835</td>\n",
              "      <td>squad</td>\n",
              "      <td>28</td>\n",
              "      <td>28</td>\n",
              "      <td>-1</td>\n",
              "      <td>0</td>\n",
              "      <td>8992.0</td>\n",
              "      <td>0</td>\n",
              "      <td>122.500000</td>\n",
              "      <td>0</td>\n",
              "      <td>0</td>\n",
              "      <td>2522.0</td>\n",
              "      <td>4</td>\n",
              "      <td>1529</td>\n",
              "      <td>0.8889</td>\n",
              "    </tr>\n",
              "    <tr>\n",
              "      <th>2296</th>\n",
              "      <td>3ff77e912b95a4</td>\n",
              "      <td>3da0a0610b6578</td>\n",
              "      <td>a9586bc2797969</td>\n",
              "      <td>0</td>\n",
              "      <td>5</td>\n",
              "      <td>0.000000</td>\n",
              "      <td>0</td>\n",
              "      <td>0</td>\n",
              "      <td>29</td>\n",
              "      <td>45</td>\n",
              "      <td>0</td>\n",
              "      <td>0</td>\n",
              "      <td>0</td>\n",
              "      <td>0.0</td>\n",
              "      <td>1882</td>\n",
              "      <td>solo</td>\n",
              "      <td>96</td>\n",
              "      <td>94</td>\n",
              "      <td>1508</td>\n",
              "      <td>0</td>\n",
              "      <td>759.0</td>\n",
              "      <td>0</td>\n",
              "      <td>0.000000</td>\n",
              "      <td>0</td>\n",
              "      <td>1</td>\n",
              "      <td>2042.0</td>\n",
              "      <td>6</td>\n",
              "      <td>0</td>\n",
              "      <td>0.9263</td>\n",
              "    </tr>\n",
              "    <tr>\n",
              "      <th>2418</th>\n",
              "      <td>672833ad9e9c3d</td>\n",
              "      <td>41d210e8e55296</td>\n",
              "      <td>462e08ffa03009</td>\n",
              "      <td>0</td>\n",
              "      <td>3</td>\n",
              "      <td>90.739998</td>\n",
              "      <td>0</td>\n",
              "      <td>0</td>\n",
              "      <td>17</td>\n",
              "      <td>40</td>\n",
              "      <td>1126</td>\n",
              "      <td>0</td>\n",
              "      <td>0</td>\n",
              "      <td>0.0</td>\n",
              "      <td>1871</td>\n",
              "      <td>duo</td>\n",
              "      <td>50</td>\n",
              "      <td>47</td>\n",
              "      <td>-1</td>\n",
              "      <td>1</td>\n",
              "      <td>6144.0</td>\n",
              "      <td>0</td>\n",
              "      <td>0.000000</td>\n",
              "      <td>0</td>\n",
              "      <td>0</td>\n",
              "      <td>2239.0</td>\n",
              "      <td>6</td>\n",
              "      <td>1501</td>\n",
              "      <td>0.8980</td>\n",
              "    </tr>\n",
              "    <tr>\n",
              "      <th>3157</th>\n",
              "      <td>44642ba72f64ae</td>\n",
              "      <td>3c9c2daa2c3e01</td>\n",
              "      <td>34931a75615feb</td>\n",
              "      <td>0</td>\n",
              "      <td>6</td>\n",
              "      <td>0.000000</td>\n",
              "      <td>0</td>\n",
              "      <td>0</td>\n",
              "      <td>17</td>\n",
              "      <td>42</td>\n",
              "      <td>0</td>\n",
              "      <td>0</td>\n",
              "      <td>0</td>\n",
              "      <td>0.0</td>\n",
              "      <td>1425</td>\n",
              "      <td>solo</td>\n",
              "      <td>86</td>\n",
              "      <td>84</td>\n",
              "      <td>1757</td>\n",
              "      <td>0</td>\n",
              "      <td>1232.0</td>\n",
              "      <td>0</td>\n",
              "      <td>0.000000</td>\n",
              "      <td>0</td>\n",
              "      <td>0</td>\n",
              "      <td>2490.0</td>\n",
              "      <td>6</td>\n",
              "      <td>0</td>\n",
              "      <td>0.9176</td>\n",
              "    </tr>\n",
              "    <tr>\n",
              "      <th>5851</th>\n",
              "      <td>dcb9b97e32f6b3</td>\n",
              "      <td>c3c88b43a0e704</td>\n",
              "      <td>f74c834fdcd65a</td>\n",
              "      <td>1</td>\n",
              "      <td>6</td>\n",
              "      <td>139.899994</td>\n",
              "      <td>1</td>\n",
              "      <td>0</td>\n",
              "      <td>22</td>\n",
              "      <td>37</td>\n",
              "      <td>1319</td>\n",
              "      <td>0</td>\n",
              "      <td>0</td>\n",
              "      <td>0.0</td>\n",
              "      <td>1814</td>\n",
              "      <td>squad</td>\n",
              "      <td>29</td>\n",
              "      <td>27</td>\n",
              "      <td>-1</td>\n",
              "      <td>0</td>\n",
              "      <td>2608.0</td>\n",
              "      <td>0</td>\n",
              "      <td>0.000000</td>\n",
              "      <td>0</td>\n",
              "      <td>0</td>\n",
              "      <td>5210.0</td>\n",
              "      <td>3</td>\n",
              "      <td>1510</td>\n",
              "      <td>0.8571</td>\n",
              "    </tr>\n",
              "    <tr>\n",
              "      <th>...</th>\n",
              "      <td>...</td>\n",
              "      <td>...</td>\n",
              "      <td>...</td>\n",
              "      <td>...</td>\n",
              "      <td>...</td>\n",
              "      <td>...</td>\n",
              "      <td>...</td>\n",
              "      <td>...</td>\n",
              "      <td>...</td>\n",
              "      <td>...</td>\n",
              "      <td>...</td>\n",
              "      <td>...</td>\n",
              "      <td>...</td>\n",
              "      <td>...</td>\n",
              "      <td>...</td>\n",
              "      <td>...</td>\n",
              "      <td>...</td>\n",
              "      <td>...</td>\n",
              "      <td>...</td>\n",
              "      <td>...</td>\n",
              "      <td>...</td>\n",
              "      <td>...</td>\n",
              "      <td>...</td>\n",
              "      <td>...</td>\n",
              "      <td>...</td>\n",
              "      <td>...</td>\n",
              "      <td>...</td>\n",
              "      <td>...</td>\n",
              "      <td>...</td>\n",
              "    </tr>\n",
              "    <tr>\n",
              "      <th>4442986</th>\n",
              "      <td>0817c48ea8f67a</td>\n",
              "      <td>1e402e2734ad02</td>\n",
              "      <td>0c33a4fca13dcc</td>\n",
              "      <td>0</td>\n",
              "      <td>6</td>\n",
              "      <td>0.000000</td>\n",
              "      <td>0</td>\n",
              "      <td>0</td>\n",
              "      <td>16</td>\n",
              "      <td>58</td>\n",
              "      <td>0</td>\n",
              "      <td>0</td>\n",
              "      <td>0</td>\n",
              "      <td>0.0</td>\n",
              "      <td>1910</td>\n",
              "      <td>duo</td>\n",
              "      <td>49</td>\n",
              "      <td>47</td>\n",
              "      <td>1522</td>\n",
              "      <td>0</td>\n",
              "      <td>7688.0</td>\n",
              "      <td>0</td>\n",
              "      <td>0.000000</td>\n",
              "      <td>0</td>\n",
              "      <td>0</td>\n",
              "      <td>1851.0</td>\n",
              "      <td>6</td>\n",
              "      <td>0</td>\n",
              "      <td>0.6250</td>\n",
              "    </tr>\n",
              "    <tr>\n",
              "      <th>4444213</th>\n",
              "      <td>58ac9ad4c6a1bc</td>\n",
              "      <td>c3cb17248c1629</td>\n",
              "      <td>749348acb18517</td>\n",
              "      <td>1</td>\n",
              "      <td>3</td>\n",
              "      <td>70.629997</td>\n",
              "      <td>0</td>\n",
              "      <td>0</td>\n",
              "      <td>16</td>\n",
              "      <td>47</td>\n",
              "      <td>1334</td>\n",
              "      <td>0</td>\n",
              "      <td>0</td>\n",
              "      <td>0.0</td>\n",
              "      <td>1910</td>\n",
              "      <td>squad</td>\n",
              "      <td>27</td>\n",
              "      <td>27</td>\n",
              "      <td>-1</td>\n",
              "      <td>0</td>\n",
              "      <td>9786.0</td>\n",
              "      <td>0</td>\n",
              "      <td>0.000000</td>\n",
              "      <td>0</td>\n",
              "      <td>0</td>\n",
              "      <td>2438.0</td>\n",
              "      <td>7</td>\n",
              "      <td>1518</td>\n",
              "      <td>0.7692</td>\n",
              "    </tr>\n",
              "    <tr>\n",
              "      <th>4445664</th>\n",
              "      <td>bf7fec8907b9f6</td>\n",
              "      <td>1fe1e689498e91</td>\n",
              "      <td>1ec9b778d051c3</td>\n",
              "      <td>0</td>\n",
              "      <td>9</td>\n",
              "      <td>0.000000</td>\n",
              "      <td>0</td>\n",
              "      <td>0</td>\n",
              "      <td>16</td>\n",
              "      <td>42</td>\n",
              "      <td>0</td>\n",
              "      <td>0</td>\n",
              "      <td>0</td>\n",
              "      <td>0.0</td>\n",
              "      <td>2013</td>\n",
              "      <td>solo</td>\n",
              "      <td>93</td>\n",
              "      <td>90</td>\n",
              "      <td>1522</td>\n",
              "      <td>0</td>\n",
              "      <td>0.0</td>\n",
              "      <td>0</td>\n",
              "      <td>9.594000</td>\n",
              "      <td>0</td>\n",
              "      <td>0</td>\n",
              "      <td>3952.0</td>\n",
              "      <td>4</td>\n",
              "      <td>0</td>\n",
              "      <td>0.8913</td>\n",
              "    </tr>\n",
              "    <tr>\n",
              "      <th>4445762</th>\n",
              "      <td>c61c783562d96c</td>\n",
              "      <td>82227e3ae5a0a7</td>\n",
              "      <td>a6600e1cdd10c7</td>\n",
              "      <td>0</td>\n",
              "      <td>0</td>\n",
              "      <td>173.500000</td>\n",
              "      <td>1</td>\n",
              "      <td>0</td>\n",
              "      <td>19</td>\n",
              "      <td>44</td>\n",
              "      <td>1339</td>\n",
              "      <td>0</td>\n",
              "      <td>0</td>\n",
              "      <td>0.0</td>\n",
              "      <td>1882</td>\n",
              "      <td>squad</td>\n",
              "      <td>31</td>\n",
              "      <td>30</td>\n",
              "      <td>-1</td>\n",
              "      <td>0</td>\n",
              "      <td>4019.0</td>\n",
              "      <td>0</td>\n",
              "      <td>31.889999</td>\n",
              "      <td>0</td>\n",
              "      <td>0</td>\n",
              "      <td>3442.0</td>\n",
              "      <td>6</td>\n",
              "      <td>1508</td>\n",
              "      <td>0.9333</td>\n",
              "    </tr>\n",
              "    <tr>\n",
              "      <th>4446626</th>\n",
              "      <td>ffa53e8132e001</td>\n",
              "      <td>90a91b104852f8</td>\n",
              "      <td>dc8afb623b671d</td>\n",
              "      <td>0</td>\n",
              "      <td>9</td>\n",
              "      <td>0.000000</td>\n",
              "      <td>0</td>\n",
              "      <td>0</td>\n",
              "      <td>23</td>\n",
              "      <td>55</td>\n",
              "      <td>1140</td>\n",
              "      <td>0</td>\n",
              "      <td>0</td>\n",
              "      <td>0.0</td>\n",
              "      <td>1892</td>\n",
              "      <td>squad</td>\n",
              "      <td>31</td>\n",
              "      <td>31</td>\n",
              "      <td>-1</td>\n",
              "      <td>0</td>\n",
              "      <td>0.0</td>\n",
              "      <td>0</td>\n",
              "      <td>0.000000</td>\n",
              "      <td>0</td>\n",
              "      <td>0</td>\n",
              "      <td>2330.0</td>\n",
              "      <td>9</td>\n",
              "      <td>1553</td>\n",
              "      <td>0.6667</td>\n",
              "    </tr>\n",
              "  </tbody>\n",
              "</table>\n",
              "<p>6050 rows × 29 columns</p>\n",
              "</div>"
            ],
            "text/plain": [
              "                     Id         groupId  ... winPoints  winPlacePerc\n",
              "1052     1a06d47b65a4ea  1291de583fe414  ...      1529        0.8889\n",
              "2296     3ff77e912b95a4  3da0a0610b6578  ...         0        0.9263\n",
              "2418     672833ad9e9c3d  41d210e8e55296  ...      1501        0.8980\n",
              "3157     44642ba72f64ae  3c9c2daa2c3e01  ...         0        0.9176\n",
              "5851     dcb9b97e32f6b3  c3c88b43a0e704  ...      1510        0.8571\n",
              "...                 ...             ...  ...       ...           ...\n",
              "4442986  0817c48ea8f67a  1e402e2734ad02  ...         0        0.6250\n",
              "4444213  58ac9ad4c6a1bc  c3cb17248c1629  ...      1518        0.7692\n",
              "4445664  bf7fec8907b9f6  1fe1e689498e91  ...         0        0.8913\n",
              "4445762  c61c783562d96c  82227e3ae5a0a7  ...      1508        0.9333\n",
              "4446626  ffa53e8132e001  90a91b104852f8  ...      1553        0.6667\n",
              "\n",
              "[6050 rows x 29 columns]"
            ]
          },
          "metadata": {
            "tags": []
          },
          "execution_count": 78
        }
      ]
    },
    {
      "cell_type": "code",
      "metadata": {
        "id": "0qriOYCTWG3G",
        "colab_type": "code",
        "colab": {}
      },
      "source": [
        "data_new.drop(data_new[(data_new['heals']>15) & (data_new['kills']==0)].index,inplace=True)"
      ],
      "execution_count": 0,
      "outputs": []
    },
    {
      "cell_type": "markdown",
      "metadata": {
        "id": "XRt8qKOjE0LW",
        "colab_type": "text"
      },
      "source": [
        "Let's see people walking 0 m and acquiring more than 4 weapons as well as getting more than 7 kills"
      ]
    },
    {
      "cell_type": "code",
      "metadata": {
        "id": "Jg5BYz11_tF5",
        "colab_type": "code",
        "outputId": "62864bdb-adc5-4874-b867-c6293dc98534",
        "colab": {
          "base_uri": "https://localhost:8080/",
          "height": 0
        }
      },
      "source": [
        "data_new[(data_new['walkDistance']==0) & (data_new['weaponsAcquired']>6)]"
      ],
      "execution_count": 80,
      "outputs": [
        {
          "output_type": "execute_result",
          "data": {
            "text/html": [
              "<div>\n",
              "<style scoped>\n",
              "    .dataframe tbody tr th:only-of-type {\n",
              "        vertical-align: middle;\n",
              "    }\n",
              "\n",
              "    .dataframe tbody tr th {\n",
              "        vertical-align: top;\n",
              "    }\n",
              "\n",
              "    .dataframe thead th {\n",
              "        text-align: right;\n",
              "    }\n",
              "</style>\n",
              "<table border=\"1\" class=\"dataframe\">\n",
              "  <thead>\n",
              "    <tr style=\"text-align: right;\">\n",
              "      <th></th>\n",
              "      <th>Id</th>\n",
              "      <th>groupId</th>\n",
              "      <th>matchId</th>\n",
              "      <th>assists</th>\n",
              "      <th>boosts</th>\n",
              "      <th>damageDealt</th>\n",
              "      <th>DBNOs</th>\n",
              "      <th>headshotKills</th>\n",
              "      <th>heals</th>\n",
              "      <th>killPlace</th>\n",
              "      <th>killPoints</th>\n",
              "      <th>kills</th>\n",
              "      <th>killStreaks</th>\n",
              "      <th>longestKill</th>\n",
              "      <th>matchDuration</th>\n",
              "      <th>matchType</th>\n",
              "      <th>maxPlace</th>\n",
              "      <th>numGroups</th>\n",
              "      <th>rankPoints</th>\n",
              "      <th>revives</th>\n",
              "      <th>rideDistance</th>\n",
              "      <th>roadKills</th>\n",
              "      <th>swimDistance</th>\n",
              "      <th>teamKills</th>\n",
              "      <th>vehicleDestroys</th>\n",
              "      <th>walkDistance</th>\n",
              "      <th>weaponsAcquired</th>\n",
              "      <th>winPoints</th>\n",
              "      <th>winPlacePerc</th>\n",
              "    </tr>\n",
              "  </thead>\n",
              "  <tbody>\n",
              "    <tr>\n",
              "      <th>1357</th>\n",
              "      <td>72f70c6c074ca9</td>\n",
              "      <td>da042db555b932</td>\n",
              "      <td>f3c5fa51aacb95</td>\n",
              "      <td>0</td>\n",
              "      <td>0</td>\n",
              "      <td>722.799988</td>\n",
              "      <td>0</td>\n",
              "      <td>0</td>\n",
              "      <td>0</td>\n",
              "      <td>5</td>\n",
              "      <td>0</td>\n",
              "      <td>0</td>\n",
              "      <td>0</td>\n",
              "      <td>0.0</td>\n",
              "      <td>1808</td>\n",
              "      <td>solo</td>\n",
              "      <td>18</td>\n",
              "      <td>2</td>\n",
              "      <td>1500</td>\n",
              "      <td>0</td>\n",
              "      <td>0.0</td>\n",
              "      <td>0</td>\n",
              "      <td>0.0</td>\n",
              "      <td>0</td>\n",
              "      <td>0</td>\n",
              "      <td>0.0</td>\n",
              "      <td>15</td>\n",
              "      <td>0</td>\n",
              "      <td>0.0000</td>\n",
              "    </tr>\n",
              "    <tr>\n",
              "      <th>9264</th>\n",
              "      <td>0351565a7058e9</td>\n",
              "      <td>3663a93a319725</td>\n",
              "      <td>3659fe3694262a</td>\n",
              "      <td>0</td>\n",
              "      <td>0</td>\n",
              "      <td>0.321800</td>\n",
              "      <td>0</td>\n",
              "      <td>0</td>\n",
              "      <td>0</td>\n",
              "      <td>1</td>\n",
              "      <td>0</td>\n",
              "      <td>0</td>\n",
              "      <td>0</td>\n",
              "      <td>0.0</td>\n",
              "      <td>1808</td>\n",
              "      <td>solo</td>\n",
              "      <td>18</td>\n",
              "      <td>2</td>\n",
              "      <td>1500</td>\n",
              "      <td>0</td>\n",
              "      <td>0.0</td>\n",
              "      <td>0</td>\n",
              "      <td>0.0</td>\n",
              "      <td>0</td>\n",
              "      <td>0</td>\n",
              "      <td>0.0</td>\n",
              "      <td>9</td>\n",
              "      <td>0</td>\n",
              "      <td>1.0000</td>\n",
              "    </tr>\n",
              "    <tr>\n",
              "      <th>14064</th>\n",
              "      <td>3aa61b8955b307</td>\n",
              "      <td>599fcc332a73a4</td>\n",
              "      <td>58c1b3e191281f</td>\n",
              "      <td>0</td>\n",
              "      <td>0</td>\n",
              "      <td>38.400002</td>\n",
              "      <td>0</td>\n",
              "      <td>0</td>\n",
              "      <td>0</td>\n",
              "      <td>13</td>\n",
              "      <td>0</td>\n",
              "      <td>0</td>\n",
              "      <td>0</td>\n",
              "      <td>0.0</td>\n",
              "      <td>1808</td>\n",
              "      <td>solo</td>\n",
              "      <td>14</td>\n",
              "      <td>2</td>\n",
              "      <td>1500</td>\n",
              "      <td>0</td>\n",
              "      <td>0.0</td>\n",
              "      <td>0</td>\n",
              "      <td>0.0</td>\n",
              "      <td>0</td>\n",
              "      <td>0</td>\n",
              "      <td>0.0</td>\n",
              "      <td>12</td>\n",
              "      <td>0</td>\n",
              "      <td>0.0000</td>\n",
              "    </tr>\n",
              "    <tr>\n",
              "      <th>19054</th>\n",
              "      <td>d0683f5d780f09</td>\n",
              "      <td>faebf5c484de4a</td>\n",
              "      <td>ec9a90395ed8c0</td>\n",
              "      <td>0</td>\n",
              "      <td>0</td>\n",
              "      <td>99.000000</td>\n",
              "      <td>0</td>\n",
              "      <td>0</td>\n",
              "      <td>0</td>\n",
              "      <td>1</td>\n",
              "      <td>0</td>\n",
              "      <td>0</td>\n",
              "      <td>0</td>\n",
              "      <td>0.0</td>\n",
              "      <td>1808</td>\n",
              "      <td>solo</td>\n",
              "      <td>17</td>\n",
              "      <td>2</td>\n",
              "      <td>1500</td>\n",
              "      <td>0</td>\n",
              "      <td>0.0</td>\n",
              "      <td>0</td>\n",
              "      <td>0.0</td>\n",
              "      <td>0</td>\n",
              "      <td>0</td>\n",
              "      <td>0.0</td>\n",
              "      <td>9</td>\n",
              "      <td>0</td>\n",
              "      <td>1.0000</td>\n",
              "    </tr>\n",
              "    <tr>\n",
              "      <th>20141</th>\n",
              "      <td>97c487341b9d49</td>\n",
              "      <td>dca35f1d208e39</td>\n",
              "      <td>a0959420e8500a</td>\n",
              "      <td>0</td>\n",
              "      <td>0</td>\n",
              "      <td>138.000000</td>\n",
              "      <td>0</td>\n",
              "      <td>0</td>\n",
              "      <td>0</td>\n",
              "      <td>3</td>\n",
              "      <td>0</td>\n",
              "      <td>0</td>\n",
              "      <td>0</td>\n",
              "      <td>0.0</td>\n",
              "      <td>1802</td>\n",
              "      <td>solo</td>\n",
              "      <td>14</td>\n",
              "      <td>2</td>\n",
              "      <td>1500</td>\n",
              "      <td>0</td>\n",
              "      <td>0.0</td>\n",
              "      <td>0</td>\n",
              "      <td>0.0</td>\n",
              "      <td>0</td>\n",
              "      <td>0</td>\n",
              "      <td>0.0</td>\n",
              "      <td>7</td>\n",
              "      <td>0</td>\n",
              "      <td>0.0000</td>\n",
              "    </tr>\n",
              "    <tr>\n",
              "      <th>...</th>\n",
              "      <td>...</td>\n",
              "      <td>...</td>\n",
              "      <td>...</td>\n",
              "      <td>...</td>\n",
              "      <td>...</td>\n",
              "      <td>...</td>\n",
              "      <td>...</td>\n",
              "      <td>...</td>\n",
              "      <td>...</td>\n",
              "      <td>...</td>\n",
              "      <td>...</td>\n",
              "      <td>...</td>\n",
              "      <td>...</td>\n",
              "      <td>...</td>\n",
              "      <td>...</td>\n",
              "      <td>...</td>\n",
              "      <td>...</td>\n",
              "      <td>...</td>\n",
              "      <td>...</td>\n",
              "      <td>...</td>\n",
              "      <td>...</td>\n",
              "      <td>...</td>\n",
              "      <td>...</td>\n",
              "      <td>...</td>\n",
              "      <td>...</td>\n",
              "      <td>...</td>\n",
              "      <td>...</td>\n",
              "      <td>...</td>\n",
              "      <td>...</td>\n",
              "    </tr>\n",
              "    <tr>\n",
              "      <th>4439240</th>\n",
              "      <td>4f3e615a80aba7</td>\n",
              "      <td>5b47198812a450</td>\n",
              "      <td>d8a192bc8cf9ce</td>\n",
              "      <td>0</td>\n",
              "      <td>0</td>\n",
              "      <td>198.000000</td>\n",
              "      <td>0</td>\n",
              "      <td>0</td>\n",
              "      <td>0</td>\n",
              "      <td>3</td>\n",
              "      <td>0</td>\n",
              "      <td>0</td>\n",
              "      <td>0</td>\n",
              "      <td>0.0</td>\n",
              "      <td>1808</td>\n",
              "      <td>solo</td>\n",
              "      <td>15</td>\n",
              "      <td>2</td>\n",
              "      <td>1500</td>\n",
              "      <td>0</td>\n",
              "      <td>0.0</td>\n",
              "      <td>0</td>\n",
              "      <td>0.0</td>\n",
              "      <td>0</td>\n",
              "      <td>0</td>\n",
              "      <td>0.0</td>\n",
              "      <td>7</td>\n",
              "      <td>0</td>\n",
              "      <td>0.0000</td>\n",
              "    </tr>\n",
              "    <tr>\n",
              "      <th>4442729</th>\n",
              "      <td>3014f24816fc30</td>\n",
              "      <td>e343abc54854e0</td>\n",
              "      <td>c634e7337fcf17</td>\n",
              "      <td>0</td>\n",
              "      <td>0</td>\n",
              "      <td>0.000000</td>\n",
              "      <td>0</td>\n",
              "      <td>0</td>\n",
              "      <td>3</td>\n",
              "      <td>3</td>\n",
              "      <td>0</td>\n",
              "      <td>0</td>\n",
              "      <td>0</td>\n",
              "      <td>0.0</td>\n",
              "      <td>1808</td>\n",
              "      <td>solo</td>\n",
              "      <td>16</td>\n",
              "      <td>2</td>\n",
              "      <td>1500</td>\n",
              "      <td>0</td>\n",
              "      <td>0.0</td>\n",
              "      <td>0</td>\n",
              "      <td>0.0</td>\n",
              "      <td>0</td>\n",
              "      <td>0</td>\n",
              "      <td>0.0</td>\n",
              "      <td>12</td>\n",
              "      <td>0</td>\n",
              "      <td>0.0000</td>\n",
              "    </tr>\n",
              "    <tr>\n",
              "      <th>4444608</th>\n",
              "      <td>7aaea5e56f5c75</td>\n",
              "      <td>e7289bd09b496b</td>\n",
              "      <td>4b4554e7c2a741</td>\n",
              "      <td>0</td>\n",
              "      <td>0</td>\n",
              "      <td>0.000000</td>\n",
              "      <td>0</td>\n",
              "      <td>0</td>\n",
              "      <td>0</td>\n",
              "      <td>56</td>\n",
              "      <td>0</td>\n",
              "      <td>0</td>\n",
              "      <td>0</td>\n",
              "      <td>0.0</td>\n",
              "      <td>608</td>\n",
              "      <td>squad</td>\n",
              "      <td>15</td>\n",
              "      <td>14</td>\n",
              "      <td>1500</td>\n",
              "      <td>0</td>\n",
              "      <td>0.0</td>\n",
              "      <td>0</td>\n",
              "      <td>0.0</td>\n",
              "      <td>0</td>\n",
              "      <td>0</td>\n",
              "      <td>0.0</td>\n",
              "      <td>8</td>\n",
              "      <td>0</td>\n",
              "      <td>0.0714</td>\n",
              "    </tr>\n",
              "    <tr>\n",
              "      <th>4446093</th>\n",
              "      <td>2f57d1e882cc06</td>\n",
              "      <td>1c59e2133a2fbd</td>\n",
              "      <td>0027b1ffb2e346</td>\n",
              "      <td>0</td>\n",
              "      <td>0</td>\n",
              "      <td>116.800003</td>\n",
              "      <td>0</td>\n",
              "      <td>0</td>\n",
              "      <td>0</td>\n",
              "      <td>3</td>\n",
              "      <td>0</td>\n",
              "      <td>0</td>\n",
              "      <td>0</td>\n",
              "      <td>0.0</td>\n",
              "      <td>1808</td>\n",
              "      <td>solo</td>\n",
              "      <td>17</td>\n",
              "      <td>2</td>\n",
              "      <td>1500</td>\n",
              "      <td>0</td>\n",
              "      <td>0.0</td>\n",
              "      <td>0</td>\n",
              "      <td>0.0</td>\n",
              "      <td>0</td>\n",
              "      <td>0</td>\n",
              "      <td>0.0</td>\n",
              "      <td>11</td>\n",
              "      <td>0</td>\n",
              "      <td>1.0000</td>\n",
              "    </tr>\n",
              "    <tr>\n",
              "      <th>4446318</th>\n",
              "      <td>13ca7294094cfb</td>\n",
              "      <td>0e120a8d2f6105</td>\n",
              "      <td>07baf6b1ba3de9</td>\n",
              "      <td>0</td>\n",
              "      <td>0</td>\n",
              "      <td>0.000000</td>\n",
              "      <td>0</td>\n",
              "      <td>0</td>\n",
              "      <td>0</td>\n",
              "      <td>1</td>\n",
              "      <td>0</td>\n",
              "      <td>0</td>\n",
              "      <td>0</td>\n",
              "      <td>0.0</td>\n",
              "      <td>1743</td>\n",
              "      <td>solo</td>\n",
              "      <td>18</td>\n",
              "      <td>1</td>\n",
              "      <td>1500</td>\n",
              "      <td>0</td>\n",
              "      <td>0.0</td>\n",
              "      <td>0</td>\n",
              "      <td>0.0</td>\n",
              "      <td>0</td>\n",
              "      <td>0</td>\n",
              "      <td>0.0</td>\n",
              "      <td>21</td>\n",
              "      <td>0</td>\n",
              "      <td>0.0000</td>\n",
              "    </tr>\n",
              "  </tbody>\n",
              "</table>\n",
              "<p>1446 rows × 29 columns</p>\n",
              "</div>"
            ],
            "text/plain": [
              "                     Id         groupId  ... winPoints  winPlacePerc\n",
              "1357     72f70c6c074ca9  da042db555b932  ...         0        0.0000\n",
              "9264     0351565a7058e9  3663a93a319725  ...         0        1.0000\n",
              "14064    3aa61b8955b307  599fcc332a73a4  ...         0        0.0000\n",
              "19054    d0683f5d780f09  faebf5c484de4a  ...         0        1.0000\n",
              "20141    97c487341b9d49  dca35f1d208e39  ...         0        0.0000\n",
              "...                 ...             ...  ...       ...           ...\n",
              "4439240  4f3e615a80aba7  5b47198812a450  ...         0        0.0000\n",
              "4442729  3014f24816fc30  e343abc54854e0  ...         0        0.0000\n",
              "4444608  7aaea5e56f5c75  e7289bd09b496b  ...         0        0.0714\n",
              "4446093  2f57d1e882cc06  1c59e2133a2fbd  ...         0        1.0000\n",
              "4446318  13ca7294094cfb  0e120a8d2f6105  ...         0        0.0000\n",
              "\n",
              "[1446 rows x 29 columns]"
            ]
          },
          "metadata": {
            "tags": []
          },
          "execution_count": 80
        }
      ]
    },
    {
      "cell_type": "markdown",
      "metadata": {
        "id": "2nHlU_YJHYPz",
        "colab_type": "text"
      },
      "source": [
        "Is it even possible to acquire more than 5 weapons without walking a single distance?\n",
        "Let's remove these people."
      ]
    },
    {
      "cell_type": "code",
      "metadata": {
        "id": "-PswnW_nHnpr",
        "colab_type": "code",
        "colab": {}
      },
      "source": [
        "data_new.drop(data_new[(data_new['walkDistance']==0) & (data_new['weaponsAcquired']>5)].index,inplace = True)"
      ],
      "execution_count": 0,
      "outputs": []
    },
    {
      "cell_type": "markdown",
      "metadata": {
        "id": "7hEFbH0-Ws5D",
        "colab_type": "text"
      },
      "source": [
        "Let's also remove the people acquiring huge amout of weapon and getting no kills."
      ]
    },
    {
      "cell_type": "code",
      "metadata": {
        "id": "1wZYkMqKWf-5",
        "colab_type": "code",
        "outputId": "d96c52e7-e9db-43db-f6b6-8be478e4885a",
        "colab": {
          "base_uri": "https://localhost:8080/",
          "height": 0
        }
      },
      "source": [
        "data_new[(data_new['weaponsAcquired']>10) & (data_new['kills']==0)]"
      ],
      "execution_count": 82,
      "outputs": [
        {
          "output_type": "execute_result",
          "data": {
            "text/html": [
              "<div>\n",
              "<style scoped>\n",
              "    .dataframe tbody tr th:only-of-type {\n",
              "        vertical-align: middle;\n",
              "    }\n",
              "\n",
              "    .dataframe tbody tr th {\n",
              "        vertical-align: top;\n",
              "    }\n",
              "\n",
              "    .dataframe thead th {\n",
              "        text-align: right;\n",
              "    }\n",
              "</style>\n",
              "<table border=\"1\" class=\"dataframe\">\n",
              "  <thead>\n",
              "    <tr style=\"text-align: right;\">\n",
              "      <th></th>\n",
              "      <th>Id</th>\n",
              "      <th>groupId</th>\n",
              "      <th>matchId</th>\n",
              "      <th>assists</th>\n",
              "      <th>boosts</th>\n",
              "      <th>damageDealt</th>\n",
              "      <th>DBNOs</th>\n",
              "      <th>headshotKills</th>\n",
              "      <th>heals</th>\n",
              "      <th>killPlace</th>\n",
              "      <th>killPoints</th>\n",
              "      <th>kills</th>\n",
              "      <th>killStreaks</th>\n",
              "      <th>longestKill</th>\n",
              "      <th>matchDuration</th>\n",
              "      <th>matchType</th>\n",
              "      <th>maxPlace</th>\n",
              "      <th>numGroups</th>\n",
              "      <th>rankPoints</th>\n",
              "      <th>revives</th>\n",
              "      <th>rideDistance</th>\n",
              "      <th>roadKills</th>\n",
              "      <th>swimDistance</th>\n",
              "      <th>teamKills</th>\n",
              "      <th>vehicleDestroys</th>\n",
              "      <th>walkDistance</th>\n",
              "      <th>weaponsAcquired</th>\n",
              "      <th>winPoints</th>\n",
              "      <th>winPlacePerc</th>\n",
              "    </tr>\n",
              "  </thead>\n",
              "  <tbody>\n",
              "    <tr>\n",
              "      <th>278</th>\n",
              "      <td>50cf57eb57cd45</td>\n",
              "      <td>429d44d5c769d5</td>\n",
              "      <td>40a1695c7fbbe8</td>\n",
              "      <td>1</td>\n",
              "      <td>2</td>\n",
              "      <td>0.000000</td>\n",
              "      <td>0</td>\n",
              "      <td>0</td>\n",
              "      <td>1</td>\n",
              "      <td>46</td>\n",
              "      <td>1319</td>\n",
              "      <td>0</td>\n",
              "      <td>0</td>\n",
              "      <td>0.0</td>\n",
              "      <td>1799</td>\n",
              "      <td>squad</td>\n",
              "      <td>27</td>\n",
              "      <td>26</td>\n",
              "      <td>-1</td>\n",
              "      <td>1</td>\n",
              "      <td>2148.0</td>\n",
              "      <td>0</td>\n",
              "      <td>0.0</td>\n",
              "      <td>0</td>\n",
              "      <td>0</td>\n",
              "      <td>1403.000000</td>\n",
              "      <td>11</td>\n",
              "      <td>1531</td>\n",
              "      <td>0.6154</td>\n",
              "    </tr>\n",
              "    <tr>\n",
              "      <th>744</th>\n",
              "      <td>7cc7ba37f1d1b4</td>\n",
              "      <td>0176a39d8915ce</td>\n",
              "      <td>54e0dcd5cfa540</td>\n",
              "      <td>0</td>\n",
              "      <td>0</td>\n",
              "      <td>0.000000</td>\n",
              "      <td>0</td>\n",
              "      <td>0</td>\n",
              "      <td>0</td>\n",
              "      <td>54</td>\n",
              "      <td>1167</td>\n",
              "      <td>0</td>\n",
              "      <td>0</td>\n",
              "      <td>0.0</td>\n",
              "      <td>1375</td>\n",
              "      <td>duo</td>\n",
              "      <td>48</td>\n",
              "      <td>47</td>\n",
              "      <td>-1</td>\n",
              "      <td>0</td>\n",
              "      <td>0.0</td>\n",
              "      <td>0</td>\n",
              "      <td>0.0</td>\n",
              "      <td>0</td>\n",
              "      <td>0</td>\n",
              "      <td>1092.000000</td>\n",
              "      <td>13</td>\n",
              "      <td>1503</td>\n",
              "      <td>0.6170</td>\n",
              "    </tr>\n",
              "    <tr>\n",
              "      <th>1025</th>\n",
              "      <td>9d2798faf48483</td>\n",
              "      <td>088123159514fa</td>\n",
              "      <td>8d910c12f2ff79</td>\n",
              "      <td>0</td>\n",
              "      <td>2</td>\n",
              "      <td>57.720001</td>\n",
              "      <td>0</td>\n",
              "      <td>0</td>\n",
              "      <td>0</td>\n",
              "      <td>62</td>\n",
              "      <td>0</td>\n",
              "      <td>0</td>\n",
              "      <td>0</td>\n",
              "      <td>0.0</td>\n",
              "      <td>1865</td>\n",
              "      <td>solo</td>\n",
              "      <td>99</td>\n",
              "      <td>95</td>\n",
              "      <td>1538</td>\n",
              "      <td>0</td>\n",
              "      <td>0.0</td>\n",
              "      <td>0</td>\n",
              "      <td>0.0</td>\n",
              "      <td>0</td>\n",
              "      <td>0</td>\n",
              "      <td>1061.000000</td>\n",
              "      <td>11</td>\n",
              "      <td>0</td>\n",
              "      <td>0.4796</td>\n",
              "    </tr>\n",
              "    <tr>\n",
              "      <th>1623</th>\n",
              "      <td>b0a9faf0c46660</td>\n",
              "      <td>2b5c9fa8c47a4b</td>\n",
              "      <td>65b73c71653822</td>\n",
              "      <td>0</td>\n",
              "      <td>0</td>\n",
              "      <td>84.239998</td>\n",
              "      <td>0</td>\n",
              "      <td>0</td>\n",
              "      <td>0</td>\n",
              "      <td>61</td>\n",
              "      <td>0</td>\n",
              "      <td>0</td>\n",
              "      <td>0</td>\n",
              "      <td>0.0</td>\n",
              "      <td>1965</td>\n",
              "      <td>squad</td>\n",
              "      <td>30</td>\n",
              "      <td>29</td>\n",
              "      <td>1505</td>\n",
              "      <td>0</td>\n",
              "      <td>0.0</td>\n",
              "      <td>0</td>\n",
              "      <td>0.0</td>\n",
              "      <td>0</td>\n",
              "      <td>0</td>\n",
              "      <td>1762.000000</td>\n",
              "      <td>11</td>\n",
              "      <td>0</td>\n",
              "      <td>0.5172</td>\n",
              "    </tr>\n",
              "    <tr>\n",
              "      <th>1649</th>\n",
              "      <td>939017b986b77e</td>\n",
              "      <td>9a59e507a409cb</td>\n",
              "      <td>f1566f68443ed0</td>\n",
              "      <td>2</td>\n",
              "      <td>6</td>\n",
              "      <td>89.139999</td>\n",
              "      <td>0</td>\n",
              "      <td>0</td>\n",
              "      <td>7</td>\n",
              "      <td>32</td>\n",
              "      <td>0</td>\n",
              "      <td>0</td>\n",
              "      <td>0</td>\n",
              "      <td>0.0</td>\n",
              "      <td>1952</td>\n",
              "      <td>squad</td>\n",
              "      <td>16</td>\n",
              "      <td>16</td>\n",
              "      <td>1500</td>\n",
              "      <td>1</td>\n",
              "      <td>4194.0</td>\n",
              "      <td>0</td>\n",
              "      <td>0.0</td>\n",
              "      <td>0</td>\n",
              "      <td>0</td>\n",
              "      <td>2563.000000</td>\n",
              "      <td>12</td>\n",
              "      <td>0</td>\n",
              "      <td>0.9333</td>\n",
              "    </tr>\n",
              "    <tr>\n",
              "      <th>...</th>\n",
              "      <td>...</td>\n",
              "      <td>...</td>\n",
              "      <td>...</td>\n",
              "      <td>...</td>\n",
              "      <td>...</td>\n",
              "      <td>...</td>\n",
              "      <td>...</td>\n",
              "      <td>...</td>\n",
              "      <td>...</td>\n",
              "      <td>...</td>\n",
              "      <td>...</td>\n",
              "      <td>...</td>\n",
              "      <td>...</td>\n",
              "      <td>...</td>\n",
              "      <td>...</td>\n",
              "      <td>...</td>\n",
              "      <td>...</td>\n",
              "      <td>...</td>\n",
              "      <td>...</td>\n",
              "      <td>...</td>\n",
              "      <td>...</td>\n",
              "      <td>...</td>\n",
              "      <td>...</td>\n",
              "      <td>...</td>\n",
              "      <td>...</td>\n",
              "      <td>...</td>\n",
              "      <td>...</td>\n",
              "      <td>...</td>\n",
              "      <td>...</td>\n",
              "    </tr>\n",
              "    <tr>\n",
              "      <th>4445170</th>\n",
              "      <td>9a7094b816f25b</td>\n",
              "      <td>d0b082c36d6987</td>\n",
              "      <td>869d24bdf2824f</td>\n",
              "      <td>1</td>\n",
              "      <td>0</td>\n",
              "      <td>0.000000</td>\n",
              "      <td>0</td>\n",
              "      <td>0</td>\n",
              "      <td>1</td>\n",
              "      <td>73</td>\n",
              "      <td>0</td>\n",
              "      <td>0</td>\n",
              "      <td>0</td>\n",
              "      <td>0.0</td>\n",
              "      <td>1833</td>\n",
              "      <td>squad</td>\n",
              "      <td>27</td>\n",
              "      <td>26</td>\n",
              "      <td>1384</td>\n",
              "      <td>0</td>\n",
              "      <td>0.0</td>\n",
              "      <td>0</td>\n",
              "      <td>0.0</td>\n",
              "      <td>0</td>\n",
              "      <td>0</td>\n",
              "      <td>716.700012</td>\n",
              "      <td>11</td>\n",
              "      <td>0</td>\n",
              "      <td>0.2692</td>\n",
              "    </tr>\n",
              "    <tr>\n",
              "      <th>4445258</th>\n",
              "      <td>c855eb9cce9f52</td>\n",
              "      <td>fb32a85502fc61</td>\n",
              "      <td>c2ac7288c92703</td>\n",
              "      <td>0</td>\n",
              "      <td>0</td>\n",
              "      <td>22.770000</td>\n",
              "      <td>0</td>\n",
              "      <td>0</td>\n",
              "      <td>0</td>\n",
              "      <td>47</td>\n",
              "      <td>0</td>\n",
              "      <td>0</td>\n",
              "      <td>0</td>\n",
              "      <td>0.0</td>\n",
              "      <td>1878</td>\n",
              "      <td>duo</td>\n",
              "      <td>47</td>\n",
              "      <td>44</td>\n",
              "      <td>1553</td>\n",
              "      <td>0</td>\n",
              "      <td>0.0</td>\n",
              "      <td>0</td>\n",
              "      <td>0.0</td>\n",
              "      <td>0</td>\n",
              "      <td>0</td>\n",
              "      <td>2345.000000</td>\n",
              "      <td>11</td>\n",
              "      <td>0</td>\n",
              "      <td>0.6304</td>\n",
              "    </tr>\n",
              "    <tr>\n",
              "      <th>4445601</th>\n",
              "      <td>1e516ad4b79c10</td>\n",
              "      <td>2da3c6df257259</td>\n",
              "      <td>a1fc8600564e61</td>\n",
              "      <td>0</td>\n",
              "      <td>1</td>\n",
              "      <td>32.139999</td>\n",
              "      <td>0</td>\n",
              "      <td>0</td>\n",
              "      <td>3</td>\n",
              "      <td>60</td>\n",
              "      <td>1296</td>\n",
              "      <td>0</td>\n",
              "      <td>0</td>\n",
              "      <td>0.0</td>\n",
              "      <td>1790</td>\n",
              "      <td>duo</td>\n",
              "      <td>48</td>\n",
              "      <td>47</td>\n",
              "      <td>-1</td>\n",
              "      <td>0</td>\n",
              "      <td>4055.0</td>\n",
              "      <td>0</td>\n",
              "      <td>0.0</td>\n",
              "      <td>0</td>\n",
              "      <td>0</td>\n",
              "      <td>1585.000000</td>\n",
              "      <td>11</td>\n",
              "      <td>1397</td>\n",
              "      <td>0.5745</td>\n",
              "    </tr>\n",
              "    <tr>\n",
              "      <th>4446504</th>\n",
              "      <td>816d198cae0ae1</td>\n",
              "      <td>459fe0d332f853</td>\n",
              "      <td>93dcb8ca3be68d</td>\n",
              "      <td>0</td>\n",
              "      <td>4</td>\n",
              "      <td>56.049999</td>\n",
              "      <td>0</td>\n",
              "      <td>0</td>\n",
              "      <td>6</td>\n",
              "      <td>41</td>\n",
              "      <td>1248</td>\n",
              "      <td>0</td>\n",
              "      <td>0</td>\n",
              "      <td>0.0</td>\n",
              "      <td>1873</td>\n",
              "      <td>duo</td>\n",
              "      <td>46</td>\n",
              "      <td>45</td>\n",
              "      <td>-1</td>\n",
              "      <td>0</td>\n",
              "      <td>6023.0</td>\n",
              "      <td>0</td>\n",
              "      <td>0.0</td>\n",
              "      <td>0</td>\n",
              "      <td>0</td>\n",
              "      <td>2488.000000</td>\n",
              "      <td>11</td>\n",
              "      <td>1493</td>\n",
              "      <td>0.8889</td>\n",
              "    </tr>\n",
              "    <tr>\n",
              "      <th>4446773</th>\n",
              "      <td>7e696539ad5b59</td>\n",
              "      <td>1a926d49b299c2</td>\n",
              "      <td>e7bd39ede0d797</td>\n",
              "      <td>1</td>\n",
              "      <td>1</td>\n",
              "      <td>153.899994</td>\n",
              "      <td>0</td>\n",
              "      <td>0</td>\n",
              "      <td>1</td>\n",
              "      <td>40</td>\n",
              "      <td>1431</td>\n",
              "      <td>0</td>\n",
              "      <td>0</td>\n",
              "      <td>0.0</td>\n",
              "      <td>1892</td>\n",
              "      <td>duo</td>\n",
              "      <td>50</td>\n",
              "      <td>46</td>\n",
              "      <td>-1</td>\n",
              "      <td>0</td>\n",
              "      <td>2256.0</td>\n",
              "      <td>0</td>\n",
              "      <td>0.0</td>\n",
              "      <td>0</td>\n",
              "      <td>0</td>\n",
              "      <td>3062.000000</td>\n",
              "      <td>11</td>\n",
              "      <td>1593</td>\n",
              "      <td>0.9592</td>\n",
              "    </tr>\n",
              "  </tbody>\n",
              "</table>\n",
              "<p>14560 rows × 29 columns</p>\n",
              "</div>"
            ],
            "text/plain": [
              "                     Id         groupId  ... winPoints  winPlacePerc\n",
              "278      50cf57eb57cd45  429d44d5c769d5  ...      1531        0.6154\n",
              "744      7cc7ba37f1d1b4  0176a39d8915ce  ...      1503        0.6170\n",
              "1025     9d2798faf48483  088123159514fa  ...         0        0.4796\n",
              "1623     b0a9faf0c46660  2b5c9fa8c47a4b  ...         0        0.5172\n",
              "1649     939017b986b77e  9a59e507a409cb  ...         0        0.9333\n",
              "...                 ...             ...  ...       ...           ...\n",
              "4445170  9a7094b816f25b  d0b082c36d6987  ...         0        0.2692\n",
              "4445258  c855eb9cce9f52  fb32a85502fc61  ...         0        0.6304\n",
              "4445601  1e516ad4b79c10  2da3c6df257259  ...      1397        0.5745\n",
              "4446504  816d198cae0ae1  459fe0d332f853  ...      1493        0.8889\n",
              "4446773  7e696539ad5b59  1a926d49b299c2  ...      1593        0.9592\n",
              "\n",
              "[14560 rows x 29 columns]"
            ]
          },
          "metadata": {
            "tags": []
          },
          "execution_count": 82
        }
      ]
    },
    {
      "cell_type": "code",
      "metadata": {
        "id": "B1Ugh0xhXTs5",
        "colab_type": "code",
        "colab": {}
      },
      "source": [
        "data_new.drop(data_new[(data_new['weaponsAcquired']>10) & (data_new['kills']==0)].index,inplace=True)"
      ],
      "execution_count": 0,
      "outputs": []
    },
    {
      "cell_type": "markdown",
      "metadata": {
        "id": "ZefHuld1H83Y",
        "colab_type": "text"
      },
      "source": [
        "Let's see people with kill streaks equalling to kills having more than 10 kills.\n",
        "kill streaks means continous series of killing without stopping for a specified period."
      ]
    },
    {
      "cell_type": "code",
      "metadata": {
        "id": "uYuvsxn_H8eE",
        "colab_type": "code",
        "outputId": "53e1df6c-cdaf-4c29-fc5c-d2931763b6d0",
        "colab": {
          "base_uri": "https://localhost:8080/",
          "height": 0
        }
      },
      "source": [
        "data_new[(data_new['killStreaks'] == data_new['kills']) & (data_new['kills']>9)]"
      ],
      "execution_count": 84,
      "outputs": [
        {
          "output_type": "execute_result",
          "data": {
            "text/html": [
              "<div>\n",
              "<style scoped>\n",
              "    .dataframe tbody tr th:only-of-type {\n",
              "        vertical-align: middle;\n",
              "    }\n",
              "\n",
              "    .dataframe tbody tr th {\n",
              "        vertical-align: top;\n",
              "    }\n",
              "\n",
              "    .dataframe thead th {\n",
              "        text-align: right;\n",
              "    }\n",
              "</style>\n",
              "<table border=\"1\" class=\"dataframe\">\n",
              "  <thead>\n",
              "    <tr style=\"text-align: right;\">\n",
              "      <th></th>\n",
              "      <th>Id</th>\n",
              "      <th>groupId</th>\n",
              "      <th>matchId</th>\n",
              "      <th>assists</th>\n",
              "      <th>boosts</th>\n",
              "      <th>damageDealt</th>\n",
              "      <th>DBNOs</th>\n",
              "      <th>headshotKills</th>\n",
              "      <th>heals</th>\n",
              "      <th>killPlace</th>\n",
              "      <th>killPoints</th>\n",
              "      <th>kills</th>\n",
              "      <th>killStreaks</th>\n",
              "      <th>longestKill</th>\n",
              "      <th>matchDuration</th>\n",
              "      <th>matchType</th>\n",
              "      <th>maxPlace</th>\n",
              "      <th>numGroups</th>\n",
              "      <th>rankPoints</th>\n",
              "      <th>revives</th>\n",
              "      <th>rideDistance</th>\n",
              "      <th>roadKills</th>\n",
              "      <th>swimDistance</th>\n",
              "      <th>teamKills</th>\n",
              "      <th>vehicleDestroys</th>\n",
              "      <th>walkDistance</th>\n",
              "      <th>weaponsAcquired</th>\n",
              "      <th>winPoints</th>\n",
              "      <th>winPlacePerc</th>\n",
              "    </tr>\n",
              "  </thead>\n",
              "  <tbody>\n",
              "    <tr>\n",
              "      <th>124986</th>\n",
              "      <td>5641fc70c382fa</td>\n",
              "      <td>fb4d09d3c53a24</td>\n",
              "      <td>2258f78c7ef3d9</td>\n",
              "      <td>0</td>\n",
              "      <td>0</td>\n",
              "      <td>1400.000000</td>\n",
              "      <td>0</td>\n",
              "      <td>4</td>\n",
              "      <td>0</td>\n",
              "      <td>1</td>\n",
              "      <td>1000</td>\n",
              "      <td>14</td>\n",
              "      <td>14</td>\n",
              "      <td>0.00</td>\n",
              "      <td>1473</td>\n",
              "      <td>solo</td>\n",
              "      <td>74</td>\n",
              "      <td>58</td>\n",
              "      <td>-1</td>\n",
              "      <td>0</td>\n",
              "      <td>0.000000</td>\n",
              "      <td>0</td>\n",
              "      <td>0.000000</td>\n",
              "      <td>0</td>\n",
              "      <td>0</td>\n",
              "      <td>901.700012</td>\n",
              "      <td>8</td>\n",
              "      <td>1500</td>\n",
              "      <td>0.5342</td>\n",
              "    </tr>\n",
              "    <tr>\n",
              "      <th>1391066</th>\n",
              "      <td>3aef2fa24ee496</td>\n",
              "      <td>ad85d53e6e8351</td>\n",
              "      <td>e182153a76fef9</td>\n",
              "      <td>0</td>\n",
              "      <td>3</td>\n",
              "      <td>808.799988</td>\n",
              "      <td>0</td>\n",
              "      <td>11</td>\n",
              "      <td>4</td>\n",
              "      <td>1</td>\n",
              "      <td>1047</td>\n",
              "      <td>13</td>\n",
              "      <td>13</td>\n",
              "      <td>0.00</td>\n",
              "      <td>1423</td>\n",
              "      <td>solo</td>\n",
              "      <td>92</td>\n",
              "      <td>78</td>\n",
              "      <td>-1</td>\n",
              "      <td>0</td>\n",
              "      <td>1319.000000</td>\n",
              "      <td>0</td>\n",
              "      <td>130.199997</td>\n",
              "      <td>0</td>\n",
              "      <td>0</td>\n",
              "      <td>2192.000000</td>\n",
              "      <td>3</td>\n",
              "      <td>1376</td>\n",
              "      <td>0.7802</td>\n",
              "    </tr>\n",
              "    <tr>\n",
              "      <th>2035432</th>\n",
              "      <td>c7f45a94e7821b</td>\n",
              "      <td>96b732b014c2ff</td>\n",
              "      <td>c1b7f2198ec974</td>\n",
              "      <td>0</td>\n",
              "      <td>0</td>\n",
              "      <td>1300.000000</td>\n",
              "      <td>0</td>\n",
              "      <td>8</td>\n",
              "      <td>0</td>\n",
              "      <td>1</td>\n",
              "      <td>1000</td>\n",
              "      <td>13</td>\n",
              "      <td>13</td>\n",
              "      <td>14.31</td>\n",
              "      <td>1354</td>\n",
              "      <td>solo</td>\n",
              "      <td>91</td>\n",
              "      <td>73</td>\n",
              "      <td>-1</td>\n",
              "      <td>0</td>\n",
              "      <td>0.000000</td>\n",
              "      <td>0</td>\n",
              "      <td>0.000000</td>\n",
              "      <td>0</td>\n",
              "      <td>0</td>\n",
              "      <td>935.099976</td>\n",
              "      <td>7</td>\n",
              "      <td>1500</td>\n",
              "      <td>0.6667</td>\n",
              "    </tr>\n",
              "    <tr>\n",
              "      <th>2767999</th>\n",
              "      <td>34193085975338</td>\n",
              "      <td>bd7d50fa305700</td>\n",
              "      <td>a22354d036b3d6</td>\n",
              "      <td>0</td>\n",
              "      <td>0</td>\n",
              "      <td>1102.000000</td>\n",
              "      <td>0</td>\n",
              "      <td>0</td>\n",
              "      <td>0</td>\n",
              "      <td>1</td>\n",
              "      <td>1497</td>\n",
              "      <td>11</td>\n",
              "      <td>11</td>\n",
              "      <td>0.00</td>\n",
              "      <td>1946</td>\n",
              "      <td>solo</td>\n",
              "      <td>88</td>\n",
              "      <td>77</td>\n",
              "      <td>-1</td>\n",
              "      <td>0</td>\n",
              "      <td>4118.000000</td>\n",
              "      <td>11</td>\n",
              "      <td>0.000000</td>\n",
              "      <td>0</td>\n",
              "      <td>0</td>\n",
              "      <td>816.599976</td>\n",
              "      <td>5</td>\n",
              "      <td>1533</td>\n",
              "      <td>0.4713</td>\n",
              "    </tr>\n",
              "    <tr>\n",
              "      <th>3288424</th>\n",
              "      <td>ac5f6047cdcb4f</td>\n",
              "      <td>edf3a5ede475f1</td>\n",
              "      <td>655faf8fb81fe1</td>\n",
              "      <td>2</td>\n",
              "      <td>4</td>\n",
              "      <td>1087.000000</td>\n",
              "      <td>0</td>\n",
              "      <td>10</td>\n",
              "      <td>2</td>\n",
              "      <td>2</td>\n",
              "      <td>1000</td>\n",
              "      <td>10</td>\n",
              "      <td>10</td>\n",
              "      <td>0.00</td>\n",
              "      <td>1510</td>\n",
              "      <td>duo</td>\n",
              "      <td>45</td>\n",
              "      <td>40</td>\n",
              "      <td>-1</td>\n",
              "      <td>1</td>\n",
              "      <td>0.000000</td>\n",
              "      <td>0</td>\n",
              "      <td>318.700012</td>\n",
              "      <td>0</td>\n",
              "      <td>0</td>\n",
              "      <td>2693.000000</td>\n",
              "      <td>4</td>\n",
              "      <td>1500</td>\n",
              "      <td>1.0000</td>\n",
              "    </tr>\n",
              "    <tr>\n",
              "      <th>3681989</th>\n",
              "      <td>aee2a21bfd8832</td>\n",
              "      <td>14e78840901479</td>\n",
              "      <td>9decc88d9760d5</td>\n",
              "      <td>0</td>\n",
              "      <td>1</td>\n",
              "      <td>1072.000000</td>\n",
              "      <td>0</td>\n",
              "      <td>5</td>\n",
              "      <td>2</td>\n",
              "      <td>2</td>\n",
              "      <td>1106</td>\n",
              "      <td>10</td>\n",
              "      <td>10</td>\n",
              "      <td>0.00</td>\n",
              "      <td>2032</td>\n",
              "      <td>solo</td>\n",
              "      <td>96</td>\n",
              "      <td>80</td>\n",
              "      <td>-1</td>\n",
              "      <td>0</td>\n",
              "      <td>1708.000000</td>\n",
              "      <td>3</td>\n",
              "      <td>0.000000</td>\n",
              "      <td>0</td>\n",
              "      <td>0</td>\n",
              "      <td>196.100006</td>\n",
              "      <td>1</td>\n",
              "      <td>1422</td>\n",
              "      <td>0.3263</td>\n",
              "    </tr>\n",
              "    <tr>\n",
              "      <th>3954337</th>\n",
              "      <td>4228347e428b79</td>\n",
              "      <td>77ea5e30cffe9a</td>\n",
              "      <td>7c9ba5f5267e54</td>\n",
              "      <td>0</td>\n",
              "      <td>0</td>\n",
              "      <td>1000.000000</td>\n",
              "      <td>0</td>\n",
              "      <td>0</td>\n",
              "      <td>0</td>\n",
              "      <td>2</td>\n",
              "      <td>1350</td>\n",
              "      <td>10</td>\n",
              "      <td>10</td>\n",
              "      <td>0.00</td>\n",
              "      <td>1992</td>\n",
              "      <td>solo</td>\n",
              "      <td>93</td>\n",
              "      <td>81</td>\n",
              "      <td>-1</td>\n",
              "      <td>0</td>\n",
              "      <td>577.599976</td>\n",
              "      <td>10</td>\n",
              "      <td>0.000000</td>\n",
              "      <td>0</td>\n",
              "      <td>0</td>\n",
              "      <td>86.480003</td>\n",
              "      <td>0</td>\n",
              "      <td>1398</td>\n",
              "      <td>0.2174</td>\n",
              "    </tr>\n",
              "  </tbody>\n",
              "</table>\n",
              "</div>"
            ],
            "text/plain": [
              "                     Id         groupId  ... winPoints  winPlacePerc\n",
              "124986   5641fc70c382fa  fb4d09d3c53a24  ...      1500        0.5342\n",
              "1391066  3aef2fa24ee496  ad85d53e6e8351  ...      1376        0.7802\n",
              "2035432  c7f45a94e7821b  96b732b014c2ff  ...      1500        0.6667\n",
              "2767999  34193085975338  bd7d50fa305700  ...      1533        0.4713\n",
              "3288424  ac5f6047cdcb4f  edf3a5ede475f1  ...      1500        1.0000\n",
              "3681989  aee2a21bfd8832  14e78840901479  ...      1422        0.3263\n",
              "3954337  4228347e428b79  77ea5e30cffe9a  ...      1398        0.2174\n",
              "\n",
              "[7 rows x 29 columns]"
            ]
          },
          "metadata": {
            "tags": []
          },
          "execution_count": 84
        }
      ]
    },
    {
      "cell_type": "markdown",
      "metadata": {
        "id": "OnQ0glqKKYon",
        "colab_type": "text"
      },
      "source": [
        "These four people had kill streaks and kills more thn 10,which show them as an hacker.However,three player are pro as they have been using heal.\n",
        "So,we'll add heals as a condition and remove the rest."
      ]
    },
    {
      "cell_type": "code",
      "metadata": {
        "id": "jhWFtUSCKz28",
        "colab_type": "code",
        "colab": {}
      },
      "source": [
        "data_new.drop(data_new[(data_new['killStreaks']==data_new['kills']) & (data_new['kills']>9) & (data_new['heals']<1)].index,inplace=True)"
      ],
      "execution_count": 0,
      "outputs": []
    },
    {
      "cell_type": "markdown",
      "metadata": {
        "id": "MTEfGjd6Ll5o",
        "colab_type": "text"
      },
      "source": [
        "Let's see people with 100% headshot kills."
      ]
    },
    {
      "cell_type": "code",
      "metadata": {
        "id": "bOpng9A-Ns7O",
        "colab_type": "code",
        "outputId": "cf435236-8090-4920-dc3c-2312f34c2ee5",
        "colab": {
          "base_uri": "https://localhost:8080/",
          "height": 0
        }
      },
      "source": [
        "data_new[(data_new['headshotKills']==data_new['kills']) & (data_new['kills']>5)]"
      ],
      "execution_count": 86,
      "outputs": [
        {
          "output_type": "execute_result",
          "data": {
            "text/html": [
              "<div>\n",
              "<style scoped>\n",
              "    .dataframe tbody tr th:only-of-type {\n",
              "        vertical-align: middle;\n",
              "    }\n",
              "\n",
              "    .dataframe tbody tr th {\n",
              "        vertical-align: top;\n",
              "    }\n",
              "\n",
              "    .dataframe thead th {\n",
              "        text-align: right;\n",
              "    }\n",
              "</style>\n",
              "<table border=\"1\" class=\"dataframe\">\n",
              "  <thead>\n",
              "    <tr style=\"text-align: right;\">\n",
              "      <th></th>\n",
              "      <th>Id</th>\n",
              "      <th>groupId</th>\n",
              "      <th>matchId</th>\n",
              "      <th>assists</th>\n",
              "      <th>boosts</th>\n",
              "      <th>damageDealt</th>\n",
              "      <th>DBNOs</th>\n",
              "      <th>headshotKills</th>\n",
              "      <th>heals</th>\n",
              "      <th>killPlace</th>\n",
              "      <th>killPoints</th>\n",
              "      <th>kills</th>\n",
              "      <th>killStreaks</th>\n",
              "      <th>longestKill</th>\n",
              "      <th>matchDuration</th>\n",
              "      <th>matchType</th>\n",
              "      <th>maxPlace</th>\n",
              "      <th>numGroups</th>\n",
              "      <th>rankPoints</th>\n",
              "      <th>revives</th>\n",
              "      <th>rideDistance</th>\n",
              "      <th>roadKills</th>\n",
              "      <th>swimDistance</th>\n",
              "      <th>teamKills</th>\n",
              "      <th>vehicleDestroys</th>\n",
              "      <th>walkDistance</th>\n",
              "      <th>weaponsAcquired</th>\n",
              "      <th>winPoints</th>\n",
              "      <th>winPlacePerc</th>\n",
              "    </tr>\n",
              "  </thead>\n",
              "  <tbody>\n",
              "    <tr>\n",
              "      <th>43791</th>\n",
              "      <td>9afbe8ecaec518</td>\n",
              "      <td>19215cc89a51d7</td>\n",
              "      <td>0c70c2be6426f5</td>\n",
              "      <td>0</td>\n",
              "      <td>0</td>\n",
              "      <td>959.400024</td>\n",
              "      <td>8</td>\n",
              "      <td>7</td>\n",
              "      <td>0</td>\n",
              "      <td>1</td>\n",
              "      <td>0</td>\n",
              "      <td>7</td>\n",
              "      <td>4</td>\n",
              "      <td>117.699997</td>\n",
              "      <td>1371</td>\n",
              "      <td>squad</td>\n",
              "      <td>25</td>\n",
              "      <td>24</td>\n",
              "      <td>1783</td>\n",
              "      <td>0</td>\n",
              "      <td>1001.0</td>\n",
              "      <td>0</td>\n",
              "      <td>0.0</td>\n",
              "      <td>0</td>\n",
              "      <td>0</td>\n",
              "      <td>1823.0</td>\n",
              "      <td>4</td>\n",
              "      <td>0</td>\n",
              "      <td>0.5833</td>\n",
              "    </tr>\n",
              "    <tr>\n",
              "      <th>45447</th>\n",
              "      <td>eb5516fd4df6fe</td>\n",
              "      <td>45c62861949040</td>\n",
              "      <td>6f46cd41d884d8</td>\n",
              "      <td>0</td>\n",
              "      <td>4</td>\n",
              "      <td>740.500000</td>\n",
              "      <td>0</td>\n",
              "      <td>6</td>\n",
              "      <td>2</td>\n",
              "      <td>3</td>\n",
              "      <td>0</td>\n",
              "      <td>6</td>\n",
              "      <td>1</td>\n",
              "      <td>394.500000</td>\n",
              "      <td>1954</td>\n",
              "      <td>solo</td>\n",
              "      <td>97</td>\n",
              "      <td>96</td>\n",
              "      <td>1588</td>\n",
              "      <td>0</td>\n",
              "      <td>0.0</td>\n",
              "      <td>0</td>\n",
              "      <td>0.0</td>\n",
              "      <td>0</td>\n",
              "      <td>0</td>\n",
              "      <td>4403.0</td>\n",
              "      <td>4</td>\n",
              "      <td>0</td>\n",
              "      <td>0.9896</td>\n",
              "    </tr>\n",
              "    <tr>\n",
              "      <th>66266</th>\n",
              "      <td>1a23298ecdb19d</td>\n",
              "      <td>d5d54b4be23079</td>\n",
              "      <td>e111ebb6185bc8</td>\n",
              "      <td>0</td>\n",
              "      <td>4</td>\n",
              "      <td>1469.000000</td>\n",
              "      <td>9</td>\n",
              "      <td>8</td>\n",
              "      <td>0</td>\n",
              "      <td>2</td>\n",
              "      <td>0</td>\n",
              "      <td>8</td>\n",
              "      <td>1</td>\n",
              "      <td>443.500000</td>\n",
              "      <td>1793</td>\n",
              "      <td>squad</td>\n",
              "      <td>26</td>\n",
              "      <td>25</td>\n",
              "      <td>1449</td>\n",
              "      <td>0</td>\n",
              "      <td>2757.0</td>\n",
              "      <td>0</td>\n",
              "      <td>0.0</td>\n",
              "      <td>0</td>\n",
              "      <td>0</td>\n",
              "      <td>2107.0</td>\n",
              "      <td>6</td>\n",
              "      <td>0</td>\n",
              "      <td>0.7200</td>\n",
              "    </tr>\n",
              "    <tr>\n",
              "      <th>102499</th>\n",
              "      <td>d897450a550371</td>\n",
              "      <td>597f96e4f44ab8</td>\n",
              "      <td>afd45aeba13205</td>\n",
              "      <td>1</td>\n",
              "      <td>1</td>\n",
              "      <td>689.000000</td>\n",
              "      <td>0</td>\n",
              "      <td>7</td>\n",
              "      <td>3</td>\n",
              "      <td>16</td>\n",
              "      <td>1000</td>\n",
              "      <td>7</td>\n",
              "      <td>2</td>\n",
              "      <td>155.800003</td>\n",
              "      <td>732</td>\n",
              "      <td>solo</td>\n",
              "      <td>32</td>\n",
              "      <td>16</td>\n",
              "      <td>-1</td>\n",
              "      <td>0</td>\n",
              "      <td>1657.0</td>\n",
              "      <td>0</td>\n",
              "      <td>0.0</td>\n",
              "      <td>0</td>\n",
              "      <td>0</td>\n",
              "      <td>2421.0</td>\n",
              "      <td>12</td>\n",
              "      <td>1500</td>\n",
              "      <td>0.5806</td>\n",
              "    </tr>\n",
              "    <tr>\n",
              "      <th>104571</th>\n",
              "      <td>cbebfd04b26842</td>\n",
              "      <td>90d0154538dfa3</td>\n",
              "      <td>b0a10671999dc9</td>\n",
              "      <td>0</td>\n",
              "      <td>4</td>\n",
              "      <td>1153.000000</td>\n",
              "      <td>0</td>\n",
              "      <td>8</td>\n",
              "      <td>2</td>\n",
              "      <td>1</td>\n",
              "      <td>1212</td>\n",
              "      <td>8</td>\n",
              "      <td>1</td>\n",
              "      <td>189.899994</td>\n",
              "      <td>1397</td>\n",
              "      <td>solo</td>\n",
              "      <td>83</td>\n",
              "      <td>77</td>\n",
              "      <td>-1</td>\n",
              "      <td>0</td>\n",
              "      <td>1908.0</td>\n",
              "      <td>0</td>\n",
              "      <td>0.0</td>\n",
              "      <td>0</td>\n",
              "      <td>0</td>\n",
              "      <td>1898.0</td>\n",
              "      <td>4</td>\n",
              "      <td>1513</td>\n",
              "      <td>0.8780</td>\n",
              "    </tr>\n",
              "    <tr>\n",
              "      <th>...</th>\n",
              "      <td>...</td>\n",
              "      <td>...</td>\n",
              "      <td>...</td>\n",
              "      <td>...</td>\n",
              "      <td>...</td>\n",
              "      <td>...</td>\n",
              "      <td>...</td>\n",
              "      <td>...</td>\n",
              "      <td>...</td>\n",
              "      <td>...</td>\n",
              "      <td>...</td>\n",
              "      <td>...</td>\n",
              "      <td>...</td>\n",
              "      <td>...</td>\n",
              "      <td>...</td>\n",
              "      <td>...</td>\n",
              "      <td>...</td>\n",
              "      <td>...</td>\n",
              "      <td>...</td>\n",
              "      <td>...</td>\n",
              "      <td>...</td>\n",
              "      <td>...</td>\n",
              "      <td>...</td>\n",
              "      <td>...</td>\n",
              "      <td>...</td>\n",
              "      <td>...</td>\n",
              "      <td>...</td>\n",
              "      <td>...</td>\n",
              "      <td>...</td>\n",
              "    </tr>\n",
              "    <tr>\n",
              "      <th>4408299</th>\n",
              "      <td>8c570d2fd6e771</td>\n",
              "      <td>671309d084cff4</td>\n",
              "      <td>81a1f3c91bdab3</td>\n",
              "      <td>0</td>\n",
              "      <td>11</td>\n",
              "      <td>881.200012</td>\n",
              "      <td>7</td>\n",
              "      <td>9</td>\n",
              "      <td>2</td>\n",
              "      <td>1</td>\n",
              "      <td>1664</td>\n",
              "      <td>9</td>\n",
              "      <td>2</td>\n",
              "      <td>58.889999</td>\n",
              "      <td>1394</td>\n",
              "      <td>squad</td>\n",
              "      <td>24</td>\n",
              "      <td>20</td>\n",
              "      <td>-1</td>\n",
              "      <td>0</td>\n",
              "      <td>0.0</td>\n",
              "      <td>0</td>\n",
              "      <td>0.0</td>\n",
              "      <td>0</td>\n",
              "      <td>0</td>\n",
              "      <td>3346.0</td>\n",
              "      <td>5</td>\n",
              "      <td>1556</td>\n",
              "      <td>0.8696</td>\n",
              "    </tr>\n",
              "    <tr>\n",
              "      <th>4417654</th>\n",
              "      <td>e7693e6b92103b</td>\n",
              "      <td>b2a636d71aaea5</td>\n",
              "      <td>e7351dcf720ada</td>\n",
              "      <td>2</td>\n",
              "      <td>7</td>\n",
              "      <td>1083.000000</td>\n",
              "      <td>7</td>\n",
              "      <td>7</td>\n",
              "      <td>6</td>\n",
              "      <td>3</td>\n",
              "      <td>0</td>\n",
              "      <td>7</td>\n",
              "      <td>2</td>\n",
              "      <td>103.800003</td>\n",
              "      <td>1992</td>\n",
              "      <td>squad</td>\n",
              "      <td>26</td>\n",
              "      <td>26</td>\n",
              "      <td>1698</td>\n",
              "      <td>0</td>\n",
              "      <td>4415.0</td>\n",
              "      <td>0</td>\n",
              "      <td>0.0</td>\n",
              "      <td>0</td>\n",
              "      <td>0</td>\n",
              "      <td>2728.0</td>\n",
              "      <td>3</td>\n",
              "      <td>0</td>\n",
              "      <td>1.0000</td>\n",
              "    </tr>\n",
              "    <tr>\n",
              "      <th>4428741</th>\n",
              "      <td>6892bbc8af99e3</td>\n",
              "      <td>1fdc1da60d6247</td>\n",
              "      <td>69f854bbfdf3a2</td>\n",
              "      <td>0</td>\n",
              "      <td>3</td>\n",
              "      <td>1180.000000</td>\n",
              "      <td>7</td>\n",
              "      <td>12</td>\n",
              "      <td>1</td>\n",
              "      <td>1</td>\n",
              "      <td>0</td>\n",
              "      <td>12</td>\n",
              "      <td>2</td>\n",
              "      <td>184.000000</td>\n",
              "      <td>1359</td>\n",
              "      <td>duo</td>\n",
              "      <td>49</td>\n",
              "      <td>46</td>\n",
              "      <td>1485</td>\n",
              "      <td>0</td>\n",
              "      <td>0.0</td>\n",
              "      <td>0</td>\n",
              "      <td>0.0</td>\n",
              "      <td>0</td>\n",
              "      <td>0</td>\n",
              "      <td>1874.0</td>\n",
              "      <td>5</td>\n",
              "      <td>0</td>\n",
              "      <td>0.9375</td>\n",
              "    </tr>\n",
              "    <tr>\n",
              "      <th>4433196</th>\n",
              "      <td>adcae24897f155</td>\n",
              "      <td>7f94e84d7c089d</td>\n",
              "      <td>bece980540324d</td>\n",
              "      <td>0</td>\n",
              "      <td>1</td>\n",
              "      <td>600.000000</td>\n",
              "      <td>2</td>\n",
              "      <td>6</td>\n",
              "      <td>0</td>\n",
              "      <td>5</td>\n",
              "      <td>0</td>\n",
              "      <td>6</td>\n",
              "      <td>5</td>\n",
              "      <td>9.869000</td>\n",
              "      <td>2009</td>\n",
              "      <td>duo</td>\n",
              "      <td>49</td>\n",
              "      <td>45</td>\n",
              "      <td>1541</td>\n",
              "      <td>0</td>\n",
              "      <td>0.0</td>\n",
              "      <td>0</td>\n",
              "      <td>307.0</td>\n",
              "      <td>0</td>\n",
              "      <td>0</td>\n",
              "      <td>4875.0</td>\n",
              "      <td>3</td>\n",
              "      <td>0</td>\n",
              "      <td>0.7917</td>\n",
              "    </tr>\n",
              "    <tr>\n",
              "      <th>4435035</th>\n",
              "      <td>2495c84bccdd14</td>\n",
              "      <td>cd3c37bf70bb86</td>\n",
              "      <td>1fa18d5378b3b6</td>\n",
              "      <td>0</td>\n",
              "      <td>5</td>\n",
              "      <td>577.400024</td>\n",
              "      <td>5</td>\n",
              "      <td>7</td>\n",
              "      <td>4</td>\n",
              "      <td>2</td>\n",
              "      <td>1877</td>\n",
              "      <td>7</td>\n",
              "      <td>2</td>\n",
              "      <td>240.300003</td>\n",
              "      <td>1357</td>\n",
              "      <td>squad</td>\n",
              "      <td>24</td>\n",
              "      <td>22</td>\n",
              "      <td>-1</td>\n",
              "      <td>1</td>\n",
              "      <td>2065.0</td>\n",
              "      <td>0</td>\n",
              "      <td>0.0</td>\n",
              "      <td>0</td>\n",
              "      <td>0</td>\n",
              "      <td>2105.0</td>\n",
              "      <td>3</td>\n",
              "      <td>1721</td>\n",
              "      <td>0.9130</td>\n",
              "    </tr>\n",
              "  </tbody>\n",
              "</table>\n",
              "<p>184 rows × 29 columns</p>\n",
              "</div>"
            ],
            "text/plain": [
              "                     Id         groupId  ... winPoints  winPlacePerc\n",
              "43791    9afbe8ecaec518  19215cc89a51d7  ...         0        0.5833\n",
              "45447    eb5516fd4df6fe  45c62861949040  ...         0        0.9896\n",
              "66266    1a23298ecdb19d  d5d54b4be23079  ...         0        0.7200\n",
              "102499   d897450a550371  597f96e4f44ab8  ...      1500        0.5806\n",
              "104571   cbebfd04b26842  90d0154538dfa3  ...      1513        0.8780\n",
              "...                 ...             ...  ...       ...           ...\n",
              "4408299  8c570d2fd6e771  671309d084cff4  ...      1556        0.8696\n",
              "4417654  e7693e6b92103b  b2a636d71aaea5  ...         0        1.0000\n",
              "4428741  6892bbc8af99e3  1fdc1da60d6247  ...         0        0.9375\n",
              "4433196  adcae24897f155  7f94e84d7c089d  ...         0        0.7917\n",
              "4435035  2495c84bccdd14  cd3c37bf70bb86  ...      1721        0.9130\n",
              "\n",
              "[184 rows x 29 columns]"
            ]
          },
          "metadata": {
            "tags": []
          },
          "execution_count": 86
        }
      ]
    },
    {
      "cell_type": "markdown",
      "metadata": {
        "id": "yqIGndSdPtYi",
        "colab_type": "text"
      },
      "source": [
        "These people can be pro or maybe hacker,so let's remove them using heal as condition."
      ]
    },
    {
      "cell_type": "code",
      "metadata": {
        "id": "yQgkZfaPLlg9",
        "colab_type": "code",
        "colab": {}
      },
      "source": [
        "data_new.drop(data_new[(data_new['headshotKills']==data_new['kills']) & (data_new['kills']>5) & (data_new['heals']<2)].index,inplace = True)"
      ],
      "execution_count": 0,
      "outputs": []
    },
    {
      "cell_type": "code",
      "metadata": {
        "id": "FGxDRyvlx2XR",
        "colab_type": "code",
        "colab": {}
      },
      "source": [
        "data_new['total_dist'] = data_new['walkDistance']+data_new['rideDistance']+data_new['swimDistance']\n",
        "data_new.drop(['walkDistance','rideDistance','swimDistance'],axis=1,inplace=True)"
      ],
      "execution_count": 0,
      "outputs": []
    },
    {
      "cell_type": "code",
      "metadata": {
        "id": "DRQ616WzbqA_",
        "colab_type": "code",
        "outputId": "e6400139-a89b-4383-8584-be567098ff4f",
        "colab": {
          "base_uri": "https://localhost:8080/",
          "height": 0
        }
      },
      "source": [
        "data_new.columns"
      ],
      "execution_count": 89,
      "outputs": [
        {
          "output_type": "execute_result",
          "data": {
            "text/plain": [
              "Index(['Id', 'groupId', 'matchId', 'assists', 'boosts', 'damageDealt', 'DBNOs',\n",
              "       'headshotKills', 'heals', 'killPlace', 'killPoints', 'kills',\n",
              "       'killStreaks', 'longestKill', 'matchDuration', 'matchType', 'maxPlace',\n",
              "       'numGroups', 'rankPoints', 'revives', 'roadKills', 'teamKills',\n",
              "       'vehicleDestroys', 'weaponsAcquired', 'winPoints', 'winPlacePerc',\n",
              "       'total_dist'],\n",
              "      dtype='object')"
            ]
          },
          "metadata": {
            "tags": []
          },
          "execution_count": 89
        }
      ]
    },
    {
      "cell_type": "code",
      "metadata": {
        "id": "IejQmSqtc76G",
        "colab_type": "code",
        "outputId": "a187dbe2-8f32-4b84-dd23-ef13ccd303d0",
        "colab": {
          "base_uri": "https://localhost:8080/",
          "height": 0
        }
      },
      "source": [
        "data_new.dtypes"
      ],
      "execution_count": 90,
      "outputs": [
        {
          "output_type": "execute_result",
          "data": {
            "text/plain": [
              "Id                  object\n",
              "groupId             object\n",
              "matchId             object\n",
              "assists               int8\n",
              "boosts                int8\n",
              "damageDealt        float32\n",
              "DBNOs                 int8\n",
              "headshotKills         int8\n",
              "heals                 int8\n",
              "killPlace             int8\n",
              "killPoints           int16\n",
              "kills                 int8\n",
              "killStreaks           int8\n",
              "longestKill        float32\n",
              "matchDuration        int16\n",
              "matchType           object\n",
              "maxPlace              int8\n",
              "numGroups             int8\n",
              "rankPoints           int16\n",
              "revives               int8\n",
              "roadKills             int8\n",
              "teamKills             int8\n",
              "vehicleDestroys       int8\n",
              "weaponsAcquired      int16\n",
              "winPoints            int16\n",
              "winPlacePerc       float32\n",
              "total_dist         float32\n",
              "dtype: object"
            ]
          },
          "metadata": {
            "tags": []
          },
          "execution_count": 90
        }
      ]
    },
    {
      "cell_type": "markdown",
      "metadata": {
        "id": "fZZJj377aSFP",
        "colab_type": "text"
      },
      "source": [
        "### Feature importance"
      ]
    },
    {
      "cell_type": "code",
      "metadata": {
        "id": "ktVLErT0SmZu",
        "colab_type": "code",
        "colab": {}
      },
      "source": [
        "from sklearn.ensemble import ExtraTreesRegressor,RandomForestRegressor\n",
        "from sklearn.preprocessing import LabelEncoder"
      ],
      "execution_count": 0,
      "outputs": []
    },
    {
      "cell_type": "code",
      "metadata": {
        "id": "fQfGvFnBpFNU",
        "colab_type": "code",
        "colab": {}
      },
      "source": [
        "data_new.drop(['Id','groupId','matchId'],axis=1,inplace=True)"
      ],
      "execution_count": 0,
      "outputs": []
    },
    {
      "cell_type": "code",
      "metadata": {
        "id": "63KEEE-zdE4Z",
        "colab_type": "code",
        "colab": {}
      },
      "source": [
        "data_enc = data_new.apply(LabelEncoder().fit_transform) "
      ],
      "execution_count": 0,
      "outputs": []
    },
    {
      "cell_type": "code",
      "metadata": {
        "id": "EkPfjsJ5ddNY",
        "colab_type": "code",
        "outputId": "2f6960c8-314e-478e-f20c-74e72201a7c4",
        "colab": {
          "base_uri": "https://localhost:8080/",
          "height": 659
        }
      },
      "source": [
        "data_enc.head(20)"
      ],
      "execution_count": 94,
      "outputs": [
        {
          "output_type": "execute_result",
          "data": {
            "text/html": [
              "<div>\n",
              "<style scoped>\n",
              "    .dataframe tbody tr th:only-of-type {\n",
              "        vertical-align: middle;\n",
              "    }\n",
              "\n",
              "    .dataframe tbody tr th {\n",
              "        vertical-align: top;\n",
              "    }\n",
              "\n",
              "    .dataframe thead th {\n",
              "        text-align: right;\n",
              "    }\n",
              "</style>\n",
              "<table border=\"1\" class=\"dataframe\">\n",
              "  <thead>\n",
              "    <tr style=\"text-align: right;\">\n",
              "      <th></th>\n",
              "      <th>assists</th>\n",
              "      <th>boosts</th>\n",
              "      <th>damageDealt</th>\n",
              "      <th>DBNOs</th>\n",
              "      <th>headshotKills</th>\n",
              "      <th>heals</th>\n",
              "      <th>killPlace</th>\n",
              "      <th>killPoints</th>\n",
              "      <th>kills</th>\n",
              "      <th>killStreaks</th>\n",
              "      <th>longestKill</th>\n",
              "      <th>matchDuration</th>\n",
              "      <th>matchType</th>\n",
              "      <th>maxPlace</th>\n",
              "      <th>numGroups</th>\n",
              "      <th>rankPoints</th>\n",
              "      <th>revives</th>\n",
              "      <th>roadKills</th>\n",
              "      <th>teamKills</th>\n",
              "      <th>vehicleDestroys</th>\n",
              "      <th>weaponsAcquired</th>\n",
              "      <th>winPoints</th>\n",
              "      <th>winPlacePerc</th>\n",
              "      <th>total_dist</th>\n",
              "    </tr>\n",
              "  </thead>\n",
              "  <tbody>\n",
              "    <tr>\n",
              "      <th>0</th>\n",
              "      <td>0</td>\n",
              "      <td>0</td>\n",
              "      <td>0</td>\n",
              "      <td>0</td>\n",
              "      <td>0</td>\n",
              "      <td>0</td>\n",
              "      <td>59</td>\n",
              "      <td>864</td>\n",
              "      <td>0</td>\n",
              "      <td>0</td>\n",
              "      <td>0</td>\n",
              "      <td>423</td>\n",
              "      <td>2</td>\n",
              "      <td>26</td>\n",
              "      <td>25</td>\n",
              "      <td>0</td>\n",
              "      <td>0</td>\n",
              "      <td>0</td>\n",
              "      <td>0</td>\n",
              "      <td>0</td>\n",
              "      <td>1</td>\n",
              "      <td>931</td>\n",
              "      <td>1333</td>\n",
              "      <td>32659</td>\n",
              "    </tr>\n",
              "    <tr>\n",
              "      <th>1</th>\n",
              "      <td>0</td>\n",
              "      <td>0</td>\n",
              "      <td>18528</td>\n",
              "      <td>0</td>\n",
              "      <td>0</td>\n",
              "      <td>0</td>\n",
              "      <td>56</td>\n",
              "      <td>0</td>\n",
              "      <td>0</td>\n",
              "      <td>0</td>\n",
              "      <td>0</td>\n",
              "      <td>850</td>\n",
              "      <td>2</td>\n",
              "      <td>24</td>\n",
              "      <td>24</td>\n",
              "      <td>858</td>\n",
              "      <td>0</td>\n",
              "      <td>0</td>\n",
              "      <td>0</td>\n",
              "      <td>0</td>\n",
              "      <td>5</td>\n",
              "      <td>0</td>\n",
              "      <td>1918</td>\n",
              "      <td>86131</td>\n",
              "    </tr>\n",
              "    <tr>\n",
              "      <th>2</th>\n",
              "      <td>1</td>\n",
              "      <td>0</td>\n",
              "      <td>16181</td>\n",
              "      <td>0</td>\n",
              "      <td>0</td>\n",
              "      <td>0</td>\n",
              "      <td>46</td>\n",
              "      <td>0</td>\n",
              "      <td>0</td>\n",
              "      <td>0</td>\n",
              "      <td>0</td>\n",
              "      <td>435</td>\n",
              "      <td>0</td>\n",
              "      <td>48</td>\n",
              "      <td>46</td>\n",
              "      <td>865</td>\n",
              "      <td>0</td>\n",
              "      <td>0</td>\n",
              "      <td>0</td>\n",
              "      <td>0</td>\n",
              "      <td>2</td>\n",
              "      <td>0</td>\n",
              "      <td>2326</td>\n",
              "      <td>28226</td>\n",
              "    </tr>\n",
              "    <tr>\n",
              "      <th>3</th>\n",
              "      <td>0</td>\n",
              "      <td>0</td>\n",
              "      <td>12671</td>\n",
              "      <td>0</td>\n",
              "      <td>0</td>\n",
              "      <td>0</td>\n",
              "      <td>74</td>\n",
              "      <td>0</td>\n",
              "      <td>0</td>\n",
              "      <td>0</td>\n",
              "      <td>0</td>\n",
              "      <td>553</td>\n",
              "      <td>2</td>\n",
              "      <td>29</td>\n",
              "      <td>29</td>\n",
              "      <td>782</td>\n",
              "      <td>0</td>\n",
              "      <td>0</td>\n",
              "      <td>0</td>\n",
              "      <td>0</td>\n",
              "      <td>3</td>\n",
              "      <td>0</td>\n",
              "      <td>501</td>\n",
              "      <td>30412</td>\n",
              "    </tr>\n",
              "    <tr>\n",
              "      <th>4</th>\n",
              "      <td>0</td>\n",
              "      <td>0</td>\n",
              "      <td>19381</td>\n",
              "      <td>0</td>\n",
              "      <td>0</td>\n",
              "      <td>0</td>\n",
              "      <td>44</td>\n",
              "      <td>0</td>\n",
              "      <td>1</td>\n",
              "      <td>1</td>\n",
              "      <td>18905</td>\n",
              "      <td>541</td>\n",
              "      <td>1</td>\n",
              "      <td>95</td>\n",
              "      <td>94</td>\n",
              "      <td>934</td>\n",
              "      <td>0</td>\n",
              "      <td>0</td>\n",
              "      <td>0</td>\n",
              "      <td>0</td>\n",
              "      <td>2</td>\n",
              "      <td>0</td>\n",
              "      <td>564</td>\n",
              "      <td>18949</td>\n",
              "    </tr>\n",
              "    <tr>\n",
              "      <th>5</th>\n",
              "      <td>0</td>\n",
              "      <td>0</td>\n",
              "      <td>19381</td>\n",
              "      <td>1</td>\n",
              "      <td>1</td>\n",
              "      <td>0</td>\n",
              "      <td>43</td>\n",
              "      <td>0</td>\n",
              "      <td>1</td>\n",
              "      <td>1</td>\n",
              "      <td>14896</td>\n",
              "      <td>512</td>\n",
              "      <td>2</td>\n",
              "      <td>26</td>\n",
              "      <td>27</td>\n",
              "      <td>792</td>\n",
              "      <td>0</td>\n",
              "      <td>0</td>\n",
              "      <td>0</td>\n",
              "      <td>0</td>\n",
              "      <td>1</td>\n",
              "      <td>0</td>\n",
              "      <td>108</td>\n",
              "      <td>17020</td>\n",
              "    </tr>\n",
              "    <tr>\n",
              "      <th>6</th>\n",
              "      <td>0</td>\n",
              "      <td>0</td>\n",
              "      <td>0</td>\n",
              "      <td>0</td>\n",
              "      <td>0</td>\n",
              "      <td>0</td>\n",
              "      <td>95</td>\n",
              "      <td>885</td>\n",
              "      <td>0</td>\n",
              "      <td>0</td>\n",
              "      <td>0</td>\n",
              "      <td>433</td>\n",
              "      <td>2</td>\n",
              "      <td>26</td>\n",
              "      <td>27</td>\n",
              "      <td>0</td>\n",
              "      <td>0</td>\n",
              "      <td>0</td>\n",
              "      <td>0</td>\n",
              "      <td>0</td>\n",
              "      <td>1</td>\n",
              "      <td>962</td>\n",
              "      <td>0</td>\n",
              "      <td>14367</td>\n",
              "    </tr>\n",
              "    <tr>\n",
              "      <th>7</th>\n",
              "      <td>0</td>\n",
              "      <td>0</td>\n",
              "      <td>9020</td>\n",
              "      <td>0</td>\n",
              "      <td>0</td>\n",
              "      <td>0</td>\n",
              "      <td>47</td>\n",
              "      <td>623</td>\n",
              "      <td>0</td>\n",
              "      <td>0</td>\n",
              "      <td>0</td>\n",
              "      <td>1040</td>\n",
              "      <td>1</td>\n",
              "      <td>94</td>\n",
              "      <td>91</td>\n",
              "      <td>0</td>\n",
              "      <td>0</td>\n",
              "      <td>0</td>\n",
              "      <td>0</td>\n",
              "      <td>0</td>\n",
              "      <td>6</td>\n",
              "      <td>965</td>\n",
              "      <td>2209</td>\n",
              "      <td>185826</td>\n",
              "    </tr>\n",
              "    <tr>\n",
              "      <th>8</th>\n",
              "      <td>0</td>\n",
              "      <td>0</td>\n",
              "      <td>14541</td>\n",
              "      <td>0</td>\n",
              "      <td>0</td>\n",
              "      <td>0</td>\n",
              "      <td>63</td>\n",
              "      <td>0</td>\n",
              "      <td>0</td>\n",
              "      <td>0</td>\n",
              "      <td>0</td>\n",
              "      <td>492</td>\n",
              "      <td>2</td>\n",
              "      <td>26</td>\n",
              "      <td>26</td>\n",
              "      <td>867</td>\n",
              "      <td>0</td>\n",
              "      <td>0</td>\n",
              "      <td>0</td>\n",
              "      <td>0</td>\n",
              "      <td>4</td>\n",
              "      <td>0</td>\n",
              "      <td>1111</td>\n",
              "      <td>57460</td>\n",
              "    </tr>\n",
              "    <tr>\n",
              "      <th>9</th>\n",
              "      <td>0</td>\n",
              "      <td>0</td>\n",
              "      <td>13108</td>\n",
              "      <td>0</td>\n",
              "      <td>0</td>\n",
              "      <td>0</td>\n",
              "      <td>73</td>\n",
              "      <td>0</td>\n",
              "      <td>0</td>\n",
              "      <td>0</td>\n",
              "      <td>0</td>\n",
              "      <td>1003</td>\n",
              "      <td>2</td>\n",
              "      <td>27</td>\n",
              "      <td>26</td>\n",
              "      <td>723</td>\n",
              "      <td>0</td>\n",
              "      <td>0</td>\n",
              "      <td>0</td>\n",
              "      <td>0</td>\n",
              "      <td>1</td>\n",
              "      <td>0</td>\n",
              "      <td>644</td>\n",
              "      <td>21007</td>\n",
              "    </tr>\n",
              "    <tr>\n",
              "      <th>10</th>\n",
              "      <td>0</td>\n",
              "      <td>0</td>\n",
              "      <td>12219</td>\n",
              "      <td>0</td>\n",
              "      <td>0</td>\n",
              "      <td>0</td>\n",
              "      <td>74</td>\n",
              "      <td>0</td>\n",
              "      <td>0</td>\n",
              "      <td>0</td>\n",
              "      <td>0</td>\n",
              "      <td>884</td>\n",
              "      <td>2</td>\n",
              "      <td>27</td>\n",
              "      <td>28</td>\n",
              "      <td>849</td>\n",
              "      <td>0</td>\n",
              "      <td>0</td>\n",
              "      <td>0</td>\n",
              "      <td>0</td>\n",
              "      <td>9</td>\n",
              "      <td>0</td>\n",
              "      <td>1180</td>\n",
              "      <td>60453</td>\n",
              "    </tr>\n",
              "    <tr>\n",
              "      <th>11</th>\n",
              "      <td>0</td>\n",
              "      <td>0</td>\n",
              "      <td>19760</td>\n",
              "      <td>1</td>\n",
              "      <td>0</td>\n",
              "      <td>0</td>\n",
              "      <td>63</td>\n",
              "      <td>0</td>\n",
              "      <td>0</td>\n",
              "      <td>0</td>\n",
              "      <td>0</td>\n",
              "      <td>501</td>\n",
              "      <td>0</td>\n",
              "      <td>46</td>\n",
              "      <td>45</td>\n",
              "      <td>862</td>\n",
              "      <td>0</td>\n",
              "      <td>0</td>\n",
              "      <td>0</td>\n",
              "      <td>0</td>\n",
              "      <td>1</td>\n",
              "      <td>0</td>\n",
              "      <td>1212</td>\n",
              "      <td>42514</td>\n",
              "    </tr>\n",
              "    <tr>\n",
              "      <th>12</th>\n",
              "      <td>0</td>\n",
              "      <td>0</td>\n",
              "      <td>0</td>\n",
              "      <td>0</td>\n",
              "      <td>0</td>\n",
              "      <td>0</td>\n",
              "      <td>36</td>\n",
              "      <td>0</td>\n",
              "      <td>0</td>\n",
              "      <td>0</td>\n",
              "      <td>0</td>\n",
              "      <td>847</td>\n",
              "      <td>2</td>\n",
              "      <td>27</td>\n",
              "      <td>27</td>\n",
              "      <td>1140</td>\n",
              "      <td>0</td>\n",
              "      <td>0</td>\n",
              "      <td>0</td>\n",
              "      <td>0</td>\n",
              "      <td>6</td>\n",
              "      <td>0</td>\n",
              "      <td>2787</td>\n",
              "      <td>321418</td>\n",
              "    </tr>\n",
              "    <tr>\n",
              "      <th>13</th>\n",
              "      <td>0</td>\n",
              "      <td>1</td>\n",
              "      <td>21623</td>\n",
              "      <td>0</td>\n",
              "      <td>1</td>\n",
              "      <td>5</td>\n",
              "      <td>4</td>\n",
              "      <td>609</td>\n",
              "      <td>4</td>\n",
              "      <td>1</td>\n",
              "      <td>18035</td>\n",
              "      <td>959</td>\n",
              "      <td>1</td>\n",
              "      <td>95</td>\n",
              "      <td>93</td>\n",
              "      <td>0</td>\n",
              "      <td>0</td>\n",
              "      <td>0</td>\n",
              "      <td>0</td>\n",
              "      <td>0</td>\n",
              "      <td>6</td>\n",
              "      <td>927</td>\n",
              "      <td>2624</td>\n",
              "      <td>201978</td>\n",
              "    </tr>\n",
              "    <tr>\n",
              "      <th>14</th>\n",
              "      <td>0</td>\n",
              "      <td>1</td>\n",
              "      <td>19609</td>\n",
              "      <td>1</td>\n",
              "      <td>0</td>\n",
              "      <td>2</td>\n",
              "      <td>24</td>\n",
              "      <td>1034</td>\n",
              "      <td>1</td>\n",
              "      <td>1</td>\n",
              "      <td>16843</td>\n",
              "      <td>575</td>\n",
              "      <td>2</td>\n",
              "      <td>29</td>\n",
              "      <td>29</td>\n",
              "      <td>0</td>\n",
              "      <td>1</td>\n",
              "      <td>0</td>\n",
              "      <td>0</td>\n",
              "      <td>0</td>\n",
              "      <td>5</td>\n",
              "      <td>996</td>\n",
              "      <td>2699</td>\n",
              "      <td>177376</td>\n",
              "    </tr>\n",
              "    <tr>\n",
              "      <th>15</th>\n",
              "      <td>0</td>\n",
              "      <td>0</td>\n",
              "      <td>17452</td>\n",
              "      <td>1</td>\n",
              "      <td>0</td>\n",
              "      <td>0</td>\n",
              "      <td>71</td>\n",
              "      <td>0</td>\n",
              "      <td>0</td>\n",
              "      <td>0</td>\n",
              "      <td>0</td>\n",
              "      <td>430</td>\n",
              "      <td>0</td>\n",
              "      <td>46</td>\n",
              "      <td>47</td>\n",
              "      <td>869</td>\n",
              "      <td>1</td>\n",
              "      <td>0</td>\n",
              "      <td>0</td>\n",
              "      <td>0</td>\n",
              "      <td>5</td>\n",
              "      <td>0</td>\n",
              "      <td>832</td>\n",
              "      <td>25488</td>\n",
              "    </tr>\n",
              "    <tr>\n",
              "      <th>16</th>\n",
              "      <td>0</td>\n",
              "      <td>2</td>\n",
              "      <td>17552</td>\n",
              "      <td>1</td>\n",
              "      <td>0</td>\n",
              "      <td>14</td>\n",
              "      <td>24</td>\n",
              "      <td>0</td>\n",
              "      <td>1</td>\n",
              "      <td>1</td>\n",
              "      <td>13210</td>\n",
              "      <td>955</td>\n",
              "      <td>2</td>\n",
              "      <td>25</td>\n",
              "      <td>25</td>\n",
              "      <td>810</td>\n",
              "      <td>0</td>\n",
              "      <td>0</td>\n",
              "      <td>0</td>\n",
              "      <td>0</td>\n",
              "      <td>7</td>\n",
              "      <td>0</td>\n",
              "      <td>2190</td>\n",
              "      <td>238791</td>\n",
              "    </tr>\n",
              "    <tr>\n",
              "      <th>17</th>\n",
              "      <td>0</td>\n",
              "      <td>3</td>\n",
              "      <td>20924</td>\n",
              "      <td>0</td>\n",
              "      <td>0</td>\n",
              "      <td>12</td>\n",
              "      <td>12</td>\n",
              "      <td>0</td>\n",
              "      <td>2</td>\n",
              "      <td>1</td>\n",
              "      <td>16652</td>\n",
              "      <td>488</td>\n",
              "      <td>1</td>\n",
              "      <td>94</td>\n",
              "      <td>94</td>\n",
              "      <td>910</td>\n",
              "      <td>0</td>\n",
              "      <td>0</td>\n",
              "      <td>0</td>\n",
              "      <td>0</td>\n",
              "      <td>3</td>\n",
              "      <td>0</td>\n",
              "      <td>2462</td>\n",
              "      <td>238038</td>\n",
              "    </tr>\n",
              "    <tr>\n",
              "      <th>18</th>\n",
              "      <td>0</td>\n",
              "      <td>0</td>\n",
              "      <td>0</td>\n",
              "      <td>0</td>\n",
              "      <td>0</td>\n",
              "      <td>0</td>\n",
              "      <td>78</td>\n",
              "      <td>0</td>\n",
              "      <td>0</td>\n",
              "      <td>0</td>\n",
              "      <td>0</td>\n",
              "      <td>418</td>\n",
              "      <td>2</td>\n",
              "      <td>25</td>\n",
              "      <td>25</td>\n",
              "      <td>729</td>\n",
              "      <td>0</td>\n",
              "      <td>0</td>\n",
              "      <td>0</td>\n",
              "      <td>0</td>\n",
              "      <td>2</td>\n",
              "      <td>0</td>\n",
              "      <td>579</td>\n",
              "      <td>27000</td>\n",
              "    </tr>\n",
              "    <tr>\n",
              "      <th>19</th>\n",
              "      <td>0</td>\n",
              "      <td>1</td>\n",
              "      <td>15909</td>\n",
              "      <td>0</td>\n",
              "      <td>0</td>\n",
              "      <td>1</td>\n",
              "      <td>47</td>\n",
              "      <td>972</td>\n",
              "      <td>0</td>\n",
              "      <td>0</td>\n",
              "      <td>0</td>\n",
              "      <td>439</td>\n",
              "      <td>2</td>\n",
              "      <td>28</td>\n",
              "      <td>27</td>\n",
              "      <td>1</td>\n",
              "      <td>0</td>\n",
              "      <td>0</td>\n",
              "      <td>0</td>\n",
              "      <td>0</td>\n",
              "      <td>3</td>\n",
              "      <td>944</td>\n",
              "      <td>2794</td>\n",
              "      <td>200557</td>\n",
              "    </tr>\n",
              "  </tbody>\n",
              "</table>\n",
              "</div>"
            ],
            "text/plain": [
              "    assists  boosts  damageDealt  ...  winPoints  winPlacePerc  total_dist\n",
              "0         0       0            0  ...        931          1333       32659\n",
              "1         0       0        18528  ...          0          1918       86131\n",
              "2         1       0        16181  ...          0          2326       28226\n",
              "3         0       0        12671  ...          0           501       30412\n",
              "4         0       0        19381  ...          0           564       18949\n",
              "5         0       0        19381  ...          0           108       17020\n",
              "6         0       0            0  ...        962             0       14367\n",
              "7         0       0         9020  ...        965          2209      185826\n",
              "8         0       0        14541  ...          0          1111       57460\n",
              "9         0       0        13108  ...          0           644       21007\n",
              "10        0       0        12219  ...          0          1180       60453\n",
              "11        0       0        19760  ...          0          1212       42514\n",
              "12        0       0            0  ...          0          2787      321418\n",
              "13        0       1        21623  ...        927          2624      201978\n",
              "14        0       1        19609  ...        996          2699      177376\n",
              "15        0       0        17452  ...          0           832       25488\n",
              "16        0       2        17552  ...          0          2190      238791\n",
              "17        0       3        20924  ...          0          2462      238038\n",
              "18        0       0            0  ...          0           579       27000\n",
              "19        0       1        15909  ...        944          2794      200557\n",
              "\n",
              "[20 rows x 24 columns]"
            ]
          },
          "metadata": {
            "tags": []
          },
          "execution_count": 94
        }
      ]
    },
    {
      "cell_type": "code",
      "metadata": {
        "id": "wICpfJ2Ukwmr",
        "colab_type": "code",
        "colab": {}
      },
      "source": [
        "#working of the huge data requires huge computation power let's take a sample of 300000 rows.\n",
        "samp_data = data_enc.sample(300000)"
      ],
      "execution_count": 0,
      "outputs": []
    },
    {
      "cell_type": "code",
      "metadata": {
        "id": "ePBRZcb8mHx2",
        "colab_type": "code",
        "outputId": "718d5fa4-0359-41f5-ca25-0d55ec63956d",
        "colab": {
          "base_uri": "https://localhost:8080/",
          "height": 50
        }
      },
      "source": [
        "print(data_new.shape)\n",
        "print(samp_data.shape)"
      ],
      "execution_count": 96,
      "outputs": [
        {
          "output_type": "stream",
          "text": [
            "(4421223, 24)\n",
            "(300000, 24)\n"
          ],
          "name": "stdout"
        }
      ]
    },
    {
      "cell_type": "code",
      "metadata": {
        "id": "up-4LsyTbYuc",
        "colab_type": "code",
        "colab": {}
      },
      "source": [
        "x = samp_data.drop(['winPlacePerc'],axis=1)\n",
        "y = samp_data['winPlacePerc']"
      ],
      "execution_count": 0,
      "outputs": []
    },
    {
      "cell_type": "code",
      "metadata": {
        "id": "tNB1g-P2mmhx",
        "colab_type": "code",
        "colab": {}
      },
      "source": [
        "etr = ExtraTreesRegressor().fit(x,y)"
      ],
      "execution_count": 0,
      "outputs": []
    },
    {
      "cell_type": "code",
      "metadata": {
        "id": "Kr6xPrzStt6v",
        "colab_type": "code",
        "outputId": "bd77438e-dc9e-4352-d3b8-6fda54ba36c0",
        "colab": {
          "base_uri": "https://localhost:8080/",
          "height": 34
        }
      },
      "source": [
        "print(etr.feature_importances_.shape)"
      ],
      "execution_count": 99,
      "outputs": [
        {
          "output_type": "stream",
          "text": [
            "(23,)\n"
          ],
          "name": "stdout"
        }
      ]
    },
    {
      "cell_type": "code",
      "metadata": {
        "id": "XzrKc4UKn2yY",
        "colab_type": "code",
        "outputId": "7fdeef43-2b67-41a2-f593-45b680293280",
        "colab": {
          "base_uri": "https://localhost:8080/",
          "height": 538
        }
      },
      "source": [
        "col = x.columns\n",
        "print(col.shape)\n",
        "print(col)\n",
        "x.dtypes"
      ],
      "execution_count": 100,
      "outputs": [
        {
          "output_type": "stream",
          "text": [
            "(23,)\n",
            "Index(['assists', 'boosts', 'damageDealt', 'DBNOs', 'headshotKills', 'heals',\n",
            "       'killPlace', 'killPoints', 'kills', 'killStreaks', 'longestKill',\n",
            "       'matchDuration', 'matchType', 'maxPlace', 'numGroups', 'rankPoints',\n",
            "       'revives', 'roadKills', 'teamKills', 'vehicleDestroys',\n",
            "       'weaponsAcquired', 'winPoints', 'total_dist'],\n",
            "      dtype='object')\n"
          ],
          "name": "stdout"
        },
        {
          "output_type": "execute_result",
          "data": {
            "text/plain": [
              "assists            int64\n",
              "boosts             int64\n",
              "damageDealt        int64\n",
              "DBNOs              int64\n",
              "headshotKills      int64\n",
              "heals              int64\n",
              "killPlace          int64\n",
              "killPoints         int64\n",
              "kills              int64\n",
              "killStreaks        int64\n",
              "longestKill        int64\n",
              "matchDuration      int64\n",
              "matchType          int64\n",
              "maxPlace           int64\n",
              "numGroups          int64\n",
              "rankPoints         int64\n",
              "revives            int64\n",
              "roadKills          int64\n",
              "teamKills          int64\n",
              "vehicleDestroys    int64\n",
              "weaponsAcquired    int64\n",
              "winPoints          int64\n",
              "total_dist         int64\n",
              "dtype: object"
            ]
          },
          "metadata": {
            "tags": []
          },
          "execution_count": 100
        }
      ]
    },
    {
      "cell_type": "code",
      "metadata": {
        "id": "b5v9rNNAn5jX",
        "colab_type": "code",
        "outputId": "263cb763-c4aa-465f-bd05-c1e94655c479",
        "colab": {
          "base_uri": "https://localhost:8080/",
          "height": 134
        }
      },
      "source": [
        "etr_feat= etr.feature_importances_\n",
        "print(etr_feat.shape)\n",
        "print(etr_feat)"
      ],
      "execution_count": 101,
      "outputs": [
        {
          "output_type": "stream",
          "text": [
            "(23,)\n",
            "[3.78888345e-03 3.29860412e-02 9.15461977e-03 4.62292124e-03\n",
            " 2.62533377e-03 1.18774227e-02 3.16101512e-01 3.21341356e-03\n",
            " 9.93885182e-03 1.19805154e-02 2.42522323e-02 2.50439216e-02\n",
            " 5.84698406e-03 1.33650334e-02 1.62006777e-02 4.20406509e-03\n",
            " 2.75769586e-03 3.78673829e-04 1.02663328e-03 3.90265070e-04\n",
            " 2.61380889e-02 2.92014401e-03 4.71186070e-01]\n"
          ],
          "name": "stdout"
        }
      ]
    },
    {
      "cell_type": "code",
      "metadata": {
        "id": "qNdyJQQ9ok4A",
        "colab_type": "code",
        "outputId": "ff592032-8f70-4eb6-fbfc-7e707d1a5b1d",
        "colab": {
          "base_uri": "https://localhost:8080/",
          "height": 369
        }
      },
      "source": [
        "plt.figure(figsize=(15,5))\n",
        "sns.barplot(col,etr_feat)\n",
        "plt.tight_layout()"
      ],
      "execution_count": 102,
      "outputs": [
        {
          "output_type": "display_data",
          "data": {
            "image/png": "[encoded data removed]",
            "text/plain": [
              "<Figure size 1080x360 with 1 Axes>"
            ]
          },
          "metadata": {
            "tags": []
          }
        }
      ]
    },
    {
      "cell_type": "markdown",
      "metadata": {
        "id": "8eaHu9HD4ePh",
        "colab_type": "text"
      },
      "source": [
        "Since most of the variable is optimal,so there's no need to remove any columns."
      ]
    },
    {
      "cell_type": "markdown",
      "metadata": {
        "id": "pwVSypny5CuT",
        "colab_type": "text"
      },
      "source": [
        "# Predicting Using different algorithm."
      ]
    },
    {
      "cell_type": "code",
      "metadata": {
        "id": "NC9t75Th5Jyt",
        "colab_type": "code",
        "colab": {}
      },
      "source": [
        "from sklearn.metrics import mean_absolute_error,r2_score,mean_squared_error\n",
        "from sklearn.model_selection import train_test_split\n",
        "from sklearn.linear_model import LinearRegression\n",
        "from sklearn.tree import DecisionTreeRegressor\n",
        "from sklearn.ensemble import RandomForestRegressor\n",
        "from sklearn.ensemble import AdaBoostRegressor\n",
        "from sklearn.neighbors import KNeighborsRegressor\n",
        "from sklearn.svm import SVR\n",
        "from xgboost import XGBRegressor"
      ],
      "execution_count": 0,
      "outputs": []
    },
    {
      "cell_type": "code",
      "metadata": {
        "id": "FqoE_-sV7CsU",
        "colab_type": "code",
        "colab": {}
      },
      "source": [
        "x_train,x_test,y_train,y_test = train_test_split(x,y,test_size = 0.10,random_state = 123)"
      ],
      "execution_count": 0,
      "outputs": []
    },
    {
      "cell_type": "code",
      "metadata": {
        "id": "iyZmd5Vb78fK",
        "colab_type": "code",
        "colab": {}
      },
      "source": [
        "linear_model = LinearRegression().fit(x_train,y_train)\n"
      ],
      "execution_count": 0,
      "outputs": []
    },
    {
      "cell_type": "code",
      "metadata": {
        "id": "RCV_5tJKZHKT",
        "colab_type": "code",
        "colab": {}
      },
      "source": [
        "tree_model = DecisionTreeRegressor().fit(x_train,y_train)\n"
      ],
      "execution_count": 0,
      "outputs": []
    },
    {
      "cell_type": "code",
      "metadata": {
        "id": "PqfmNFuFZJUe",
        "colab_type": "code",
        "colab": {}
      },
      "source": [
        "forest_model = RandomForestRegressor().fit(x_train,y_train)\n"
      ],
      "execution_count": 0,
      "outputs": []
    },
    {
      "cell_type": "code",
      "metadata": {
        "id": "fxDQrkIyZTqx",
        "colab_type": "code",
        "colab": {}
      },
      "source": [
        "ada_model = AdaBoostRegressor().fit(x_train,y_train)"
      ],
      "execution_count": 0,
      "outputs": []
    },
    {
      "cell_type": "code",
      "metadata": {
        "id": "ZW6Y3X5WZLxb",
        "colab_type": "code",
        "outputId": "bc274ebc-af16-403c-c18f-396b7cf8f66f",
        "colab": {
          "base_uri": "https://localhost:8080/",
          "height": 34
        }
      },
      "source": [
        "xgb_model = XGBRegressor().fit(x_train,y_train)"
      ],
      "execution_count": 110,
      "outputs": [
        {
          "output_type": "stream",
          "text": [
            "[07:45:17] WARNING: /workspace/src/objective/regression_obj.cu:152: reg:linear is now deprecated in favor of reg:squarederror.\n"
          ],
          "name": "stdout"
        }
      ]
    },
    {
      "cell_type": "code",
      "metadata": {
        "id": "oCtNWP0FZQP9",
        "colab_type": "code",
        "colab": {}
      },
      "source": [
        "neighbor_model = KNeighborsRegressor().fit(x_train,y_train)"
      ],
      "execution_count": 0,
      "outputs": []
    },
    {
      "cell_type": "markdown",
      "metadata": {
        "id": "Osn9PveSGy-3",
        "colab_type": "text"
      },
      "source": [
        "### Predicting on train"
      ]
    },
    {
      "cell_type": "code",
      "metadata": {
        "id": "CFcU_JDbGsr5",
        "colab_type": "code",
        "colab": {}
      },
      "source": [
        "lineartrain = linear_model.predict(x_train)\n",
        "treetrain = tree_model.predict(x_train)\n",
        "foresttrain = forest_model.predict(x_train)\n",
        "neighbortrain = neighbor_model.predict(x_train)\n",
        "xgbtrain = xgb_model.predict(x_train)\n",
        "adatrain = ada_model.predict(x_train)"
      ],
      "execution_count": 0,
      "outputs": []
    },
    {
      "cell_type": "code",
      "metadata": {
        "id": "DUnCsEOc63vX",
        "colab_type": "code",
        "colab": {
          "base_uri": "https://localhost:8080/",
          "height": 67
        },
        "outputId": "1d287e3e-7d6c-47d9-ff6b-8ec8cf36f6d0"
      },
      "source": [
        "k = len(x_train.columns)\n",
        "n = len(x_train)\n",
        "adr = (n-1)/(n-k-1)\n",
        "print(k)\n",
        "print(n)\n",
        "print(adr)"
      ],
      "execution_count": 136,
      "outputs": [
        {
          "output_type": "stream",
          "text": [
            "23\n",
            "270000\n",
            "1.0000851927578747\n"
          ],
          "name": "stdout"
        }
      ]
    },
    {
      "cell_type": "markdown",
      "metadata": {
        "id": "5A4vQxCTxDc8",
        "colab_type": "text"
      },
      "source": [
        "Linear Model accuracy"
      ]
    },
    {
      "cell_type": "code",
      "metadata": {
        "id": "8loF5y0ke_cj",
        "colab_type": "code",
        "colab": {
          "base_uri": "https://localhost:8080/",
          "height": 118
        },
        "outputId": "82da9bc6-623b-430b-d6d5-0bc78584e268"
      },
      "source": [
        "print('MAE :',mean_absolute_error(y_train,lineartrain))\n",
        "print('MSE :',mean_squared_error(y_train,lineartrain))\n",
        "print('RMSE :',np.sqrt(mean_squared_error(y_train,lineartrain)))\n",
        "print('R-Squared :',r2_score(y_train,lineartrain))\n",
        "print('Adjusted R-Squared :',1-(adr*(1-r2_score(y_train,lineartrain))))\n",
        "print('VIF :',1/(1-r2_score(y_train,lineartrain)))"
      ],
      "execution_count": 137,
      "outputs": [
        {
          "output_type": "stream",
          "text": [
            "MAE : 295.5499959527114\n",
            "MSE : 156862.8735032593\n",
            "RMSE : 396.05917929428085\n",
            "R-Squared : 0.8156243580695212\n",
            "Adjusted R-Squared : 0.8156086506001001\n",
            "VIF : 5.423709930062576\n"
          ],
          "name": "stdout"
        }
      ]
    },
    {
      "cell_type": "markdown",
      "metadata": {
        "id": "_6-VWM722YL5",
        "colab_type": "text"
      },
      "source": [
        "Decision tree accuracy"
      ]
    },
    {
      "cell_type": "code",
      "metadata": {
        "id": "-jdLIotC2c4y",
        "colab_type": "code",
        "colab": {
          "base_uri": "https://localhost:8080/",
          "height": 118
        },
        "outputId": "30de7f09-e3fa-40c2-ce76-6582430fd074"
      },
      "source": [
        "print('MAE :',mean_absolute_error(y_train,treetrain))\n",
        "print('MSE :',mean_squared_error(y_train,treetrain))\n",
        "print('RMSE :',np.sqrt(mean_squared_error(y_train,treetrain)))\n",
        "print('R-Squared :',r2_score(y_train,treetrain))\n",
        "print('Adjusted R-Squared :',1-(adr*(1-r2_score(y_train,treetrain))))\n",
        "print('VIF :',1/(1-r2_score(y_train,treetrain)))"
      ],
      "execution_count": 138,
      "outputs": [
        {
          "output_type": "stream",
          "text": [
            "MAE : 0.0\n",
            "MSE : 0.0\n",
            "RMSE : 0.0\n",
            "R-Squared : 1.0\n",
            "Adjusted R-Squared : 1.0\n",
            "VIF : inf\n"
          ],
          "name": "stdout"
        }
      ]
    },
    {
      "cell_type": "markdown",
      "metadata": {
        "id": "xP8Qw07X2oBZ",
        "colab_type": "text"
      },
      "source": [
        "RandomForest accuracy"
      ]
    },
    {
      "cell_type": "code",
      "metadata": {
        "id": "J_TCYRQC2qel",
        "colab_type": "code",
        "colab": {
          "base_uri": "https://localhost:8080/",
          "height": 118
        },
        "outputId": "4df720d3-b666-4d43-d2bb-46182352bc20"
      },
      "source": [
        "print('MAE :',mean_absolute_error(y_train,foresttrain))\n",
        "print('MSE :',mean_squared_error(y_train,foresttrain))\n",
        "print('RMSE :',np.sqrt(mean_squared_error(y_train,foresttrain)))\n",
        "print('R-Squared :',r2_score(y_train,foresttrain))\n",
        "print('Adjusted R-Squared :',1-(adr*(1-r2_score(y_train,foresttrain))))\n",
        "print('VIF :',1/(1-r2_score(y_train,foresttrain)))"
      ],
      "execution_count": 139,
      "outputs": [
        {
          "output_type": "stream",
          "text": [
            "MAE : 69.79871981481482\n",
            "MSE : 9797.19164817889\n",
            "RMSE : 98.98076403109287\n",
            "R-Squared : 0.9884844421187313\n",
            "Adjusted R-Squared : 0.9884834610765969\n",
            "VIF : 86.8390407404065\n"
          ],
          "name": "stdout"
        }
      ]
    },
    {
      "cell_type": "markdown",
      "metadata": {
        "id": "_OfObYym20hy",
        "colab_type": "text"
      },
      "source": [
        "KNN accuracy"
      ]
    },
    {
      "cell_type": "code",
      "metadata": {
        "id": "6bdOPftz23Hn",
        "colab_type": "code",
        "colab": {
          "base_uri": "https://localhost:8080/",
          "height": 118
        },
        "outputId": "11b95c19-4963-4aaf-ac21-afe86a04f975"
      },
      "source": [
        "print('MAE :',mean_absolute_error(y_train,neighbortrain))\n",
        "print('MSE :',mean_squared_error(y_train,neighbortrain))\n",
        "print('RMSE :',np.sqrt(mean_squared_error(y_train,neighbortrain)))\n",
        "print('R-Squared :',r2_score(y_train,neighbortrain))\n",
        "print('Adjusted R-Squared :',1-(adr*(1-r2_score(y_train,neighbortrain))))\n",
        "print('VIF :',1/(1-r2_score(y_train,neighbortrain)))"
      ],
      "execution_count": 140,
      "outputs": [
        {
          "output_type": "stream",
          "text": [
            "MAE : 295.46431185185185\n",
            "MSE : 155717.34779214815\n",
            "RMSE : 394.61037466360176\n",
            "R-Squared : 0.8169708018367239\n",
            "Adjusted R-Squared : 0.8169552090745608\n",
            "VIF : 5.463609140154365\n"
          ],
          "name": "stdout"
        }
      ]
    },
    {
      "cell_type": "markdown",
      "metadata": {
        "id": "z-3FK5w63CKV",
        "colab_type": "text"
      },
      "source": [
        "XGBoost accuracy"
      ]
    },
    {
      "cell_type": "code",
      "metadata": {
        "id": "LcH038uq3BKE",
        "colab_type": "code",
        "colab": {
          "base_uri": "https://localhost:8080/",
          "height": 118
        },
        "outputId": "9661ec9d-ec39-41fa-ba3c-f421b97bc9ea"
      },
      "source": [
        "print('MAE :',mean_absolute_error(y_train,xgbtrain))\n",
        "print('MSE :',mean_squared_error(y_train,xgbtrain))\n",
        "print('RMSE :',np.sqrt(mean_squared_error(y_train,xgbtrain)))\n",
        "print('R-Squared :',r2_score(y_train,xgbtrain))\n",
        "print('Adjusted R-Squared :',1-(adr*(1-r2_score(y_train,xgbtrain))))\n",
        "print('VIF :',1/(1-r2_score(y_train,xgbtrain)))"
      ],
      "execution_count": 141,
      "outputs": [
        {
          "output_type": "stream",
          "text": [
            "MAE : 213.97242708206596\n",
            "MSE : 89813.2933508352\n",
            "RMSE : 299.68866069779017\n",
            "R-Squared : 0.8944340158660514\n",
            "Adjusted R-Squared : 0.8944250224087253\n",
            "VIF : 9.472748330855694\n"
          ],
          "name": "stdout"
        }
      ]
    },
    {
      "cell_type": "markdown",
      "metadata": {
        "id": "ukiyRwqK3SEL",
        "colab_type": "text"
      },
      "source": [
        "ADABoost accuracy"
      ]
    },
    {
      "cell_type": "code",
      "metadata": {
        "id": "6Ve3VbJw3RuS",
        "colab_type": "code",
        "colab": {
          "base_uri": "https://localhost:8080/",
          "height": 118
        },
        "outputId": "0d98d5c6-3893-4fe1-b06e-a568e98d37bb"
      },
      "source": [
        "print('MAE :',mean_absolute_error(y_train,adatrain))\n",
        "print('MSE :',mean_squared_error(y_train,adatrain))\n",
        "print('RMSE :',np.sqrt(mean_squared_error(y_train,adatrain)))\n",
        "print('R-Squared :',r2_score(y_train,adatrain))\n",
        "print('Adjusted R-Squared :',1-(adr*(1-r2_score(y_train,adatrain))))\n",
        "print('VIF :',1/(1-r2_score(y_train,adatrain)))"
      ],
      "execution_count": 142,
      "outputs": [
        {
          "output_type": "stream",
          "text": [
            "MAE : 309.2866539062986\n",
            "MSE : 166286.92218625202\n",
            "RMSE : 407.7829351336959\n",
            "R-Squared : 0.8045473900993101\n",
            "Adjusted R-Squared : 0.8045307389524389\n",
            "VIF : 5.116329735929867\n"
          ],
          "name": "stdout"
        }
      ]
    },
    {
      "cell_type": "markdown",
      "metadata": {
        "id": "En2UqXET3gve",
        "colab_type": "text"
      },
      "source": [
        "### Predicting on test"
      ]
    },
    {
      "cell_type": "code",
      "metadata": {
        "id": "sqmaMh733m5R",
        "colab_type": "code",
        "colab": {}
      },
      "source": [
        "linearpred = linear_model.predict(x_test)\n",
        "treepred = tree_model.predict(x_test)\n",
        "forestpred = forest_model.predict(x_test)\n",
        "neighborpred = neighbor_model.predict(x_test)\n",
        "xgbpred = xgb_model.predict(x_test)\n",
        "adapred = ada_model.predict(x_test)"
      ],
      "execution_count": 0,
      "outputs": []
    },
    {
      "cell_type": "code",
      "metadata": {
        "id": "bPTDtaW19D4H",
        "colab_type": "code",
        "colab": {
          "base_uri": "https://localhost:8080/",
          "height": 67
        },
        "outputId": "2d27c85b-76f3-44e4-90f2-871118bf7c27"
      },
      "source": [
        "k1 = len(x_test.columns)\n",
        "n1 = len(x_test)\n",
        "adr1 = (n1-1)/(n1-k1-1)\n",
        "print(k1)\n",
        "print(n1)\n",
        "print(adr1)"
      ],
      "execution_count": 144,
      "outputs": [
        {
          "output_type": "stream",
          "text": [
            "23\n",
            "30000\n",
            "1.0007672804910595\n"
          ],
          "name": "stdout"
        }
      ]
    },
    {
      "cell_type": "markdown",
      "metadata": {
        "id": "ul7Gm_p34LC0",
        "colab_type": "text"
      },
      "source": [
        "Linear accuracy"
      ]
    },
    {
      "cell_type": "code",
      "metadata": {
        "id": "xxPLAQsq4M0c",
        "colab_type": "code",
        "colab": {
          "base_uri": "https://localhost:8080/",
          "height": 118
        },
        "outputId": "5b319de0-94ea-45c7-c9bb-19828ff552bb"
      },
      "source": [
        "print('MAE :',mean_absolute_error(y_test,linearpred))\n",
        "print('MSE :',mean_squared_error(y_test,linearpred))\n",
        "print('RMSE :',np.sqrt(mean_squared_error(y_test,linearpred)))\n",
        "print('R-Squared :',r2_score(y_test,linearpred))\n",
        "print('Adjusted R-Squared :',1-(adr1*(1-r2_score(y_test,linearpred))))\n",
        "print('VIF :',1/(1-r2_score(y_test,linearpred)))"
      ],
      "execution_count": 145,
      "outputs": [
        {
          "output_type": "stream",
          "text": [
            "MAE : 296.39633108061565\n",
            "MSE : 157720.05020628785\n",
            "RMSE : 397.1398370930419\n",
            "R-Squared : 0.8139371032316823\n",
            "Adjusted R-Squared : 0.813794340800882\n",
            "VIF : 5.374526664739521\n"
          ],
          "name": "stdout"
        }
      ]
    },
    {
      "cell_type": "markdown",
      "metadata": {
        "id": "t5Txmtdh4hqU",
        "colab_type": "text"
      },
      "source": [
        "Decision tree accuracy"
      ]
    },
    {
      "cell_type": "code",
      "metadata": {
        "id": "Ms1p_Oln4jjj",
        "colab_type": "code",
        "colab": {
          "base_uri": "https://localhost:8080/",
          "height": 118
        },
        "outputId": "8527ad53-9d97-4927-a459-f74295e57bae"
      },
      "source": [
        "print('MAE :',mean_absolute_error(y_test,treepred))\n",
        "print('MSE :',mean_squared_error(y_test,treepred))\n",
        "print('RMSE :',np.sqrt(mean_squared_error(y_test,treepred)))\n",
        "print('R-Squared :',r2_score(y_test,treepred))\n",
        "print('Adjusted R-Squared :',1-(adr1*(1-r2_score(y_test,treepred))))\n",
        "print('VIF :',1/(1-r2_score(y_test,treepred)))"
      ],
      "execution_count": 146,
      "outputs": [
        {
          "output_type": "stream",
          "text": [
            "MAE : 263.56606666666664\n",
            "MSE : 142663.07486666666\n",
            "RMSE : 377.7076579401941\n",
            "R-Squared : 0.8316998698843355\n",
            "Adjusted R-Squared : 0.8315707364778551\n",
            "VIF : 5.941766053970064\n"
          ],
          "name": "stdout"
        }
      ]
    },
    {
      "cell_type": "markdown",
      "metadata": {
        "id": "g5bmaHye44cO",
        "colab_type": "text"
      },
      "source": [
        "RandomForest accuracy"
      ]
    },
    {
      "cell_type": "code",
      "metadata": {
        "id": "dWDeTZFi46xR",
        "colab_type": "code",
        "colab": {
          "base_uri": "https://localhost:8080/",
          "height": 118
        },
        "outputId": "c8ca90f0-e6f1-4447-dca8-c25aedd631de"
      },
      "source": [
        "print('MAE :',mean_absolute_error(y_test,forestpred))\n",
        "print('MSE :',mean_squared_error(y_test,forestpred))\n",
        "print('RMSE :',np.sqrt(mean_squared_error(y_test,forestpred)))\n",
        "print('R-Squared :',r2_score(y_test,forestpred))\n",
        "print('Adjusted R-Squared :',1-(adr1*(1-r2_score(y_test,forestpred))))\n",
        "print('VIF :',1/(1-r2_score(y_test,forestpred)))"
      ],
      "execution_count": 147,
      "outputs": [
        {
          "output_type": "stream",
          "text": [
            "MAE : 188.62488133333332\n",
            "MSE : 71291.09102068667\n",
            "RMSE : 267.00391574036263\n",
            "R-Squared : 0.9158976497171192\n",
            "Adjusted R-Squared : 0.9158331196244949\n",
            "VIF : 11.890274131893692\n"
          ],
          "name": "stdout"
        }
      ]
    },
    {
      "cell_type": "markdown",
      "metadata": {
        "id": "O9dF4ZOX5SpR",
        "colab_type": "text"
      },
      "source": [
        "KNN accuracy"
      ]
    },
    {
      "cell_type": "code",
      "metadata": {
        "id": "-MvIcqjp5TUm",
        "colab_type": "code",
        "colab": {
          "base_uri": "https://localhost:8080/",
          "height": 118
        },
        "outputId": "7837f008-b2ba-48fd-e505-8fad38783b78"
      },
      "source": [
        "print('MAE :',mean_absolute_error(y_test,neighborpred))\n",
        "print('MSE :',mean_squared_error(y_test,neighborpred))\n",
        "print('RMSE :',np.sqrt(mean_squared_error(y_test,neighborpred)))\n",
        "print('R-Squared :',r2_score(y_test,neighborpred))\n",
        "print('Adjusted R-Squared :',1-(adr1*(1-r2_score(y_test,neighborpred))))\n",
        "print('VIF :',1/(1-r2_score(y_test,neighborpred)))"
      ],
      "execution_count": 148,
      "outputs": [
        {
          "output_type": "stream",
          "text": [
            "MAE : 363.1679\n",
            "MSE : 236810.26440933332\n",
            "RMSE : 486.63154892519384\n",
            "R-Squared : 0.7206340999584897\n",
            "Adjusted R-Squared : 0.7204197479535206\n",
            "VIF : 3.579534939129695\n"
          ],
          "name": "stdout"
        }
      ]
    },
    {
      "cell_type": "markdown",
      "metadata": {
        "id": "k2mQU15M5Fny",
        "colab_type": "text"
      },
      "source": [
        "XGBoost accuracy"
      ]
    },
    {
      "cell_type": "code",
      "metadata": {
        "id": "gWrI4fOv44BC",
        "colab_type": "code",
        "colab": {
          "base_uri": "https://localhost:8080/",
          "height": 118
        },
        "outputId": "5a7812ca-b0e4-442f-d96b-c2fa47e03775"
      },
      "source": [
        "print('MAE :',mean_absolute_error(y_test,xgbpred))\n",
        "print('MSE :',mean_squared_error(y_test,xgbpred))\n",
        "print('RMSE :',np.sqrt(mean_squared_error(y_test,xgbpred)))\n",
        "print('R-Squared :',r2_score(y_test,xgbpred))\n",
        "print('Adjusted R-Squared :',1-(adr1*(1-r2_score(y_test,xgbpred))))\n",
        "print('VIF :',1/(1-r2_score(y_test,xgbpred)))"
      ],
      "execution_count": 149,
      "outputs": [
        {
          "output_type": "stream",
          "text": [
            "MAE : 216.30213552441995\n",
            "MSE : 92736.03273277651\n",
            "RMSE : 304.5259147146208\n",
            "R-Squared : 0.8905989767154282\n",
            "Adjusted R-Squared : 0.89051503544456\n",
            "VIF : 9.140682326149909\n"
          ],
          "name": "stdout"
        }
      ]
    },
    {
      "cell_type": "markdown",
      "metadata": {
        "id": "lk9Qd0MB5g14",
        "colab_type": "text"
      },
      "source": [
        "ADABoost accuracy"
      ]
    },
    {
      "cell_type": "code",
      "metadata": {
        "id": "KsRYwOAs5gmf",
        "colab_type": "code",
        "colab": {
          "base_uri": "https://localhost:8080/",
          "height": 118
        },
        "outputId": "bc4207aa-361e-41ec-c7a4-2c69f659cff8"
      },
      "source": [
        "print('MAE :',mean_absolute_error(y_test,adapred))\n",
        "print('MSE :',mean_squared_error(y_test,adapred))\n",
        "print('RMSE :',np.sqrt(mean_squared_error(y_test,adapred)))\n",
        "print('R-Squared :',r2_score(y_test,adapred))\n",
        "print('Adjusted R-Squared :',1-(adr1*(1-r2_score(y_test,adapred))))\n",
        "print('VIF :',1/(1-r2_score(y_test,adapred)))"
      ],
      "execution_count": 150,
      "outputs": [
        {
          "output_type": "stream",
          "text": [
            "MAE : 309.53431665025107\n",
            "MSE : 167193.97487565043\n",
            "RMSE : 408.8935984772205\n",
            "R-Squared : 0.8027606810492085\n",
            "Adjusted R-Squared : 0.8026093431677077\n",
            "VIF : 5.069983030358598\n"
          ],
          "name": "stdout"
        }
      ]
    }
  ]
}